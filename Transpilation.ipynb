{
  "nbformat": 4,
  "nbformat_minor": 0,
  "metadata": {
    "colab": {
      "provenance": []
    },
    "kernelspec": {
      "name": "python3",
      "display_name": "Python 3"
    },
    "language_info": {
      "name": "python"
    }
  },
  "cells": [
    {
      "cell_type": "code",
      "execution_count": null,
      "metadata": {
        "colab": {
          "base_uri": "https://localhost:8080/"
        },
        "id": "Kck_LCA7GOno",
        "outputId": "e145973c-3908-4d5a-f8ba-37d955011d8c"
      },
      "outputs": [
        {
          "output_type": "stream",
          "name": "stdout",
          "text": [
            "Collecting qiskit==1.1.0 (from qiskit[visualization]==1.1.0)\n",
            "  Downloading qiskit-1.1.0-cp38-abi3-manylinux_2_17_x86_64.manylinux2014_x86_64.whl.metadata (12 kB)\n",
            "Collecting rustworkx>=0.14.0 (from qiskit==1.1.0->qiskit[visualization]==1.1.0)\n",
            "  Downloading rustworkx-0.15.1-cp38-abi3-manylinux_2_17_x86_64.manylinux2014_x86_64.whl.metadata (9.9 kB)\n",
            "Requirement already satisfied: numpy<3,>=1.17 in /usr/local/lib/python3.10/dist-packages (from qiskit==1.1.0->qiskit[visualization]==1.1.0) (1.25.2)\n",
            "Requirement already satisfied: scipy>=1.5 in /usr/local/lib/python3.10/dist-packages (from qiskit==1.1.0->qiskit[visualization]==1.1.0) (1.13.1)\n",
            "Requirement already satisfied: sympy>=1.3 in /usr/local/lib/python3.10/dist-packages (from qiskit==1.1.0->qiskit[visualization]==1.1.0) (1.13.1)\n",
            "Collecting dill>=0.3 (from qiskit==1.1.0->qiskit[visualization]==1.1.0)\n",
            "  Downloading dill-0.3.8-py3-none-any.whl.metadata (10 kB)\n",
            "Requirement already satisfied: python-dateutil>=2.8.0 in /usr/local/lib/python3.10/dist-packages (from qiskit==1.1.0->qiskit[visualization]==1.1.0) (2.8.2)\n",
            "Collecting stevedore>=3.0.0 (from qiskit==1.1.0->qiskit[visualization]==1.1.0)\n",
            "  Downloading stevedore-5.2.0-py3-none-any.whl.metadata (2.3 kB)\n",
            "Requirement already satisfied: typing-extensions in /usr/local/lib/python3.10/dist-packages (from qiskit==1.1.0->qiskit[visualization]==1.1.0) (4.12.2)\n",
            "Collecting symengine>=0.11 (from qiskit==1.1.0->qiskit[visualization]==1.1.0)\n",
            "  Downloading symengine-0.11.0-cp310-cp310-manylinux_2_12_x86_64.manylinux2010_x86_64.whl.metadata (1.2 kB)\n",
            "Requirement already satisfied: matplotlib>=3.3 in /usr/local/lib/python3.10/dist-packages (from qiskit[visualization]==1.1.0) (3.7.1)\n",
            "Requirement already satisfied: pydot in /usr/local/lib/python3.10/dist-packages (from qiskit[visualization]==1.1.0) (1.4.2)\n",
            "Requirement already satisfied: Pillow>=4.2.1 in /usr/local/lib/python3.10/dist-packages (from qiskit[visualization]==1.1.0) (9.4.0)\n",
            "Collecting pylatexenc>=1.4 (from qiskit[visualization]==1.1.0)\n",
            "  Downloading pylatexenc-2.10.tar.gz (162 kB)\n",
            "\u001b[2K     \u001b[90m━━━━━━━━━━━━━━━━━━━━━━━━━━━━━━━━━━━━━━━━\u001b[0m \u001b[32m162.6/162.6 kB\u001b[0m \u001b[31m1.6 MB/s\u001b[0m eta \u001b[36m0:00:00\u001b[0m\n",
            "\u001b[?25h  Preparing metadata (setup.py) ... \u001b[?25l\u001b[?25hdone\n",
            "Requirement already satisfied: seaborn>=0.9.0 in /usr/local/lib/python3.10/dist-packages (from qiskit[visualization]==1.1.0) (0.13.1)\n",
            "Requirement already satisfied: contourpy>=1.0.1 in /usr/local/lib/python3.10/dist-packages (from matplotlib>=3.3->qiskit[visualization]==1.1.0) (1.2.1)\n",
            "Requirement already satisfied: cycler>=0.10 in /usr/local/lib/python3.10/dist-packages (from matplotlib>=3.3->qiskit[visualization]==1.1.0) (0.12.1)\n",
            "Requirement already satisfied: fonttools>=4.22.0 in /usr/local/lib/python3.10/dist-packages (from matplotlib>=3.3->qiskit[visualization]==1.1.0) (4.53.1)\n",
            "Requirement already satisfied: kiwisolver>=1.0.1 in /usr/local/lib/python3.10/dist-packages (from matplotlib>=3.3->qiskit[visualization]==1.1.0) (1.4.5)\n",
            "Requirement already satisfied: packaging>=20.0 in /usr/local/lib/python3.10/dist-packages (from matplotlib>=3.3->qiskit[visualization]==1.1.0) (24.1)\n",
            "Requirement already satisfied: pyparsing>=2.3.1 in /usr/local/lib/python3.10/dist-packages (from matplotlib>=3.3->qiskit[visualization]==1.1.0) (3.1.2)\n",
            "Requirement already satisfied: six>=1.5 in /usr/local/lib/python3.10/dist-packages (from python-dateutil>=2.8.0->qiskit==1.1.0->qiskit[visualization]==1.1.0) (1.16.0)\n",
            "Requirement already satisfied: pandas>=1.2 in /usr/local/lib/python3.10/dist-packages (from seaborn>=0.9.0->qiskit[visualization]==1.1.0) (2.0.3)\n",
            "Collecting pbr!=2.1.0,>=2.0.0 (from stevedore>=3.0.0->qiskit==1.1.0->qiskit[visualization]==1.1.0)\n",
            "  Downloading pbr-6.0.0-py2.py3-none-any.whl.metadata (1.3 kB)\n",
            "Requirement already satisfied: mpmath<1.4,>=1.1.0 in /usr/local/lib/python3.10/dist-packages (from sympy>=1.3->qiskit==1.1.0->qiskit[visualization]==1.1.0) (1.3.0)\n",
            "Requirement already satisfied: pytz>=2020.1 in /usr/local/lib/python3.10/dist-packages (from pandas>=1.2->seaborn>=0.9.0->qiskit[visualization]==1.1.0) (2024.1)\n",
            "Requirement already satisfied: tzdata>=2022.1 in /usr/local/lib/python3.10/dist-packages (from pandas>=1.2->seaborn>=0.9.0->qiskit[visualization]==1.1.0) (2024.1)\n",
            "Downloading qiskit-1.1.0-cp38-abi3-manylinux_2_17_x86_64.manylinux2014_x86_64.whl (4.3 MB)\n",
            "\u001b[2K   \u001b[90m━━━━━━━━━━━━━━━━━━━━━━━━━━━━━━━━━━━━━━━━\u001b[0m \u001b[32m4.3/4.3 MB\u001b[0m \u001b[31m18.6 MB/s\u001b[0m eta \u001b[36m0:00:00\u001b[0m\n",
            "\u001b[?25hDownloading dill-0.3.8-py3-none-any.whl (116 kB)\n",
            "\u001b[2K   \u001b[90m━━━━━━━━━━━━━━━━━━━━━━━━━━━━━━━━━━━━━━━━\u001b[0m \u001b[32m116.3/116.3 kB\u001b[0m \u001b[31m6.5 MB/s\u001b[0m eta \u001b[36m0:00:00\u001b[0m\n",
            "\u001b[?25hDownloading rustworkx-0.15.1-cp38-abi3-manylinux_2_17_x86_64.manylinux2014_x86_64.whl (2.0 MB)\n",
            "\u001b[2K   \u001b[90m━━━━━━━━━━━━━━━━━━━━━━━━━━━━━━━━━━━━━━━━\u001b[0m \u001b[32m2.0/2.0 MB\u001b[0m \u001b[31m39.7 MB/s\u001b[0m eta \u001b[36m0:00:00\u001b[0m\n",
            "\u001b[?25hDownloading stevedore-5.2.0-py3-none-any.whl (49 kB)\n",
            "\u001b[2K   \u001b[90m━━━━━━━━━━━━━━━━━━━━━━━━━━━━━━━━━━━━━━━━\u001b[0m \u001b[32m49.7/49.7 kB\u001b[0m \u001b[31m2.8 MB/s\u001b[0m eta \u001b[36m0:00:00\u001b[0m\n",
            "\u001b[?25hDownloading symengine-0.11.0-cp310-cp310-manylinux_2_12_x86_64.manylinux2010_x86_64.whl (39.4 MB)\n",
            "\u001b[2K   \u001b[90m━━━━━━━━━━━━━━━━━━━━━━━━━━━━━━━━━━━━━━━━\u001b[0m \u001b[32m39.4/39.4 MB\u001b[0m \u001b[31m14.1 MB/s\u001b[0m eta \u001b[36m0:00:00\u001b[0m\n",
            "\u001b[?25hDownloading pbr-6.0.0-py2.py3-none-any.whl (107 kB)\n",
            "\u001b[2K   \u001b[90m━━━━━━━━━━━━━━━━━━━━━━━━━━━━━━━━━━━━━━━━\u001b[0m \u001b[32m107.5/107.5 kB\u001b[0m \u001b[31m4.2 MB/s\u001b[0m eta \u001b[36m0:00:00\u001b[0m\n",
            "\u001b[?25hBuilding wheels for collected packages: pylatexenc\n",
            "  Building wheel for pylatexenc (setup.py) ... \u001b[?25l\u001b[?25hdone\n",
            "  Created wheel for pylatexenc: filename=pylatexenc-2.10-py3-none-any.whl size=136817 sha256=21d1160853c9cd97df1f97e2fc3d9b8c6761943b0b6a08c668a5862d563c6dd4\n",
            "  Stored in directory: /root/.cache/pip/wheels/d3/31/8b/e09b0386afd80cfc556c00408c9aeea5c35c4d484a9c762fd5\n",
            "Successfully built pylatexenc\n",
            "Installing collected packages: pylatexenc, symengine, rustworkx, pbr, dill, stevedore, qiskit\n",
            "Successfully installed dill-0.3.8 pbr-6.0.0 pylatexenc-2.10 qiskit-1.1.0 rustworkx-0.15.1 stevedore-5.2.0 symengine-0.11.0\n",
            "Collecting qiskit_aer\n",
            "  Downloading qiskit_aer-0.14.2-cp310-cp310-manylinux_2_17_x86_64.manylinux2014_x86_64.whl.metadata (8.1 kB)\n",
            "Requirement already satisfied: qiskit>=0.45.2 in /usr/local/lib/python3.10/dist-packages (from qiskit_aer) (1.1.0)\n",
            "Requirement already satisfied: numpy>=1.16.3 in /usr/local/lib/python3.10/dist-packages (from qiskit_aer) (1.25.2)\n",
            "Requirement already satisfied: scipy>=1.0 in /usr/local/lib/python3.10/dist-packages (from qiskit_aer) (1.13.1)\n",
            "Requirement already satisfied: psutil>=5 in /usr/local/lib/python3.10/dist-packages (from qiskit_aer) (5.9.5)\n",
            "Requirement already satisfied: rustworkx>=0.14.0 in /usr/local/lib/python3.10/dist-packages (from qiskit>=0.45.2->qiskit_aer) (0.15.1)\n",
            "Requirement already satisfied: sympy>=1.3 in /usr/local/lib/python3.10/dist-packages (from qiskit>=0.45.2->qiskit_aer) (1.13.1)\n",
            "Requirement already satisfied: dill>=0.3 in /usr/local/lib/python3.10/dist-packages (from qiskit>=0.45.2->qiskit_aer) (0.3.8)\n",
            "Requirement already satisfied: python-dateutil>=2.8.0 in /usr/local/lib/python3.10/dist-packages (from qiskit>=0.45.2->qiskit_aer) (2.8.2)\n",
            "Requirement already satisfied: stevedore>=3.0.0 in /usr/local/lib/python3.10/dist-packages (from qiskit>=0.45.2->qiskit_aer) (5.2.0)\n",
            "Requirement already satisfied: typing-extensions in /usr/local/lib/python3.10/dist-packages (from qiskit>=0.45.2->qiskit_aer) (4.12.2)\n",
            "Requirement already satisfied: symengine>=0.11 in /usr/local/lib/python3.10/dist-packages (from qiskit>=0.45.2->qiskit_aer) (0.11.0)\n",
            "Requirement already satisfied: six>=1.5 in /usr/local/lib/python3.10/dist-packages (from python-dateutil>=2.8.0->qiskit>=0.45.2->qiskit_aer) (1.16.0)\n",
            "Requirement already satisfied: pbr!=2.1.0,>=2.0.0 in /usr/local/lib/python3.10/dist-packages (from stevedore>=3.0.0->qiskit>=0.45.2->qiskit_aer) (6.0.0)\n",
            "Requirement already satisfied: mpmath<1.4,>=1.1.0 in /usr/local/lib/python3.10/dist-packages (from sympy>=1.3->qiskit>=0.45.2->qiskit_aer) (1.3.0)\n",
            "Downloading qiskit_aer-0.14.2-cp310-cp310-manylinux_2_17_x86_64.manylinux2014_x86_64.whl (12.4 MB)\n",
            "\u001b[2K   \u001b[90m━━━━━━━━━━━━━━━━━━━━━━━━━━━━━━━━━━━━━━━━\u001b[0m \u001b[32m12.4/12.4 MB\u001b[0m \u001b[31m57.2 MB/s\u001b[0m eta \u001b[36m0:00:00\u001b[0m\n",
            "\u001b[?25hInstalling collected packages: qiskit_aer\n",
            "Successfully installed qiskit_aer-0.14.2\n",
            "Collecting qiskit_ibm_runtime\n",
            "  Downloading qiskit_ibm_runtime-0.25.0-py3-none-any.whl.metadata (19 kB)\n",
            "Requirement already satisfied: requests>=2.19 in /usr/local/lib/python3.10/dist-packages (from qiskit_ibm_runtime) (2.31.0)\n",
            "Collecting requests-ntlm>=1.1.0 (from qiskit_ibm_runtime)\n",
            "  Downloading requests_ntlm-1.3.0-py3-none-any.whl.metadata (2.4 kB)\n",
            "Requirement already satisfied: numpy>=1.13 in /usr/local/lib/python3.10/dist-packages (from qiskit_ibm_runtime) (1.25.2)\n",
            "Requirement already satisfied: urllib3>=1.21.1 in /usr/local/lib/python3.10/dist-packages (from qiskit_ibm_runtime) (2.0.7)\n",
            "Requirement already satisfied: python-dateutil>=2.8.0 in /usr/local/lib/python3.10/dist-packages (from qiskit_ibm_runtime) (2.8.2)\n",
            "Requirement already satisfied: websocket-client>=1.5.1 in /usr/local/lib/python3.10/dist-packages (from qiskit_ibm_runtime) (1.8.0)\n",
            "Collecting ibm-platform-services>=0.22.6 (from qiskit_ibm_runtime)\n",
            "  Downloading ibm-platform-services-0.55.1.tar.gz (323 kB)\n",
            "\u001b[2K     \u001b[90m━━━━━━━━━━━━━━━━━━━━━━━━━━━━━━━━━━━━━━━━\u001b[0m \u001b[32m323.1/323.1 kB\u001b[0m \u001b[31m2.4 MB/s\u001b[0m eta \u001b[36m0:00:00\u001b[0m\n",
            "\u001b[?25h  Installing build dependencies ... \u001b[?25l\u001b[?25hdone\n",
            "  Getting requirements to build wheel ... \u001b[?25l\u001b[?25hdone\n",
            "  Preparing metadata (pyproject.toml) ... \u001b[?25l\u001b[?25hdone\n",
            "Requirement already satisfied: pydantic>=2.5.0 in /usr/local/lib/python3.10/dist-packages (from qiskit_ibm_runtime) (2.8.2)\n",
            "Requirement already satisfied: qiskit>=1.1.0 in /usr/local/lib/python3.10/dist-packages (from qiskit_ibm_runtime) (1.1.0)\n",
            "Collecting ibm-cloud-sdk-core<4.0.0,>=3.20.3 (from ibm-platform-services>=0.22.6->qiskit_ibm_runtime)\n",
            "  Downloading ibm-cloud-sdk-core-3.20.3.tar.gz (62 kB)\n",
            "\u001b[2K     \u001b[90m━━━━━━━━━━━━━━━━━━━━━━━━━━━━━━━━━━━━━━━━\u001b[0m \u001b[32m62.7/62.7 kB\u001b[0m \u001b[31m3.7 MB/s\u001b[0m eta \u001b[36m0:00:00\u001b[0m\n",
            "\u001b[?25h  Installing build dependencies ... \u001b[?25l\u001b[?25hdone\n",
            "  Getting requirements to build wheel ... \u001b[?25l\u001b[?25hdone\n",
            "  Preparing metadata (pyproject.toml) ... \u001b[?25l\u001b[?25hdone\n",
            "Requirement already satisfied: annotated-types>=0.4.0 in /usr/local/lib/python3.10/dist-packages (from pydantic>=2.5.0->qiskit_ibm_runtime) (0.7.0)\n",
            "Requirement already satisfied: pydantic-core==2.20.1 in /usr/local/lib/python3.10/dist-packages (from pydantic>=2.5.0->qiskit_ibm_runtime) (2.20.1)\n",
            "Requirement already satisfied: typing-extensions>=4.6.1 in /usr/local/lib/python3.10/dist-packages (from pydantic>=2.5.0->qiskit_ibm_runtime) (4.12.2)\n",
            "Requirement already satisfied: six>=1.5 in /usr/local/lib/python3.10/dist-packages (from python-dateutil>=2.8.0->qiskit_ibm_runtime) (1.16.0)\n",
            "Requirement already satisfied: rustworkx>=0.14.0 in /usr/local/lib/python3.10/dist-packages (from qiskit>=1.1.0->qiskit_ibm_runtime) (0.15.1)\n",
            "Requirement already satisfied: scipy>=1.5 in /usr/local/lib/python3.10/dist-packages (from qiskit>=1.1.0->qiskit_ibm_runtime) (1.13.1)\n",
            "Requirement already satisfied: sympy>=1.3 in /usr/local/lib/python3.10/dist-packages (from qiskit>=1.1.0->qiskit_ibm_runtime) (1.13.1)\n",
            "Requirement already satisfied: dill>=0.3 in /usr/local/lib/python3.10/dist-packages (from qiskit>=1.1.0->qiskit_ibm_runtime) (0.3.8)\n",
            "Requirement already satisfied: stevedore>=3.0.0 in /usr/local/lib/python3.10/dist-packages (from qiskit>=1.1.0->qiskit_ibm_runtime) (5.2.0)\n",
            "Requirement already satisfied: symengine>=0.11 in /usr/local/lib/python3.10/dist-packages (from qiskit>=1.1.0->qiskit_ibm_runtime) (0.11.0)\n",
            "Requirement already satisfied: charset-normalizer<4,>=2 in /usr/local/lib/python3.10/dist-packages (from requests>=2.19->qiskit_ibm_runtime) (3.3.2)\n",
            "Requirement already satisfied: idna<4,>=2.5 in /usr/local/lib/python3.10/dist-packages (from requests>=2.19->qiskit_ibm_runtime) (3.7)\n",
            "Requirement already satisfied: certifi>=2017.4.17 in /usr/local/lib/python3.10/dist-packages (from requests>=2.19->qiskit_ibm_runtime) (2024.7.4)\n",
            "Requirement already satisfied: cryptography>=1.3 in /usr/local/lib/python3.10/dist-packages (from requests-ntlm>=1.1.0->qiskit_ibm_runtime) (42.0.8)\n",
            "Collecting pyspnego>=0.4.0 (from requests-ntlm>=1.1.0->qiskit_ibm_runtime)\n",
            "  Downloading pyspnego-0.11.1-py3-none-any.whl.metadata (5.4 kB)\n",
            "Requirement already satisfied: cffi>=1.12 in /usr/local/lib/python3.10/dist-packages (from cryptography>=1.3->requests-ntlm>=1.1.0->qiskit_ibm_runtime) (1.16.0)\n",
            "Collecting urllib3>=1.21.1 (from qiskit_ibm_runtime)\n",
            "  Downloading urllib3-2.2.2-py3-none-any.whl.metadata (6.4 kB)\n",
            "Requirement already satisfied: PyJWT<3.0.0,>=2.8.0 in /usr/local/lib/python3.10/dist-packages (from ibm-cloud-sdk-core<4.0.0,>=3.20.3->ibm-platform-services>=0.22.6->qiskit_ibm_runtime) (2.8.0)\n",
            "Requirement already satisfied: pbr!=2.1.0,>=2.0.0 in /usr/local/lib/python3.10/dist-packages (from stevedore>=3.0.0->qiskit>=1.1.0->qiskit_ibm_runtime) (6.0.0)\n",
            "Requirement already satisfied: mpmath<1.4,>=1.1.0 in /usr/local/lib/python3.10/dist-packages (from sympy>=1.3->qiskit>=1.1.0->qiskit_ibm_runtime) (1.3.0)\n",
            "Requirement already satisfied: pycparser in /usr/local/lib/python3.10/dist-packages (from cffi>=1.12->cryptography>=1.3->requests-ntlm>=1.1.0->qiskit_ibm_runtime) (2.22)\n",
            "Downloading qiskit_ibm_runtime-0.25.0-py3-none-any.whl (2.9 MB)\n",
            "\u001b[2K   \u001b[90m━━━━━━━━━━━━━━━━━━━━━━━━━━━━━━━━━━━━━━━━\u001b[0m \u001b[32m2.9/2.9 MB\u001b[0m \u001b[31m20.6 MB/s\u001b[0m eta \u001b[36m0:00:00\u001b[0m\n",
            "\u001b[?25hDownloading requests_ntlm-1.3.0-py3-none-any.whl (6.6 kB)\n",
            "Downloading urllib3-2.2.2-py3-none-any.whl (121 kB)\n",
            "\u001b[2K   \u001b[90m━━━━━━━━━━━━━━━━━━━━━━━━━━━━━━━━━━━━━━━━\u001b[0m \u001b[32m121.4/121.4 kB\u001b[0m \u001b[31m6.6 MB/s\u001b[0m eta \u001b[36m0:00:00\u001b[0m\n",
            "\u001b[?25hDownloading pyspnego-0.11.1-py3-none-any.whl (130 kB)\n",
            "\u001b[2K   \u001b[90m━━━━━━━━━━━━━━━━━━━━━━━━━━━━━━━━━━━━━━━━\u001b[0m \u001b[32m130.5/130.5 kB\u001b[0m \u001b[31m8.0 MB/s\u001b[0m eta \u001b[36m0:00:00\u001b[0m\n",
            "\u001b[?25hBuilding wheels for collected packages: ibm-platform-services, ibm-cloud-sdk-core\n",
            "  Building wheel for ibm-platform-services (pyproject.toml) ... \u001b[?25l\u001b[?25hdone\n",
            "  Created wheel for ibm-platform-services: filename=ibm_platform_services-0.55.1-py3-none-any.whl size=339686 sha256=fee769711405af1c35a4f470edf29d800bfa0eb6175d4876fc2f3b0af3c92801\n",
            "  Stored in directory: /root/.cache/pip/wheels/85/ac/f7/fcc0f6fb6fd090cb2c4f6f9fc55fd5aa36af0bfe1f44a9af71\n",
            "  Building wheel for ibm-cloud-sdk-core (pyproject.toml) ... \u001b[?25l\u001b[?25hdone\n",
            "  Created wheel for ibm-cloud-sdk-core: filename=ibm_cloud_sdk_core-3.20.3-py3-none-any.whl size=102558 sha256=47e655807cdacc930a92a6c85b09ada834819eb98aec05326140b22c690be3ba\n",
            "  Stored in directory: /root/.cache/pip/wheels/37/52/12/4283874e4e1f9be8c89f05de7971a7619fdffe8abf1ac989cd\n",
            "Successfully built ibm-platform-services ibm-cloud-sdk-core\n",
            "Installing collected packages: urllib3, pyspnego, ibm-cloud-sdk-core, requests-ntlm, ibm-platform-services, qiskit_ibm_runtime\n",
            "  Attempting uninstall: urllib3\n",
            "    Found existing installation: urllib3 2.0.7\n",
            "    Uninstalling urllib3-2.0.7:\n",
            "      Successfully uninstalled urllib3-2.0.7\n",
            "Successfully installed ibm-cloud-sdk-core-3.20.3 ibm-platform-services-0.55.1 pyspnego-0.11.1 qiskit_ibm_runtime-0.25.0 requests-ntlm-1.3.0 urllib3-2.2.2\n",
            "Requirement already satisfied: matplotlib in /usr/local/lib/python3.10/dist-packages (3.7.1)\n",
            "Requirement already satisfied: contourpy>=1.0.1 in /usr/local/lib/python3.10/dist-packages (from matplotlib) (1.2.1)\n",
            "Requirement already satisfied: cycler>=0.10 in /usr/local/lib/python3.10/dist-packages (from matplotlib) (0.12.1)\n",
            "Requirement already satisfied: fonttools>=4.22.0 in /usr/local/lib/python3.10/dist-packages (from matplotlib) (4.53.1)\n",
            "Requirement already satisfied: kiwisolver>=1.0.1 in /usr/local/lib/python3.10/dist-packages (from matplotlib) (1.4.5)\n",
            "Requirement already satisfied: numpy>=1.20 in /usr/local/lib/python3.10/dist-packages (from matplotlib) (1.25.2)\n",
            "Requirement already satisfied: packaging>=20.0 in /usr/local/lib/python3.10/dist-packages (from matplotlib) (24.1)\n",
            "Requirement already satisfied: pillow>=6.2.0 in /usr/local/lib/python3.10/dist-packages (from matplotlib) (9.4.0)\n",
            "Requirement already satisfied: pyparsing>=2.3.1 in /usr/local/lib/python3.10/dist-packages (from matplotlib) (3.1.2)\n",
            "Requirement already satisfied: python-dateutil>=2.7 in /usr/local/lib/python3.10/dist-packages (from matplotlib) (2.8.2)\n",
            "Requirement already satisfied: six>=1.5 in /usr/local/lib/python3.10/dist-packages (from python-dateutil>=2.7->matplotlib) (1.16.0)\n",
            "Requirement already satisfied: pylatexenc in /usr/local/lib/python3.10/dist-packages (2.10)\n",
            "Collecting prototype-zne\n",
            "  Downloading prototype_zne-1.3.1-py3-none-any.whl.metadata (11 kB)\n",
            "Requirement already satisfied: qiskit>=0.45.1 in /usr/local/lib/python3.10/dist-packages (from prototype-zne) (1.1.0)\n",
            "Requirement already satisfied: rustworkx>=0.14.0 in /usr/local/lib/python3.10/dist-packages (from qiskit>=0.45.1->prototype-zne) (0.15.1)\n",
            "Requirement already satisfied: numpy<3,>=1.17 in /usr/local/lib/python3.10/dist-packages (from qiskit>=0.45.1->prototype-zne) (1.25.2)\n",
            "Requirement already satisfied: scipy>=1.5 in /usr/local/lib/python3.10/dist-packages (from qiskit>=0.45.1->prototype-zne) (1.13.1)\n",
            "Requirement already satisfied: sympy>=1.3 in /usr/local/lib/python3.10/dist-packages (from qiskit>=0.45.1->prototype-zne) (1.13.1)\n",
            "Requirement already satisfied: dill>=0.3 in /usr/local/lib/python3.10/dist-packages (from qiskit>=0.45.1->prototype-zne) (0.3.8)\n",
            "Requirement already satisfied: python-dateutil>=2.8.0 in /usr/local/lib/python3.10/dist-packages (from qiskit>=0.45.1->prototype-zne) (2.8.2)\n",
            "Requirement already satisfied: stevedore>=3.0.0 in /usr/local/lib/python3.10/dist-packages (from qiskit>=0.45.1->prototype-zne) (5.2.0)\n",
            "Requirement already satisfied: typing-extensions in /usr/local/lib/python3.10/dist-packages (from qiskit>=0.45.1->prototype-zne) (4.12.2)\n",
            "Requirement already satisfied: symengine>=0.11 in /usr/local/lib/python3.10/dist-packages (from qiskit>=0.45.1->prototype-zne) (0.11.0)\n",
            "Requirement already satisfied: six>=1.5 in /usr/local/lib/python3.10/dist-packages (from python-dateutil>=2.8.0->qiskit>=0.45.1->prototype-zne) (1.16.0)\n",
            "Requirement already satisfied: pbr!=2.1.0,>=2.0.0 in /usr/local/lib/python3.10/dist-packages (from stevedore>=3.0.0->qiskit>=0.45.1->prototype-zne) (6.0.0)\n",
            "Requirement already satisfied: mpmath<1.4,>=1.1.0 in /usr/local/lib/python3.10/dist-packages (from sympy>=1.3->qiskit>=0.45.1->prototype-zne) (1.3.0)\n",
            "Downloading prototype_zne-1.3.1-py3-none-any.whl (56 kB)\n",
            "\u001b[2K   \u001b[90m━━━━━━━━━━━━━━━━━━━━━━━━━━━━━━━━━━━━━━━━\u001b[0m \u001b[32m56.5/56.5 kB\u001b[0m \u001b[31m1.0 MB/s\u001b[0m eta \u001b[36m0:00:00\u001b[0m\n",
            "\u001b[?25hInstalling collected packages: prototype-zne\n",
            "Successfully installed prototype-zne-1.3.1\n",
            "Collecting git+https://github.com/qiskit-community/Quantum-Challenge-Grader.git\n",
            "  Cloning https://github.com/qiskit-community/Quantum-Challenge-Grader.git to /tmp/pip-req-build-hsovjr2v\n",
            "  Running command git clone --filter=blob:none --quiet https://github.com/qiskit-community/Quantum-Challenge-Grader.git /tmp/pip-req-build-hsovjr2v\n",
            "  Resolved https://github.com/qiskit-community/Quantum-Challenge-Grader.git to commit bcaff898473fd54f3e2668f162817947787f7268\n",
            "  Preparing metadata (setup.py) ... \u001b[?25l\u001b[?25hdone\n",
            "Requirement already satisfied: typeguard in /usr/local/lib/python3.10/dist-packages (from qc_grader==0.19.7) (4.3.0)\n",
            "Collecting jsonpickle==3.0.3 (from qc_grader==0.19.7)\n",
            "  Downloading jsonpickle-3.0.3-py3-none-any.whl.metadata (7.3 kB)\n",
            "Collecting ipycytoscape (from qc_grader==0.19.7)\n",
            "  Downloading ipycytoscape-1.3.3-py2.py3-none-any.whl.metadata (7.5 kB)\n",
            "Requirement already satisfied: plotly in /usr/local/lib/python3.10/dist-packages (from qc_grader==0.19.7) (5.15.0)\n",
            "Collecting networkx==3.2.1 (from qc_grader==0.19.7)\n",
            "  Downloading networkx-3.2.1-py3-none-any.whl.metadata (5.2 kB)\n",
            "Requirement already satisfied: graphviz in /usr/local/lib/python3.10/dist-packages (from qc_grader==0.19.7) (0.20.3)\n",
            "Requirement already satisfied: ipywidgets>=7.6.0 in /usr/local/lib/python3.10/dist-packages (from ipycytoscape->qc_grader==0.19.7) (7.7.1)\n",
            "Collecting spectate>=1.0.0 (from ipycytoscape->qc_grader==0.19.7)\n",
            "  Downloading spectate-1.0.1-py2.py3-none-any.whl.metadata (2.2 kB)\n",
            "Requirement already satisfied: tenacity>=6.2.0 in /usr/local/lib/python3.10/dist-packages (from plotly->qc_grader==0.19.7) (8.5.0)\n",
            "Requirement already satisfied: packaging in /usr/local/lib/python3.10/dist-packages (from plotly->qc_grader==0.19.7) (24.1)\n",
            "Requirement already satisfied: typing-extensions>=4.10.0 in /usr/local/lib/python3.10/dist-packages (from typeguard->qc_grader==0.19.7) (4.12.2)\n",
            "Requirement already satisfied: ipykernel>=4.5.1 in /usr/local/lib/python3.10/dist-packages (from ipywidgets>=7.6.0->ipycytoscape->qc_grader==0.19.7) (5.5.6)\n",
            "Requirement already satisfied: ipython-genutils~=0.2.0 in /usr/local/lib/python3.10/dist-packages (from ipywidgets>=7.6.0->ipycytoscape->qc_grader==0.19.7) (0.2.0)\n",
            "Requirement already satisfied: traitlets>=4.3.1 in /usr/local/lib/python3.10/dist-packages (from ipywidgets>=7.6.0->ipycytoscape->qc_grader==0.19.7) (5.7.1)\n",
            "Requirement already satisfied: widgetsnbextension~=3.6.0 in /usr/local/lib/python3.10/dist-packages (from ipywidgets>=7.6.0->ipycytoscape->qc_grader==0.19.7) (3.6.7)\n",
            "Requirement already satisfied: ipython>=4.0.0 in /usr/local/lib/python3.10/dist-packages (from ipywidgets>=7.6.0->ipycytoscape->qc_grader==0.19.7) (7.34.0)\n",
            "Requirement already satisfied: jupyterlab-widgets>=1.0.0 in /usr/local/lib/python3.10/dist-packages (from ipywidgets>=7.6.0->ipycytoscape->qc_grader==0.19.7) (3.0.11)\n",
            "Requirement already satisfied: jupyter-client in /usr/local/lib/python3.10/dist-packages (from ipykernel>=4.5.1->ipywidgets>=7.6.0->ipycytoscape->qc_grader==0.19.7) (6.1.12)\n",
            "Requirement already satisfied: tornado>=4.2 in /usr/local/lib/python3.10/dist-packages (from ipykernel>=4.5.1->ipywidgets>=7.6.0->ipycytoscape->qc_grader==0.19.7) (6.3.3)\n",
            "Requirement already satisfied: setuptools>=18.5 in /usr/local/lib/python3.10/dist-packages (from ipython>=4.0.0->ipywidgets>=7.6.0->ipycytoscape->qc_grader==0.19.7) (71.0.4)\n",
            "Collecting jedi>=0.16 (from ipython>=4.0.0->ipywidgets>=7.6.0->ipycytoscape->qc_grader==0.19.7)\n",
            "  Downloading jedi-0.19.1-py2.py3-none-any.whl.metadata (22 kB)\n",
            "Requirement already satisfied: decorator in /usr/local/lib/python3.10/dist-packages (from ipython>=4.0.0->ipywidgets>=7.6.0->ipycytoscape->qc_grader==0.19.7) (4.4.2)\n",
            "Requirement already satisfied: pickleshare in /usr/local/lib/python3.10/dist-packages (from ipython>=4.0.0->ipywidgets>=7.6.0->ipycytoscape->qc_grader==0.19.7) (0.7.5)\n",
            "Requirement already satisfied: prompt-toolkit!=3.0.0,!=3.0.1,<3.1.0,>=2.0.0 in /usr/local/lib/python3.10/dist-packages (from ipython>=4.0.0->ipywidgets>=7.6.0->ipycytoscape->qc_grader==0.19.7) (3.0.47)\n",
            "Requirement already satisfied: pygments in /usr/local/lib/python3.10/dist-packages (from ipython>=4.0.0->ipywidgets>=7.6.0->ipycytoscape->qc_grader==0.19.7) (2.16.1)\n",
            "Requirement already satisfied: backcall in /usr/local/lib/python3.10/dist-packages (from ipython>=4.0.0->ipywidgets>=7.6.0->ipycytoscape->qc_grader==0.19.7) (0.2.0)\n",
            "Requirement already satisfied: matplotlib-inline in /usr/local/lib/python3.10/dist-packages (from ipython>=4.0.0->ipywidgets>=7.6.0->ipycytoscape->qc_grader==0.19.7) (0.1.7)\n",
            "Requirement already satisfied: pexpect>4.3 in /usr/local/lib/python3.10/dist-packages (from ipython>=4.0.0->ipywidgets>=7.6.0->ipycytoscape->qc_grader==0.19.7) (4.9.0)\n",
            "Requirement already satisfied: notebook>=4.4.1 in /usr/local/lib/python3.10/dist-packages (from widgetsnbextension~=3.6.0->ipywidgets>=7.6.0->ipycytoscape->qc_grader==0.19.7) (6.5.5)\n",
            "Requirement already satisfied: parso<0.9.0,>=0.8.3 in /usr/local/lib/python3.10/dist-packages (from jedi>=0.16->ipython>=4.0.0->ipywidgets>=7.6.0->ipycytoscape->qc_grader==0.19.7) (0.8.4)\n",
            "Requirement already satisfied: jinja2 in /usr/local/lib/python3.10/dist-packages (from notebook>=4.4.1->widgetsnbextension~=3.6.0->ipywidgets>=7.6.0->ipycytoscape->qc_grader==0.19.7) (3.1.4)\n",
            "Requirement already satisfied: pyzmq<25,>=17 in /usr/local/lib/python3.10/dist-packages (from notebook>=4.4.1->widgetsnbextension~=3.6.0->ipywidgets>=7.6.0->ipycytoscape->qc_grader==0.19.7) (24.0.1)\n",
            "Requirement already satisfied: argon2-cffi in /usr/local/lib/python3.10/dist-packages (from notebook>=4.4.1->widgetsnbextension~=3.6.0->ipywidgets>=7.6.0->ipycytoscape->qc_grader==0.19.7) (23.1.0)\n",
            "Requirement already satisfied: jupyter-core>=4.6.1 in /usr/local/lib/python3.10/dist-packages (from notebook>=4.4.1->widgetsnbextension~=3.6.0->ipywidgets>=7.6.0->ipycytoscape->qc_grader==0.19.7) (5.7.2)\n",
            "Requirement already satisfied: nbformat in /usr/local/lib/python3.10/dist-packages (from notebook>=4.4.1->widgetsnbextension~=3.6.0->ipywidgets>=7.6.0->ipycytoscape->qc_grader==0.19.7) (5.10.4)\n",
            "Requirement already satisfied: nbconvert>=5 in /usr/local/lib/python3.10/dist-packages (from notebook>=4.4.1->widgetsnbextension~=3.6.0->ipywidgets>=7.6.0->ipycytoscape->qc_grader==0.19.7) (6.5.4)\n",
            "Requirement already satisfied: nest-asyncio>=1.5 in /usr/local/lib/python3.10/dist-packages (from notebook>=4.4.1->widgetsnbextension~=3.6.0->ipywidgets>=7.6.0->ipycytoscape->qc_grader==0.19.7) (1.6.0)\n",
            "Requirement already satisfied: Send2Trash>=1.8.0 in /usr/local/lib/python3.10/dist-packages (from notebook>=4.4.1->widgetsnbextension~=3.6.0->ipywidgets>=7.6.0->ipycytoscape->qc_grader==0.19.7) (1.8.3)\n",
            "Requirement already satisfied: terminado>=0.8.3 in /usr/local/lib/python3.10/dist-packages (from notebook>=4.4.1->widgetsnbextension~=3.6.0->ipywidgets>=7.6.0->ipycytoscape->qc_grader==0.19.7) (0.18.1)\n",
            "Requirement already satisfied: prometheus-client in /usr/local/lib/python3.10/dist-packages (from notebook>=4.4.1->widgetsnbextension~=3.6.0->ipywidgets>=7.6.0->ipycytoscape->qc_grader==0.19.7) (0.20.0)\n",
            "Requirement already satisfied: nbclassic>=0.4.7 in /usr/local/lib/python3.10/dist-packages (from notebook>=4.4.1->widgetsnbextension~=3.6.0->ipywidgets>=7.6.0->ipycytoscape->qc_grader==0.19.7) (1.1.0)\n",
            "Requirement already satisfied: python-dateutil>=2.1 in /usr/local/lib/python3.10/dist-packages (from jupyter-client->ipykernel>=4.5.1->ipywidgets>=7.6.0->ipycytoscape->qc_grader==0.19.7) (2.8.2)\n",
            "Requirement already satisfied: ptyprocess>=0.5 in /usr/local/lib/python3.10/dist-packages (from pexpect>4.3->ipython>=4.0.0->ipywidgets>=7.6.0->ipycytoscape->qc_grader==0.19.7) (0.7.0)\n",
            "Requirement already satisfied: wcwidth in /usr/local/lib/python3.10/dist-packages (from prompt-toolkit!=3.0.0,!=3.0.1,<3.1.0,>=2.0.0->ipython>=4.0.0->ipywidgets>=7.6.0->ipycytoscape->qc_grader==0.19.7) (0.2.13)\n",
            "Requirement already satisfied: platformdirs>=2.5 in /usr/local/lib/python3.10/dist-packages (from jupyter-core>=4.6.1->notebook>=4.4.1->widgetsnbextension~=3.6.0->ipywidgets>=7.6.0->ipycytoscape->qc_grader==0.19.7) (4.2.2)\n",
            "Requirement already satisfied: notebook-shim>=0.2.3 in /usr/local/lib/python3.10/dist-packages (from nbclassic>=0.4.7->notebook>=4.4.1->widgetsnbextension~=3.6.0->ipywidgets>=7.6.0->ipycytoscape->qc_grader==0.19.7) (0.2.4)\n",
            "Requirement already satisfied: lxml in /usr/local/lib/python3.10/dist-packages (from nbconvert>=5->notebook>=4.4.1->widgetsnbextension~=3.6.0->ipywidgets>=7.6.0->ipycytoscape->qc_grader==0.19.7) (4.9.4)\n",
            "Requirement already satisfied: beautifulsoup4 in /usr/local/lib/python3.10/dist-packages (from nbconvert>=5->notebook>=4.4.1->widgetsnbextension~=3.6.0->ipywidgets>=7.6.0->ipycytoscape->qc_grader==0.19.7) (4.12.3)\n",
            "Requirement already satisfied: bleach in /usr/local/lib/python3.10/dist-packages (from nbconvert>=5->notebook>=4.4.1->widgetsnbextension~=3.6.0->ipywidgets>=7.6.0->ipycytoscape->qc_grader==0.19.7) (6.1.0)\n",
            "Requirement already satisfied: defusedxml in /usr/local/lib/python3.10/dist-packages (from nbconvert>=5->notebook>=4.4.1->widgetsnbextension~=3.6.0->ipywidgets>=7.6.0->ipycytoscape->qc_grader==0.19.7) (0.7.1)\n",
            "Requirement already satisfied: entrypoints>=0.2.2 in /usr/local/lib/python3.10/dist-packages (from nbconvert>=5->notebook>=4.4.1->widgetsnbextension~=3.6.0->ipywidgets>=7.6.0->ipycytoscape->qc_grader==0.19.7) (0.4)\n",
            "Requirement already satisfied: jupyterlab-pygments in /usr/local/lib/python3.10/dist-packages (from nbconvert>=5->notebook>=4.4.1->widgetsnbextension~=3.6.0->ipywidgets>=7.6.0->ipycytoscape->qc_grader==0.19.7) (0.3.0)\n",
            "Requirement already satisfied: MarkupSafe>=2.0 in /usr/local/lib/python3.10/dist-packages (from nbconvert>=5->notebook>=4.4.1->widgetsnbextension~=3.6.0->ipywidgets>=7.6.0->ipycytoscape->qc_grader==0.19.7) (2.1.5)\n",
            "Requirement already satisfied: mistune<2,>=0.8.1 in /usr/local/lib/python3.10/dist-packages (from nbconvert>=5->notebook>=4.4.1->widgetsnbextension~=3.6.0->ipywidgets>=7.6.0->ipycytoscape->qc_grader==0.19.7) (0.8.4)\n",
            "Requirement already satisfied: nbclient>=0.5.0 in /usr/local/lib/python3.10/dist-packages (from nbconvert>=5->notebook>=4.4.1->widgetsnbextension~=3.6.0->ipywidgets>=7.6.0->ipycytoscape->qc_grader==0.19.7) (0.10.0)\n",
            "Requirement already satisfied: pandocfilters>=1.4.1 in /usr/local/lib/python3.10/dist-packages (from nbconvert>=5->notebook>=4.4.1->widgetsnbextension~=3.6.0->ipywidgets>=7.6.0->ipycytoscape->qc_grader==0.19.7) (1.5.1)\n",
            "Requirement already satisfied: tinycss2 in /usr/local/lib/python3.10/dist-packages (from nbconvert>=5->notebook>=4.4.1->widgetsnbextension~=3.6.0->ipywidgets>=7.6.0->ipycytoscape->qc_grader==0.19.7) (1.3.0)\n",
            "Requirement already satisfied: fastjsonschema>=2.15 in /usr/local/lib/python3.10/dist-packages (from nbformat->notebook>=4.4.1->widgetsnbextension~=3.6.0->ipywidgets>=7.6.0->ipycytoscape->qc_grader==0.19.7) (2.20.0)\n",
            "Requirement already satisfied: jsonschema>=2.6 in /usr/local/lib/python3.10/dist-packages (from nbformat->notebook>=4.4.1->widgetsnbextension~=3.6.0->ipywidgets>=7.6.0->ipycytoscape->qc_grader==0.19.7) (4.23.0)\n",
            "Requirement already satisfied: six>=1.5 in /usr/local/lib/python3.10/dist-packages (from python-dateutil>=2.1->jupyter-client->ipykernel>=4.5.1->ipywidgets>=7.6.0->ipycytoscape->qc_grader==0.19.7) (1.16.0)\n",
            "Requirement already satisfied: argon2-cffi-bindings in /usr/local/lib/python3.10/dist-packages (from argon2-cffi->notebook>=4.4.1->widgetsnbextension~=3.6.0->ipywidgets>=7.6.0->ipycytoscape->qc_grader==0.19.7) (21.2.0)\n",
            "Requirement already satisfied: attrs>=22.2.0 in /usr/local/lib/python3.10/dist-packages (from jsonschema>=2.6->nbformat->notebook>=4.4.1->widgetsnbextension~=3.6.0->ipywidgets>=7.6.0->ipycytoscape->qc_grader==0.19.7) (23.2.0)\n",
            "Requirement already satisfied: jsonschema-specifications>=2023.03.6 in /usr/local/lib/python3.10/dist-packages (from jsonschema>=2.6->nbformat->notebook>=4.4.1->widgetsnbextension~=3.6.0->ipywidgets>=7.6.0->ipycytoscape->qc_grader==0.19.7) (2023.12.1)\n",
            "Requirement already satisfied: referencing>=0.28.4 in /usr/local/lib/python3.10/dist-packages (from jsonschema>=2.6->nbformat->notebook>=4.4.1->widgetsnbextension~=3.6.0->ipywidgets>=7.6.0->ipycytoscape->qc_grader==0.19.7) (0.35.1)\n",
            "Requirement already satisfied: rpds-py>=0.7.1 in /usr/local/lib/python3.10/dist-packages (from jsonschema>=2.6->nbformat->notebook>=4.4.1->widgetsnbextension~=3.6.0->ipywidgets>=7.6.0->ipycytoscape->qc_grader==0.19.7) (0.19.0)\n",
            "Requirement already satisfied: jupyter-server<3,>=1.8 in /usr/local/lib/python3.10/dist-packages (from notebook-shim>=0.2.3->nbclassic>=0.4.7->notebook>=4.4.1->widgetsnbextension~=3.6.0->ipywidgets>=7.6.0->ipycytoscape->qc_grader==0.19.7) (1.24.0)\n",
            "Requirement already satisfied: cffi>=1.0.1 in /usr/local/lib/python3.10/dist-packages (from argon2-cffi-bindings->argon2-cffi->notebook>=4.4.1->widgetsnbextension~=3.6.0->ipywidgets>=7.6.0->ipycytoscape->qc_grader==0.19.7) (1.16.0)\n",
            "Requirement already satisfied: soupsieve>1.2 in /usr/local/lib/python3.10/dist-packages (from beautifulsoup4->nbconvert>=5->notebook>=4.4.1->widgetsnbextension~=3.6.0->ipywidgets>=7.6.0->ipycytoscape->qc_grader==0.19.7) (2.5)\n",
            "Requirement already satisfied: webencodings in /usr/local/lib/python3.10/dist-packages (from bleach->nbconvert>=5->notebook>=4.4.1->widgetsnbextension~=3.6.0->ipywidgets>=7.6.0->ipycytoscape->qc_grader==0.19.7) (0.5.1)\n",
            "Requirement already satisfied: pycparser in /usr/local/lib/python3.10/dist-packages (from cffi>=1.0.1->argon2-cffi-bindings->argon2-cffi->notebook>=4.4.1->widgetsnbextension~=3.6.0->ipywidgets>=7.6.0->ipycytoscape->qc_grader==0.19.7) (2.22)\n",
            "Requirement already satisfied: anyio<4,>=3.1.0 in /usr/local/lib/python3.10/dist-packages (from jupyter-server<3,>=1.8->notebook-shim>=0.2.3->nbclassic>=0.4.7->notebook>=4.4.1->widgetsnbextension~=3.6.0->ipywidgets>=7.6.0->ipycytoscape->qc_grader==0.19.7) (3.7.1)\n",
            "Requirement already satisfied: websocket-client in /usr/local/lib/python3.10/dist-packages (from jupyter-server<3,>=1.8->notebook-shim>=0.2.3->nbclassic>=0.4.7->notebook>=4.4.1->widgetsnbextension~=3.6.0->ipywidgets>=7.6.0->ipycytoscape->qc_grader==0.19.7) (1.8.0)\n",
            "Requirement already satisfied: idna>=2.8 in /usr/local/lib/python3.10/dist-packages (from anyio<4,>=3.1.0->jupyter-server<3,>=1.8->notebook-shim>=0.2.3->nbclassic>=0.4.7->notebook>=4.4.1->widgetsnbextension~=3.6.0->ipywidgets>=7.6.0->ipycytoscape->qc_grader==0.19.7) (3.7)\n",
            "Requirement already satisfied: sniffio>=1.1 in /usr/local/lib/python3.10/dist-packages (from anyio<4,>=3.1.0->jupyter-server<3,>=1.8->notebook-shim>=0.2.3->nbclassic>=0.4.7->notebook>=4.4.1->widgetsnbextension~=3.6.0->ipywidgets>=7.6.0->ipycytoscape->qc_grader==0.19.7) (1.3.1)\n",
            "Requirement already satisfied: exceptiongroup in /usr/local/lib/python3.10/dist-packages (from anyio<4,>=3.1.0->jupyter-server<3,>=1.8->notebook-shim>=0.2.3->nbclassic>=0.4.7->notebook>=4.4.1->widgetsnbextension~=3.6.0->ipywidgets>=7.6.0->ipycytoscape->qc_grader==0.19.7) (1.2.2)\n",
            "Downloading jsonpickle-3.0.3-py3-none-any.whl (40 kB)\n",
            "\u001b[2K   \u001b[90m━━━━━━━━━━━━━━━━━━━━━━━━━━━━━━━━━━━━━━━━\u001b[0m \u001b[32m40.8/40.8 kB\u001b[0m \u001b[31m1.6 MB/s\u001b[0m eta \u001b[36m0:00:00\u001b[0m\n",
            "\u001b[?25hDownloading networkx-3.2.1-py3-none-any.whl (1.6 MB)\n",
            "\u001b[2K   \u001b[90m━━━━━━━━━━━━━━━━━━━━━━━━━━━━━━━━━━━━━━━━\u001b[0m \u001b[32m1.6/1.6 MB\u001b[0m \u001b[31m11.2 MB/s\u001b[0m eta \u001b[36m0:00:00\u001b[0m\n",
            "\u001b[?25hDownloading ipycytoscape-1.3.3-py2.py3-none-any.whl (3.6 MB)\n",
            "\u001b[2K   \u001b[90m━━━━━━━━━━━━━━━━━━━━━━━━━━━━━━━━━━━━━━━━\u001b[0m \u001b[32m3.6/3.6 MB\u001b[0m \u001b[31m53.7 MB/s\u001b[0m eta \u001b[36m0:00:00\u001b[0m\n",
            "\u001b[?25hDownloading spectate-1.0.1-py2.py3-none-any.whl (11 kB)\n",
            "Downloading jedi-0.19.1-py2.py3-none-any.whl (1.6 MB)\n",
            "\u001b[2K   \u001b[90m━━━━━━━━━━━━━━━━━━━━━━━━━━━━━━━━━━━━━━━━\u001b[0m \u001b[32m1.6/1.6 MB\u001b[0m \u001b[31m57.2 MB/s\u001b[0m eta \u001b[36m0:00:00\u001b[0m\n",
            "\u001b[?25hBuilding wheels for collected packages: qc_grader\n",
            "  Building wheel for qc_grader (setup.py) ... \u001b[?25l\u001b[?25hdone\n",
            "  Created wheel for qc_grader: filename=qc_grader-0.19.7-py3-none-any.whl size=41436 sha256=22de0bda575514ce00393ac1cb85e52a244c349c726480626ec5343f661adec8\n",
            "  Stored in directory: /tmp/pip-ephem-wheel-cache-tz050wky/wheels/7e/67/91/88d6a5b4dd4beb318ed4e79c807e2be98b7d3c2ea66565a116\n",
            "Successfully built qc_grader\n",
            "Installing collected packages: spectate, networkx, jsonpickle, jedi, ipycytoscape, qc_grader\n",
            "  Attempting uninstall: networkx\n",
            "    Found existing installation: networkx 3.3\n",
            "    Uninstalling networkx-3.3:\n",
            "      Successfully uninstalled networkx-3.3\n",
            "  Attempting uninstall: jsonpickle\n",
            "    Found existing installation: jsonpickle 3.2.2\n",
            "    Uninstalling jsonpickle-3.2.2:\n",
            "      Successfully uninstalled jsonpickle-3.2.2\n",
            "\u001b[31mERROR: pip's dependency resolver does not currently take into account all the packages that are installed. This behaviour is the source of the following dependency conflicts.\n",
            "torch 2.3.1+cu121 requires nvidia-cublas-cu12==12.1.3.1; platform_system == \"Linux\" and platform_machine == \"x86_64\", which is not installed.\n",
            "torch 2.3.1+cu121 requires nvidia-cuda-cupti-cu12==12.1.105; platform_system == \"Linux\" and platform_machine == \"x86_64\", which is not installed.\n",
            "torch 2.3.1+cu121 requires nvidia-cuda-nvrtc-cu12==12.1.105; platform_system == \"Linux\" and platform_machine == \"x86_64\", which is not installed.\n",
            "torch 2.3.1+cu121 requires nvidia-cuda-runtime-cu12==12.1.105; platform_system == \"Linux\" and platform_machine == \"x86_64\", which is not installed.\n",
            "torch 2.3.1+cu121 requires nvidia-cudnn-cu12==8.9.2.26; platform_system == \"Linux\" and platform_machine == \"x86_64\", which is not installed.\n",
            "torch 2.3.1+cu121 requires nvidia-cufft-cu12==11.0.2.54; platform_system == \"Linux\" and platform_machine == \"x86_64\", which is not installed.\n",
            "torch 2.3.1+cu121 requires nvidia-curand-cu12==10.3.2.106; platform_system == \"Linux\" and platform_machine == \"x86_64\", which is not installed.\n",
            "torch 2.3.1+cu121 requires nvidia-cusolver-cu12==11.4.5.107; platform_system == \"Linux\" and platform_machine == \"x86_64\", which is not installed.\n",
            "torch 2.3.1+cu121 requires nvidia-cusparse-cu12==12.1.0.106; platform_system == \"Linux\" and platform_machine == \"x86_64\", which is not installed.\n",
            "torch 2.3.1+cu121 requires nvidia-nccl-cu12==2.20.5; platform_system == \"Linux\" and platform_machine == \"x86_64\", which is not installed.\n",
            "torch 2.3.1+cu121 requires nvidia-nvtx-cu12==12.1.105; platform_system == \"Linux\" and platform_machine == \"x86_64\", which is not installed.\u001b[0m\u001b[31m\n",
            "\u001b[0mSuccessfully installed ipycytoscape-1.3.3 jedi-0.19.1 jsonpickle-3.0.3 networkx-3.2.1 qc_grader-0.19.7 spectate-1.0.1\n"
          ]
        }
      ],
      "source": [
        "!pip install qiskit[visualization]==1.1.0\n",
        "# Use the following if you are on MacOS/zsh\n",
        "#!pip install 'qiskit[visualization]'==1.1.0\n",
        "!pip install qiskit_aer\n",
        "!pip install qiskit_ibm_runtime\n",
        "!pip install matplotlib\n",
        "!pip install pylatexenc\n",
        "!pip install prototype-zne\n",
        "!pip install git+https://github.com/qiskit-community/Quantum-Challenge-Grader.git"
      ]
    },
    {
      "cell_type": "code",
      "source": [
        "### Save API Token, if needed\n",
        "%set_env QXToken=1dff1ebf6f160f67a6905c13041ac6f154d48b5d8abb586bbc45355f9569275d247b0b52c2e6168127dde2bcfb3af42629b96ac906b9b63048d4d97dbd0a6cd6"
      ],
      "metadata": {
        "colab": {
          "base_uri": "https://localhost:8080/"
        },
        "id": "PoYsUHKeGwdf",
        "outputId": "785e4d59-c137-4123-d210-59240be3ff38"
      },
      "execution_count": null,
      "outputs": [
        {
          "output_type": "stream",
          "name": "stdout",
          "text": [
            "env: QXToken=1dff1ebf6f160f67a6905c13041ac6f154d48b5d8abb586bbc45355f9569275d247b0b52c2e6168127dde2bcfb3af42629b96ac906b9b63048d4d97dbd0a6cd6\n"
          ]
        }
      ]
    },
    {
      "cell_type": "code",
      "source": [
        "# import of required libraries and modules\n",
        "from qc_grader.challenges.qgss_2024 import *\n",
        "\n",
        "from math import pi\n",
        "from qiskit.circuit.library import QFT\n",
        "from qiskit.providers.fake_provider import GenericBackendV2, generic_backend_v2\n",
        "generic_backend_v2._NOISE_DEFAULTS[\"cx\"] = (5.99988e-06, 6.99988e-06, 1e-5, 5e-3)\n",
        "\n",
        "from qiskit import transpile, QuantumCircuit\n",
        "from qiskit.circuit import Gate\n",
        "from qiskit.converters import circuit_to_dag\n",
        "from qiskit.transpiler import CouplingMap, StagedPassManager, PassManager, AnalysisPass, TransformationPass\n",
        "from qiskit.transpiler.preset_passmanagers import generate_preset_pass_manager\n",
        "from qiskit.transpiler.preset_passmanagers.common import generate_unroll_3q, generate_embed_passmanager\n",
        "from qiskit.quantum_info import hellinger_fidelity\n",
        "from qiskit.providers.basic_provider import BasicSimulator\n",
        "from qiskit.dagcircuit import DAGCircuit\n",
        "from qiskit_ibm_runtime.fake_provider import FakeTorino\n",
        "\n",
        "# Transpiler Passes\n",
        "## Layout passes\n",
        "from qiskit.transpiler.passes.layout.csp_layout import CSPLayout\n",
        "from qiskit.transpiler.passes.layout.dense_layout import DenseLayout\n",
        "from qiskit.transpiler.passes.layout.sabre_layout import SabreLayout\n",
        "from qiskit.transpiler.passes.layout.vf2_layout import VF2Layout\n",
        "from qiskit.transpiler.passes.layout.trivial_layout import TrivialLayout\n",
        "\n",
        "## Routing passes\n",
        "from qiskit.transpiler.passes.routing.basic_swap import BasicSwap\n",
        "from qiskit.transpiler.passes.routing.lookahead_swap import LookaheadSwap\n",
        "from qiskit.transpiler.passes.routing.sabre_swap import SabreSwap\n",
        "from qiskit.transpiler.passes.routing.stochastic_swap import StochasticSwap\n",
        "from qiskit.transpiler.passes.routing.star_prerouting import StarPreRouting\n",
        "\n",
        "## Synthesis passes (passes for the translation stage)\n",
        "from qiskit.circuit import SessionEquivalenceLibrary\n",
        "from qiskit.circuit.equivalence_library import SessionEquivalenceLibrary\n",
        "from qiskit.transpiler.passes.basis.basis_translator import BasisTranslator\n",
        "from qiskit.transpiler.passes.synthesis.high_level_synthesis import HighLevelSynthesis\n",
        "### The next pass could also be considered an optimization pass.\n",
        "from qiskit.transpiler.passes.synthesis.unitary_synthesis import UnitarySynthesis\n",
        "\n",
        "## Optimization passes\n",
        "from qiskit.transpiler.passes.optimization.collect_1q_runs import Collect1qRuns\n",
        "from qiskit.transpiler.passes.optimization.collect_2q_blocks import Collect2qBlocks\n",
        "from qiskit.transpiler.passes.optimization.consolidate_blocks import ConsolidateBlocks\n",
        "from qiskit.transpiler.passes.optimization.commutative_cancellation import CommutativeCancellation"
      ],
      "metadata": {
        "id": "Pi7SLTOZG33F"
      },
      "execution_count": null,
      "outputs": []
    },
    {
      "cell_type": "code",
      "source": [
        "# get an abstract quantum circuit from Qiskit's library of circuits\n",
        "num_qubits = 10\n",
        "qc = QFT(num_qubits, do_swaps=False)\n",
        "qc.draw()"
      ],
      "metadata": {
        "colab": {
          "base_uri": "https://localhost:8080/",
          "height": 340
        },
        "id": "SO9WqHtRG-Eo",
        "outputId": "75f3f23a-b367-4969-c17f-a57e7ea39d1d"
      },
      "execution_count": null,
      "outputs": [
        {
          "output_type": "execute_result",
          "data": {
            "text/plain": [
              "     ┌──────┐\n",
              "q_0: ┤0     ├\n",
              "     │      │\n",
              "q_1: ┤1     ├\n",
              "     │      │\n",
              "q_2: ┤2     ├\n",
              "     │      │\n",
              "q_3: ┤3     ├\n",
              "     │      │\n",
              "q_4: ┤4     ├\n",
              "     │  QFT │\n",
              "q_5: ┤5     ├\n",
              "     │      │\n",
              "q_6: ┤6     ├\n",
              "     │      │\n",
              "q_7: ┤7     ├\n",
              "     │      │\n",
              "q_8: ┤8     ├\n",
              "     │      │\n",
              "q_9: ┤9     ├\n",
              "     └──────┘"
            ],
            "text/html": [
              "<pre style=\"word-wrap: normal;white-space: pre;background: #fff0;line-height: 1.1;font-family: &quot;Courier New&quot;,Courier,monospace\">     ┌──────┐\n",
              "q_0: ┤0     ├\n",
              "     │      │\n",
              "q_1: ┤1     ├\n",
              "     │      │\n",
              "q_2: ┤2     ├\n",
              "     │      │\n",
              "q_3: ┤3     ├\n",
              "     │      │\n",
              "q_4: ┤4     ├\n",
              "     │  QFT │\n",
              "q_5: ┤5     ├\n",
              "     │      │\n",
              "q_6: ┤6     ├\n",
              "     │      │\n",
              "q_7: ┤7     ├\n",
              "     │      │\n",
              "q_8: ┤8     ├\n",
              "     │      │\n",
              "q_9: ┤9     ├\n",
              "     └──────┘</pre>"
            ]
          },
          "metadata": {},
          "execution_count": 4
        }
      ]
    },
    {
      "cell_type": "code",
      "source": [
        "def count_ops(qc):\n",
        "    ops = {}\n",
        "    for instr in qc.data:\n",
        "        op_name = instr[0].name\n",
        "        if op_name in ops:\n",
        "            ops[op_name] += 1\n",
        "        else:\n",
        "            ops[op_name] = 1\n",
        "    return ops"
      ],
      "metadata": {
        "id": "EnCbV5WAHdDx"
      },
      "execution_count": null,
      "outputs": []
    },
    {
      "cell_type": "code",
      "source": [
        "#Hint: see https://docs.quantum.ibm.com/api/qiskit/qiskit.circuit.QuantumCircuit\n",
        "def get_qc_characteristics(qc):\n",
        "    # Your work goes here!\n",
        "    # determine the quantum circuit depth of `qc` and assign it to `depth`\n",
        "    depth = qc.depth()\n",
        "    # determine the number of qubits in `qc` and assign it to `num_qubits`\n",
        "    num_qubits = qc.num_qubits\n",
        "    # determine the operations in `qc` and assign it to `ops`\n",
        "    ops = count_ops(qc)\n",
        "    # determine the number of n-qubit operations (with n larger than 1) in `qc` and assign it to `num_multi_qubit_ops`,\n",
        "    num_multi_qubit_ops = len([i[0].num_qubits for i in qc.data if i[0].num_qubits > 1])\n",
        "    # do not modify the next line\n",
        "    return {\"depth\":depth, \"num_qubits\":num_qubits, \"ops\":ops, \"num_multi_qubit_ops\": num_multi_qubit_ops}"
      ],
      "metadata": {
        "id": "Y_oYPXW_HgKp"
      },
      "execution_count": null,
      "outputs": []
    },
    {
      "cell_type": "code",
      "source": [
        "# Grade your work!\n",
        "grade_lab1_ex1(get_qc_characteristics)"
      ],
      "metadata": {
        "colab": {
          "base_uri": "https://localhost:8080/"
        },
        "id": "rU1ytMIGHj6y",
        "outputId": "37c21935-9669-41f4-ca74-ccb37d4886de"
      },
      "execution_count": null,
      "outputs": [
        {
          "output_type": "stream",
          "name": "stdout",
          "text": [
            "Submitting your answer. Please wait...\n",
            "Congratulations 🎉! Your answer is correct and has been submitted.\n"
          ]
        }
      ]
    },
    {
      "cell_type": "code",
      "source": [
        "# print quantum circuit characteristics\n",
        "def print_qc_characteristics(qc):\n",
        "    characteristics = get_qc_characteristics(qc)\n",
        "    print(\"Quantum circuit characteristics\")\n",
        "    print(\"  Depth:\", characteristics['depth'])\n",
        "    print(\"  Number of qubits:\", characteristics['num_qubits'])\n",
        "    print(\"  Operations:\", dict(characteristics['ops']))\n",
        "    print(\"  Number of multi-qubit Operations:\", characteristics['num_multi_qubit_ops'])\n",
        "\n",
        "print_qc_characteristics(qc)"
      ],
      "metadata": {
        "colab": {
          "base_uri": "https://localhost:8080/"
        },
        "id": "XH2cjlFSH1aY",
        "outputId": "06ca8efd-d33a-4ae9-e39a-b69d86d632b1"
      },
      "execution_count": null,
      "outputs": [
        {
          "output_type": "stream",
          "name": "stdout",
          "text": [
            "Quantum circuit characteristics\n",
            "  Depth: 1\n",
            "  Number of qubits: 10\n",
            "  Operations: {'QFT': 1}\n",
            "  Number of multi-qubit Operations: 1\n"
          ]
        }
      ]
    },
    {
      "cell_type": "code",
      "source": [
        "qc_dec = qc.decompose()\n",
        "get_qc_characteristics(qc_dec)\n",
        "qc_dec.draw(fold=-1)"
      ],
      "metadata": {
        "colab": {
          "base_uri": "https://localhost:8080/",
          "height": 360
        },
        "id": "7IxgAPbcH23r",
        "outputId": "1cff2e3c-8152-4f54-d23a-6a14638dab2c"
      },
      "execution_count": null,
      "outputs": [
        {
          "output_type": "execute_result",
          "data": {
            "text/plain": [
              "                                                                                                                                                                                                                                                                                                                                                                                                                                                                                                  ┌───┐\n",
              "q_0: ────────────────────────────────────────────────────────────────────────────────────────────────────────────────────────────────────────────────────────────────────────────────────────────────────────────────────────────────────────────────────────────────■────────────────────────────────────────────■──────────────────────────────────────■──────────────────────────────────■───────────────────────────■───────────────────────■──────────────────■─────────────■────────■───────┤ H ├\n",
              "                                                                                                                                                                                                                                                                     │                                            │                                      │                                  │                           │                       │                  │       ┌───┐ │        │P(π/2) └───┘\n",
              "q_1: ──────────────────────────────────────────────────────────────────────────────────────────────────────────────────────────────────────────────────────────────────────────────────────────────────────────────■──────────────────────────────────────■──────────┼──────────────────────────────────■─────────┼────────────────────────────■─────────┼────────────────────────■─────────┼──────────────────■────────┼──────────────■────────┼─────────■────────┼───────┤ H ├─┼────────■────────────\n",
              "                                                                                                                                                                                                                   │                                      │          │                                  │         │                            │         │                        │         │                  │        │        ┌───┐ │        │         │P(π/2)  │       └───┘ │P(π/4)               \n",
              "q_2: ─────────────────────────────────────────────────────────────────────────────────────────────────────────────────────────────────────────────────────────────────■──────────────────────────────────■─────────┼────────────────────────────■─────────┼──────────┼────────────────────────■─────────┼─────────┼───────────────────■────────┼─────────┼───────────────■────────┼─────────┼─────────■────────┼────────┼────────┤ H ├─┼────────┼─────────■────────┼─────────────■─────────────────────\n",
              "                                                                                                                                                                      │                                  │         │                            │         │          │                        │         │         │                   │        │         │         ┌───┐ │        │         │         │P(π/2)  │        │        └───┘ │P(π/4)  │                  │P(π/8)                             \n",
              "q_3: ───────────────────────────────────────────────────────────────────────────────────────────────────────────────────────────■───────────────────────────■─────────┼────────────────────────■─────────┼─────────┼───────────────────■────────┼─────────┼──────────┼───────────────■────────┼─────────┼─────────┼──────────■────────┼────────┼─────────┼─────────┤ H ├─┼────────┼─────────┼─────────■────────┼────────┼──────────────■────────┼──────────────────■───────────────────────────────────\n",
              "                                                                                                                                │                           │         │                        │         │         │                   │        │         │          │         ┌───┐ │        │         │         │          │P(π/2)  │        │         │         └───┘ │P(π/4)  │         │                  │P(π/8)  │                       │P(π/16)                                               \n",
              "q_4: ─────────────────────────────────────────────────────────────────────────────────────────■───────────────────────■─────────┼──────────────────■────────┼─────────┼───────────────■────────┼─────────┼─────────┼──────────■────────┼────────┼─────────┼──────────┼─────────┤ H ├─┼────────┼─────────┼─────────┼──────────■────────┼────────┼─────────┼───────────────■────────┼─────────┼──────────────────■────────┼───────────────────────■──────────────────────────────────────────────────────\n",
              "                                                                                              │                       │         │                  │        │         │         ┌───┐ │        │         │         │          │P(π/2)  │        │         │          │         └───┘ │P(π/4)  │         │         │                   │P(π/8)  │         │                        │P(π/16)  │                           │P(π/32)                                                                       \n",
              "q_5: ─────────────────────────────────────────────────────────────■──────────────────■────────┼──────────────■────────┼─────────┼─────────■────────┼────────┼─────────┼─────────┤ H ├─┼────────┼─────────┼─────────┼──────────■────────┼────────┼─────────┼──────────┼───────────────■────────┼─────────┼─────────┼───────────────────■────────┼─────────┼────────────────────────■─────────┼───────────────────────────■──────────────────────────────────────────────────────────────────────────────\n",
              "                                                                  │                  │        │        ┌───┐ │        │         │         │P(π/2)  │        │         │         └───┘ │P(π/4)  │         │         │                   │P(π/8)  │         │          │                        │P(π/16)  │         │                            │P(π/32)  │                                  │P(π/64)                                                                                                   \n",
              "q_6: ──────────────────────────────────────■─────────────■────────┼─────────■────────┼────────┼────────┤ H ├─┼────────┼─────────┼─────────■────────┼────────┼─────────┼───────────────■────────┼─────────┼─────────┼───────────────────■────────┼─────────┼──────────┼────────────────────────■─────────┼─────────┼────────────────────────────■─────────┼──────────────────────────────────■──────────────────────────────────────────────────────────────────────────────────────────────────────────\n",
              "                                           │       ┌───┐ │        │         │P(π/2)  │        │        └───┘ │P(π/4)  │         │                  │P(π/8)  │         │                        │P(π/16)  │         │                            │P(π/32)  │          │                                  │P(π/64)  │                                      │P(π/128)                                                                                                                                     \n",
              "q_7: ────────────────────■────────■────────┼───────┤ H ├─┼────────┼─────────■────────┼────────┼──────────────■────────┼─────────┼──────────────────■────────┼─────────┼────────────────────────■─────────┼─────────┼────────────────────────────■─────────┼──────────┼──────────────────────────────────■─────────┼──────────────────────────────────────■─────────────────────────────────────────────────────────────────────────────────────────────────────────────────────────────────────────────\n",
              "                   ┌───┐ │        │P(π/2)  │       └───┘ │P(π/4)  │                  │P(π/8)  │                       │P(π/16)  │                           │P(π/32)  │                                  │P(π/64)  │                                      │P(π/128)  │                                            │P(π/256)                                                                                                                                                                            \n",
              "q_8: ──────■───────┤ H ├─┼────────■────────┼─────────────■────────┼──────────────────■────────┼───────────────────────■─────────┼───────────────────────────■─────────┼──────────────────────────────────■─────────┼──────────────────────────────────────■──────────┼────────────────────────────────────────────■────────────────────────────────────────────────────────────────────────────────────────────────────────────────────────────────────────────────────────────────────────────────────\n",
              "     ┌───┐ │P(π/2) └───┘ │P(π/4)           │P(π/8)                │P(π/16)                    │P(π/32)                          │P(π/64)                              │P(π/128)                                    │P(π/256)                                         │P(π/512)                                                                                                                                                                                                                         \n",
              "q_9: ┤ H ├─■─────────────■─────────────────■──────────────────────■───────────────────────────■─────────────────────────────────■─────────────────────────────────────■────────────────────────────────────────────■─────────────────────────────────────────────────■─────────────────────────────────────────────────────────────────────────────────────────────────────────────────────────────────────────────────────────────────────────────────────────────────────────────────────────────────\n",
              "     └───┘                                                                                                                                                                                                                                                                                                                                                                                                                                                                                             "
            ],
            "text/html": [
              "<pre style=\"word-wrap: normal;white-space: pre;background: #fff0;line-height: 1.1;font-family: &quot;Courier New&quot;,Courier,monospace\">                                                                                                                                                                                                                                                                                                                                                                                                                                                                                                  ┌───┐\n",
              "q_0: ────────────────────────────────────────────────────────────────────────────────────────────────────────────────────────────────────────────────────────────────────────────────────────────────────────────────────────────────────────────────────────────────■────────────────────────────────────────────■──────────────────────────────────────■──────────────────────────────────■───────────────────────────■───────────────────────■──────────────────■─────────────■────────■───────┤ H ├\n",
              "                                                                                                                                                                                                                                                                     │                                            │                                      │                                  │                           │                       │                  │       ┌───┐ │        │P(π/2) └───┘\n",
              "q_1: ──────────────────────────────────────────────────────────────────────────────────────────────────────────────────────────────────────────────────────────────────────────────────────────────────────────────■──────────────────────────────────────■──────────┼──────────────────────────────────■─────────┼────────────────────────────■─────────┼────────────────────────■─────────┼──────────────────■────────┼──────────────■────────┼─────────■────────┼───────┤ H ├─┼────────■────────────\n",
              "                                                                                                                                                                                                                   │                                      │          │                                  │         │                            │         │                        │         │                  │        │        ┌───┐ │        │         │P(π/2)  │       └───┘ │P(π/4)               \n",
              "q_2: ─────────────────────────────────────────────────────────────────────────────────────────────────────────────────────────────────────────────────────────────────■──────────────────────────────────■─────────┼────────────────────────────■─────────┼──────────┼────────────────────────■─────────┼─────────┼───────────────────■────────┼─────────┼───────────────■────────┼─────────┼─────────■────────┼────────┼────────┤ H ├─┼────────┼─────────■────────┼─────────────■─────────────────────\n",
              "                                                                                                                                                                      │                                  │         │                            │         │          │                        │         │         │                   │        │         │         ┌───┐ │        │         │         │P(π/2)  │        │        └───┘ │P(π/4)  │                  │P(π/8)                             \n",
              "q_3: ───────────────────────────────────────────────────────────────────────────────────────────────────────────────────────────■───────────────────────────■─────────┼────────────────────────■─────────┼─────────┼───────────────────■────────┼─────────┼──────────┼───────────────■────────┼─────────┼─────────┼──────────■────────┼────────┼─────────┼─────────┤ H ├─┼────────┼─────────┼─────────■────────┼────────┼──────────────■────────┼──────────────────■───────────────────────────────────\n",
              "                                                                                                                                │                           │         │                        │         │         │                   │        │         │          │         ┌───┐ │        │         │         │          │P(π/2)  │        │         │         └───┘ │P(π/4)  │         │                  │P(π/8)  │                       │P(π/16)                                               \n",
              "q_4: ─────────────────────────────────────────────────────────────────────────────────────────■───────────────────────■─────────┼──────────────────■────────┼─────────┼───────────────■────────┼─────────┼─────────┼──────────■────────┼────────┼─────────┼──────────┼─────────┤ H ├─┼────────┼─────────┼─────────┼──────────■────────┼────────┼─────────┼───────────────■────────┼─────────┼──────────────────■────────┼───────────────────────■──────────────────────────────────────────────────────\n",
              "                                                                                              │                       │         │                  │        │         │         ┌───┐ │        │         │         │          │P(π/2)  │        │         │          │         └───┘ │P(π/4)  │         │         │                   │P(π/8)  │         │                        │P(π/16)  │                           │P(π/32)                                                                       \n",
              "q_5: ─────────────────────────────────────────────────────────────■──────────────────■────────┼──────────────■────────┼─────────┼─────────■────────┼────────┼─────────┼─────────┤ H ├─┼────────┼─────────┼─────────┼──────────■────────┼────────┼─────────┼──────────┼───────────────■────────┼─────────┼─────────┼───────────────────■────────┼─────────┼────────────────────────■─────────┼───────────────────────────■──────────────────────────────────────────────────────────────────────────────\n",
              "                                                                  │                  │        │        ┌───┐ │        │         │         │P(π/2)  │        │         │         └───┘ │P(π/4)  │         │         │                   │P(π/8)  │         │          │                        │P(π/16)  │         │                            │P(π/32)  │                                  │P(π/64)                                                                                                   \n",
              "q_6: ──────────────────────────────────────■─────────────■────────┼─────────■────────┼────────┼────────┤ H ├─┼────────┼─────────┼─────────■────────┼────────┼─────────┼───────────────■────────┼─────────┼─────────┼───────────────────■────────┼─────────┼──────────┼────────────────────────■─────────┼─────────┼────────────────────────────■─────────┼──────────────────────────────────■──────────────────────────────────────────────────────────────────────────────────────────────────────────\n",
              "                                           │       ┌───┐ │        │         │P(π/2)  │        │        └───┘ │P(π/4)  │         │                  │P(π/8)  │         │                        │P(π/16)  │         │                            │P(π/32)  │          │                                  │P(π/64)  │                                      │P(π/128)                                                                                                                                     \n",
              "q_7: ────────────────────■────────■────────┼───────┤ H ├─┼────────┼─────────■────────┼────────┼──────────────■────────┼─────────┼──────────────────■────────┼─────────┼────────────────────────■─────────┼─────────┼────────────────────────────■─────────┼──────────┼──────────────────────────────────■─────────┼──────────────────────────────────────■─────────────────────────────────────────────────────────────────────────────────────────────────────────────────────────────────────────────\n",
              "                   ┌───┐ │        │P(π/2)  │       └───┘ │P(π/4)  │                  │P(π/8)  │                       │P(π/16)  │                           │P(π/32)  │                                  │P(π/64)  │                                      │P(π/128)  │                                            │P(π/256)                                                                                                                                                                            \n",
              "q_8: ──────■───────┤ H ├─┼────────■────────┼─────────────■────────┼──────────────────■────────┼───────────────────────■─────────┼───────────────────────────■─────────┼──────────────────────────────────■─────────┼──────────────────────────────────────■──────────┼────────────────────────────────────────────■────────────────────────────────────────────────────────────────────────────────────────────────────────────────────────────────────────────────────────────────────────────────────\n",
              "     ┌───┐ │P(π/2) └───┘ │P(π/4)           │P(π/8)                │P(π/16)                    │P(π/32)                          │P(π/64)                              │P(π/128)                                    │P(π/256)                                         │P(π/512)                                                                                                                                                                                                                         \n",
              "q_9: ┤ H ├─■─────────────■─────────────────■──────────────────────■───────────────────────────■─────────────────────────────────■─────────────────────────────────────■────────────────────────────────────────────■─────────────────────────────────────────────────■─────────────────────────────────────────────────────────────────────────────────────────────────────────────────────────────────────────────────────────────────────────────────────────────────────────────────────────────────\n",
              "     └───┘                                                                                                                                                                                                                                                                                                                                                                                                                                                                                             </pre>"
            ]
          },
          "metadata": {},
          "execution_count": 9
        }
      ]
    },
    {
      "cell_type": "code",
      "source": [
        "backend = GenericBackendV2(num_qubits)\n",
        "print(\"Supported basis gates:\", backend.operation_names)"
      ],
      "metadata": {
        "colab": {
          "base_uri": "https://localhost:8080/"
        },
        "id": "8ozDVEjdH6MB",
        "outputId": "56736a0c-dbf7-4558-c9f6-00dcacfc569c"
      },
      "execution_count": null,
      "outputs": [
        {
          "output_type": "stream",
          "name": "stdout",
          "text": [
            "Supported basis gates: ['cx', 'id', 'rz', 'sx', 'x', 'reset', 'delay', 'measure']\n"
          ]
        }
      ]
    },
    {
      "cell_type": "code",
      "source": [
        "# transpile the qft quantum circuit for the basis gate of our example backend\n",
        "qc_synth = generate_preset_pass_manager(2, backend=backend).run(qc)\n",
        "qc_synth.draw(fold=-1)"
      ],
      "metadata": {
        "colab": {
          "base_uri": "https://localhost:8080/",
          "height": 376
        },
        "id": "6eGbYfVXH_ez",
        "outputId": "4ebdfa1d-7bb6-4c9f-dfd7-7cd6e92be0f2"
      },
      "execution_count": null,
      "outputs": [
        {
          "output_type": "execute_result",
          "data": {
            "text/plain": [
              "global phase: 0\n",
              "                                                                                                       ┌───┐   ┌───────────┐   ┌───┐    ┌──────────┐         ┌───┐    ┌──────────┐    ┌───┐      ┌─────────┐              ┌───┐┌──────────┐                        ┌───┐ ┌──────────┐    ┌────┐   ┌───────────┐                                                                                                                                                                                                                                                                                                                                                                                                                                                                                                                                                                                                                                                                                                                                                         \n",
              "q_6 -> 0 ──────────────────────────────────────────────────────────────────────────────────────────────┤ X ├───┤ Rz(-π/16) ├───┤ X ├────┤ Rz(π/16) ├─────────┤ X ├────┤ Rz(-π/8) ├────┤ X ├──────┤ Rz(π/8) ├──────────────┤ X ├┤ Rz(-π/4) ├────────────────────────┤ X ├─┤ Rz(3π/4) ├────┤ √X ├───┤ Rz(3.117) ├─────────────────────────────────────────────────■────────────────────────■────────────────────────────────────────────────────────────■───────────────────────────────────────────────────■─────────────────────■──────────────────────────────■───────────────────────────────────■──────────────────────────────────■──────────────────■───────────────────────────────────■────────────────────────────■────────────────────────────────────■────────────────────────────────────────────────────────────────────────────────────────────────────────────────────────────────────────────────────────────────────────────────────────────────────────────────────────────────────────────────────────────────────────────────────────────────────────\n",
              "                                        ┌───┐┌──────────┐┌───┐┌──────────┐   ┌────┐   ┌────────────┐   └─┬─┘   └───────────┘   └─┬─┘    └──────────┘         └─┬─┘    └──────────┘    └─┬─┘      └─────────┘              └─┬─┘└──────────┘                        └─┬─┘ └──────────┘    └────┘   └───────────┘                                                 │                        │                                                            │                                                   │                     │                              │                                   │                                  │                  │                                   │                            │                                    │                                                                                                                                                                                                                                                                                                        \n",
              "q_8 -> 1 ───────────────────────────────┤ X ├┤ Rz(-π/4) ├┤ X ├┤ Rz(3π/4) ├───┤ √X ├───┤ Rz(3.1355) ├─────┼───────────■───────────┼────────────────────■────────■────────────────────────■─────────────■─────────────────────┼────────────────■──────────────────■────┼───────────────────────────────────────────■────────■─────────────────────────■───────────┼────────────────────────┼─────────■────────────────────────────────────────■─────────┼──────────────────────■────────────────────────────┼────────■────────────┼────────■─────────────────────┼─────────────────────■─────────────┼──────────────────────────────────┼──────────────────┼───────────────────────────────────┼────────────────────────────┼────────────────────────────────────┼────────────────────────────────────────────────────────────────────────────────────────────────────────────────────────────────────────────────────────────────────────────────────────────────────────────────────────────────────────────────────────────────────────────────────────────────────────\n",
              "                                        └─┬─┘└──────────┘└─┬─┘└──────────┘   └────┘   └────────────┘     │           │           │                    │                                               │                     │     ┌───┐      │  ┌────────────┐  │    │      ┌───┐    ┌───────────┐               │      ┌─┴─┐     ┌───────────┐   ┌─┴─┐         │      ┌──────────┐      │         │                            ┌───┐       │         │  ┌───────────┐       │       ┌───┐ ┌──────────┐   │        │          ┌─┴─┐      │  ┌───────────┐    ┌─┴─┐     ┌──────────┐  │             │          ┌───┐     ┌──────────┐  │      ┌───┐       │   ┌─────────┐              ┌───┐  │  ┌──────────┐              │  ┌───┐ ┌──────────┐     ┌────┐     │  ┌────────────┐                                                                                                                                                                                                                                                                                        \n",
              "q_3 -> 2 ─────────────────────────────────┼────────────────┼─────────────────────────────────────────────┼───────────┼───────────┼────────────────────┼───────────────────────────────────────────────┼─────────────────────┼─────┤ X ├──────┼──┤ Rz(-π/128) ├──┼────┼──────┤ X ├────┤ Rz(π/128) ├───────────────┼──────┤ X ├─────┤ Rz(-π/64) ├───┤ X ├─────────┼──────┤ Rz(π/64) ├──────┼─────────┼────────────────────────────┤ X ├───────┼─────────┼──┤ Rz(-π/32) ├───────┼───────┤ X ├─┤ Rz(π/32) ├───┼────────┼──────────┤ X ├──────┼──┤ Rz(-π/16) ├────┤ X ├─────┤ Rz(π/16) ├──┼─────────────┼──────────┤ X ├─────┤ Rz(-π/8) ├──┼──────┤ X ├───────┼───┤ Rz(π/8) ├──────────────┤ X ├──┼──┤ Rz(-π/4) ├──────────────┼──┤ X ├─┤ Rz(3π/4) ├─────┤ √X ├─────┼──┤ Rz(15π/16) ├─────────────────────────────────────■──────────────────────────────■────────────────────────■───────────────────────■───────────────────■─────────────────────────────■────────────────────────────────────────────────────────────────────────────────────────────────────────────────\n",
              "                                          │                │                                             │           │           │         ┌───┐      │  ┌───────────┐   ┌───┐     ┌──────────┐     ┌─┴─┐    ┌───────────┐  │     └─┬─┘    ┌─┴─┐└┬──────────┬┘  │    │      └─┬─┘    └───┬───┬───┘ ┌──────────┐  │      └───┘     └───┬───┬───┘┌──┴───┴──┐    ┌─┴─┐    ├──────────┤    ┌─┴─┐       │  ┌──────────┐    ┌────┐    └─┬─┘       │         │  ├───────────┴┐      │       └─┬─┘ └──────────┘   │        │          └───┘      │  └───────────┘    └───┘     └──────────┘  │             │          └─┬─┘     └──────────┘  │      └─┬─┘       │   └─────────┘              └─┬─┘  │  └──────────┘              │  └─┬─┘ └──────────┘     └────┘     │  └────────────┘                                     │                              │                        │                       │                   │                             │                                                                                                                \n",
              "q_5 -> 3 ─────────────────────────────────┼────────────────┼─────────────────────────────────────────────┼───────────┼───────────┼─────────┤ X ├──────┼──┤ Rz(-π/32) ├───┤ X ├─────┤ Rz(π/32) ├─────┤ X ├────┤ Rz(-π/16) ├──┼───────┼──────┤ X ├─┤ Rz(π/16) ├───┼────┼────────┼──────────┤ X ├─────┤ Rz(-π/8) ├──┼────────────────────┤ X ├────┤ Rz(π/8) ├────┤ X ├────┤ Rz(-π/4) ├────┤ X ├───────┼──┤ Rz(3π/4) ├────┤ √X ├──────┼─────────┼─────────┼──┤ Rz(3.0925) ├──────┼─────────┼──────────────────┼────────┼─────────────────────┼────────■──────────────────────────────────┼────■────────┼────────────■─────────────────────┼────────■─────────┼────────■─────────────────────┼────┼───────■────────────────────┼────┼────────■──────────────────────┼────────■─────────────────────■──────────────────────┼─────────────────■────────────┼────────────────────────┼───────────────────────┼───────────────────┼─────────────────────────────┼────────────────────────────────────────────────────────────────────────────────────────────────────────────────\n",
              "                                          │                │                                             │           │           │         └─┬─┘      │  └───────────┘   └─┬─┘     └──────────┘     └───┘    └───────────┘  │       │      └───┘ └──────────┘   │    │        │          └─┬─┘     └──────────┘  │                    └─┬─┘    └─────────┘    └───┘    └──┬───┬───┘┌───┴───┴────┐  │  └──┬───┬───┘┌───┴────┴──┐   │         │         │  └────────────┘    ┌─┴─┐       │  ┌────────────┐  │      ┌─┴─┐    ┌───────────┐  │        │                       ┌───┐      │    │        │      ┌────────────┐   ┌───┐      │  ┌───────────┐ ┌─┴─┐      │      ┌───────────┐  │  ┌─┴─┐     │      ┌──────────┐  │    │      ┌─┴─┐     ┌───────────┐  │      ┌─┴─┐     ┌──────────┐  │               ┌───┐  │  ┌───────────┐  │  ┌───┐     │      ┌──────────┐    ┌─┴─┐    ┌──────────┐   ┌─┴─┐    ┌─────────┐  │      ┌───┐    ┌──────────┐  │     ┌───┐    ┌──────────┐   ┌────┐   ┌──────────┐                                                              \n",
              "q_1 -> 4 ─────────────────────────────────┼────────────────┼─────────────────────────────────────────────┼───────────┼───────────┼───────────┼────────┼────────────────────┼────────────────────────────────────────────────┼───────┼───────────────────────────┼────┼────────┼────────────┼─────────────────────┼──────────────────────┼─────────────────────────────────┤ X ├────┤ Rz(-π/512) ├──┼─────┤ X ├────┤ Rz(π/512) ├───┼─────────┼─────────┼────────────────────┤ X ├───────┼──┤ Rz(-π/256) ├──┼──────┤ X ├────┤ Rz(π/256) ├──┼────────┼───────────────────────┤ X ├──────┼────┼────────┼──────┤ Rz(-π/128) ├───┤ X ├──────┼──┤ Rz(π/128) ├─┤ X ├──────┼──────┤ Rz(-π/64) ├──┼──┤ X ├─────┼──────┤ Rz(π/64) ├──┼────┼──────┤ X ├─────┤ Rz(-π/32) ├──┼──────┤ X ├─────┤ Rz(π/32) ├──┼───────────────┤ X ├──┼──┤ Rz(-π/16) ├──┼──┤ X ├─────┼──────┤ Rz(π/16) ├────┤ X ├────┤ Rz(-π/8) ├───┤ X ├────┤ Rz(π/8) ├──┼──────┤ X ├────┤ Rz(-π/4) ├──┼─────┤ X ├────┤ Rz(3π/4) ├───┤ √X ├───┤ Rz(3π/4) ├─────────────■────────────────■───────────────────────────────\n",
              "                                          │                │                                             │           │           │           │        │                    │                                                │       │                           │    │        │            │          ┌───┐      │  ┌────────────┐      │         ┌───┐   ┌───────────┐   └─┬─┘    └────────────┘┌─┴─┐   └─┬─┘    ├───────────┴┐  │       ┌─┴─┐       │  ┌───────────┐     └───┘       │  └───┬───┬────┘  │  ┌───┴───┴───┐└───┬───┬───┘  │        │       ┌──────────┐    └─┬─┘      │    │      ┌─┴─┐    ├───────────┬┘   └─┬─┘    ┌─┴─┐└┬──────────┤ └───┘    ┌─┴─┐    ├───────────┤  │  └───┘   ┌─┴─┐    ├──────────┤  │    │      └───┘     └───┬───┬───┘  │   ┌──┴───┴───┐ └──┬───┬───┘  │   ┌─────────┐ └─┬─┘┌─┴─┐└┬──────────┤  │  └─┬─┘   ┌─┴─┐    ├──────────┤    ├───┴┐   ├──────────┤   └───┘    └─────────┘  │      └─┬─┘    └──────────┘  │     └─┬─┘    └──────────┘   └────┘   └──────────┘             │                │                               \n",
              "q_2 -> 5 ─────────────────────────────────┼────────────────┼─────────────────────────────────────────────┼───────────┼───────────┼───────────┼────────┼────────────────────┼────────────────────────────────────────────────┼───────┼───────────────────────────┼────┼────────┼────────────┼──────────┤ X ├──────┼──┤ Rz(-π/256) ├──────┼─────────┤ X ├───┤ Rz(π/256) ├─────┼────────────────────┤ X ├─────┼──────┤ Rz(-π/128) ├──┼───────┤ X ├───────┼──┤ Rz(π/128) ├─────────────────┼──────┤ X ├───────┼──┤ Rz(-π/64) ├────┤ X ├──────┼────────┼───────┤ Rz(π/64) ├──────┼────────┼────┼──────┤ X ├────┤ Rz(-π/32) ├──────┼──────┤ X ├─┤ Rz(π/32) ├──────────┤ X ├────┤ Rz(-π/16) ├──┼──────────┤ X ├────┤ Rz(π/16) ├──┼────┼────────────────────┤ X ├──────┼───┤ Rz(-π/8) ├────┤ X ├──────┼───┤ Rz(π/8) ├───┼──┤ X ├─┤ Rz(-π/4) ├──┼────┼─────┤ X ├────┤ Rz(3π/4) ├────┤ √X ├───┤ Rz(7π/8) ├─────────────────────────┼────────■────────────────────┼───────■───────────■───────────────────────■───────────────────┼────────────────┼───────────────────────────────\n",
              "         ┌─────────┐┌────┐┌────────────┐  │                │                                             │           │           │           │        │                    │                                                │       │                           │    │        │            │          └─┬─┘      │  └────────────┘      │         └─┬─┘   └───────────┘     │                    └───┘     │      └────────────┘  │       └───┘       │  └───────────┘                 │      └─┬─┘       │  └───────────┘    └─┬─┘      │        │       └──────────┘      │        │    │      └───┘    └───────────┘      │      └───┘ └──────────┘          └───┘    └───────────┘  │          └───┘    └──────────┘  │    │                    └─┬─┘      │   └──────────┘    └─┬─┘      │   └─────────┘   │  └───┘ └──────────┘  │    │     └───┘    └──────────┘    └────┘   └──────────┘                         │                             │                   │                       │                   │                │                               \n",
              "q_9 -> 6 ┤ Rz(π/2) ├┤ √X ├┤ Rz(3.1385) ├──■────────────────■───────■────────────────────────■────────────■───────────┼───────────■───────────■────────┼────────────────────■────────────■──────────────────────────■────────┼───────■───────────────────────────┼────┼────────■────────────┼────────────■────────┼──────────────────────┼───────────■───────────────────────■──────────────────────────────■────────────■─────────┼───────────────────┼────────■───────────────────────┼────────┼─────────┼─────────────────────┼────────┼────────┼─────────────────────────┼────────┼────┼──────────────────────────────────┼──────────────────────────────────────────────────────────┼─────────────────────────────────┼────┼──────────────────────┼────────┼─────────────────────┼────────┼─────────────────┼──────────────────────┼────┼────────────────────────────────────────────────────────────────────────────┼─────────────────────────────┼───────────────────┼───────────────────────┼───────────────────┼────────────────┼───────────────────────────────\n",
              "         └─────────┘└────┘└────────────┘                           │                        │                        │                                │                                 │                          │        │                                   │    │                     │                     │                      │                                                                             ┌─┴─┐       │  ┌─────────────┐  │      ┌─┴─┐     ┌────────────┐  │        │         │                     │      ┌─┴─┐      │      ┌────────────┐     │      ┌─┴─┐  │  ┌───────────┐                   │      ┌───┐┌────────────┐┌───┐┌───────────┐               │                               ┌─┴─┐  │  ┌────────────┐      │      ┌─┴─┐┌───────────┐      │      ┌─┴─┐┌───────────┐  │                    ┌─┴─┐  │  ┌──────────┐   ┌───┐    ┌───────────┐   ┌───┐    ┌──────────┐           ┌─┴─┐┌───────────┐            ┌─┴─┐┌──────────┐   ┌─┴─┐    ┌──────────┐   ┌─┴─┐    ┌─────────┐┌─┴─┐┌──────────┐┌─┴─┐┌──────────┐┌────┐┌─────────┐\n",
              "q_0 -> 7 ──────────────────────────────────────────────────────────┼────────────────────────┼────────────────────────┼────────────────────────────────┼─────────────────────────────────┼──────────────────────────┼────────┼───────────────────────────────────┼────┼─────────────────────┼─────────────────────┼──────────────────────┼─────────────────────────────────────────────────────────────────────────────┤ X ├───────┼──┤ Rz(-π/1024) ├──┼──────┤ X ├─────┤ Rz(π/1024) ├──┼────────┼─────────┼─────────────────────┼──────┤ X ├──────┼──────┤ Rz(-π/512) ├─────┼──────┤ X ├──┼──┤ Rz(π/512) ├───────────────────┼──────┤ X ├┤ Rz(-π/256) ├┤ X ├┤ Rz(π/256) ├───────────────┼───────────────────────────────┤ X ├──┼──┤ Rz(-π/128) ├──────┼──────┤ X ├┤ Rz(π/128) ├──────┼──────┤ X ├┤ Rz(-π/64) ├──┼────────────────────┤ X ├──┼──┤ Rz(π/64) ├───┤ X ├────┤ Rz(-π/32) ├───┤ X ├────┤ Rz(π/32) ├───────────┤ X ├┤ Rz(-π/16) ├────────────┤ X ├┤ Rz(π/16) ├───┤ X ├────┤ Rz(-π/8) ├───┤ X ├────┤ Rz(π/8) ├┤ X ├┤ Rz(-π/4) ├┤ X ├┤ Rz(3π/4) ├┤ √X ├┤ Rz(π/2) ├\n",
              "                                                                   │                        │                        │                                │                               ┌─┴─┐     ┌───────────┐    ┌─┴─┐      │  ┌──────────┐                   ┌─┴─┐  │  ┌───────────┐      │                   ┌─┴─┐ ┌──────────┐       │         ┌───┐   ┌───────────┐   ┌───┐     ┌──────────┐                      └───┘       │  └─────────────┘┌─┴─┐ ┌──┴───┴───┐ └────────────┘  │        │       ┌─┴─┐ ┌─────────┐       │      └───┘    ┌─┴─┐    └┬──────────┬┘     │      └───┘┌─┴─┐└┬──────────┤    ┌────┐         │      └─┬─┘├────────────┤└─┬─┘└───────────┘               │                               └───┘  │  └────────────┘      │      └───┘└───────────┘      │      └───┘└───────────┘  │                    └───┘  │  └──────────┘   └─┬─┘    └───────────┘   └─┬─┘    └──────────┘           └───┘└───────────┘            └───┘└──────────┘   └───┘    └──────────┘   └───┘    └─────────┘└───┘└──────────┘└───┘└──────────┘└────┘└─────────┘\n",
              "q_4 -> 8 ──────────────────────────────────────────────────────────┼────────────────────────┼────────────────────────┼────────────────────────────────┼───────────────────────────────┤ X ├─────┤ Rz(-π/64) ├────┤ X ├──────┼──┤ Rz(π/64) ├───────────────────┤ X ├──┼──┤ Rz(-π/32) ├──────┼───────────────────┤ X ├─┤ Rz(π/32) ├───────┼─────────┤ X ├───┤ Rz(-π/16) ├───┤ X ├─────┤ Rz(π/16) ├──────────────────────────────────┼─────────────────┤ X ├─┤ Rz(-π/8) ├─────────────────┼────────┼───────┤ X ├─┤ Rz(π/8) ├───────┼───────────────┤ X ├─────┤ Rz(-π/4) ├──────┼───────────┤ X ├─┤ Rz(3π/4) ├────┤ √X ├─────────┼────────┼──┤ Rz(3.0434) ├──┼──────────────────────────────■──────────────────────────────────────■──────────────────────■──────────────────────────────■──────────────────────────■───────────────────────────■───────────────────■────────────────────────■──────────────────────────────────────────────────────────────────────────────────────────────────────────────────────────────────────────────────────────────────────────────\n",
              "                                                                 ┌─┴─┐    ┌──────────┐    ┌─┴─┐     ┌─────────┐    ┌─┴─┐    ┌──────────┐            ┌─┴─┐ ┌──────────┐   ┌────┐   ┌───┴───┴────┐└───────────┘    └───┘      │  └──────────┘                   └───┘  │  └───────────┘      │                   └───┘ └──────────┘       │         └─┬─┘   └───────────┘   └─┬─┘     └──────────┘                                  │                 └───┘ └──────────┘                 │        │       └───┘ └─────────┘       │               └───┘     └──────────┘      │           └───┘ └──────────┘    └────┘         │        │  └────────────┘  │                                                                                                                                                                                                                                                                                                                                                                                                              \n",
              "q_7 -> 9 ────────────────────────────────────────────────────────┤ X ├────┤ Rz(-π/8) ├────┤ X ├─────┤ Rz(π/8) ├────┤ X ├────┤ Rz(-π/4) ├────────────┤ X ├─┤ Rz(3π/4) ├───┤ √X ├───┤ Rz(3.1293) ├────────────────────────────■────────────────────────────────────────■─────────────────────■────────────────────────────────────────────■───────────■───────────────────────■─────────────────────────────────────────────────────■────────────────────────────────────────────────────■────────■───────────────────────────────■───────────────────────────────────────────■────────────────────────────────────────────────■────────■──────────────────■──────────────────────────────────────────────────────────────────────────────────────────────────────────────────────────────────────────────────────────────────────────────────────────────────────────────────────────────────────────────────────────────────────────────────────────────────────────────────────────────────────────────────────────────────────────────────────────────────────────────\n",
              "                                                                 └───┘    └──────────┘    └───┘     └─────────┘    └───┘    └──────────┘            └───┘ └──────────┘   └────┘   └────────────┘                                                                                                                                                                                                                                                                                                                                                                                                                                                                                                                                                                                                                                                                                                                                                                                                                                                                        "
            ],
            "text/html": [
              "<pre style=\"word-wrap: normal;white-space: pre;background: #fff0;line-height: 1.1;font-family: &quot;Courier New&quot;,Courier,monospace\">global phase: 0\n",
              "                                                                                                       ┌───┐   ┌───────────┐   ┌───┐    ┌──────────┐         ┌───┐    ┌──────────┐    ┌───┐      ┌─────────┐              ┌───┐┌──────────┐                        ┌───┐ ┌──────────┐    ┌────┐   ┌───────────┐                                                                                                                                                                                                                                                                                                                                                                                                                                                                                                                                                                                                                                                                                                                                                         \n",
              "q_6 -> 0 ──────────────────────────────────────────────────────────────────────────────────────────────┤ X ├───┤ Rz(-π/16) ├───┤ X ├────┤ Rz(π/16) ├─────────┤ X ├────┤ Rz(-π/8) ├────┤ X ├──────┤ Rz(π/8) ├──────────────┤ X ├┤ Rz(-π/4) ├────────────────────────┤ X ├─┤ Rz(3π/4) ├────┤ √X ├───┤ Rz(3.117) ├─────────────────────────────────────────────────■────────────────────────■────────────────────────────────────────────────────────────■───────────────────────────────────────────────────■─────────────────────■──────────────────────────────■───────────────────────────────────■──────────────────────────────────■──────────────────■───────────────────────────────────■────────────────────────────■────────────────────────────────────■────────────────────────────────────────────────────────────────────────────────────────────────────────────────────────────────────────────────────────────────────────────────────────────────────────────────────────────────────────────────────────────────────────────────────────────────────────\n",
              "                                        ┌───┐┌──────────┐┌───┐┌──────────┐   ┌────┐   ┌────────────┐   └─┬─┘   └───────────┘   └─┬─┘    └──────────┘         └─┬─┘    └──────────┘    └─┬─┘      └─────────┘              └─┬─┘└──────────┘                        └─┬─┘ └──────────┘    └────┘   └───────────┘                                                 │                        │                                                            │                                                   │                     │                              │                                   │                                  │                  │                                   │                            │                                    │                                                                                                                                                                                                                                                                                                        \n",
              "q_8 -> 1 ───────────────────────────────┤ X ├┤ Rz(-π/4) ├┤ X ├┤ Rz(3π/4) ├───┤ √X ├───┤ Rz(3.1355) ├─────┼───────────■───────────┼────────────────────■────────■────────────────────────■─────────────■─────────────────────┼────────────────■──────────────────■────┼───────────────────────────────────────────■────────■─────────────────────────■───────────┼────────────────────────┼─────────■────────────────────────────────────────■─────────┼──────────────────────■────────────────────────────┼────────■────────────┼────────■─────────────────────┼─────────────────────■─────────────┼──────────────────────────────────┼──────────────────┼───────────────────────────────────┼────────────────────────────┼────────────────────────────────────┼────────────────────────────────────────────────────────────────────────────────────────────────────────────────────────────────────────────────────────────────────────────────────────────────────────────────────────────────────────────────────────────────────────────────────────────────────────\n",
              "                                        └─┬─┘└──────────┘└─┬─┘└──────────┘   └────┘   └────────────┘     │           │           │                    │                                               │                     │     ┌───┐      │  ┌────────────┐  │    │      ┌───┐    ┌───────────┐               │      ┌─┴─┐     ┌───────────┐   ┌─┴─┐         │      ┌──────────┐      │         │                            ┌───┐       │         │  ┌───────────┐       │       ┌───┐ ┌──────────┐   │        │          ┌─┴─┐      │  ┌───────────┐    ┌─┴─┐     ┌──────────┐  │             │          ┌───┐     ┌──────────┐  │      ┌───┐       │   ┌─────────┐              ┌───┐  │  ┌──────────┐              │  ┌───┐ ┌──────────┐     ┌────┐     │  ┌────────────┐                                                                                                                                                                                                                                                                                        \n",
              "q_3 -> 2 ─────────────────────────────────┼────────────────┼─────────────────────────────────────────────┼───────────┼───────────┼────────────────────┼───────────────────────────────────────────────┼─────────────────────┼─────┤ X ├──────┼──┤ Rz(-π/128) ├──┼────┼──────┤ X ├────┤ Rz(π/128) ├───────────────┼──────┤ X ├─────┤ Rz(-π/64) ├───┤ X ├─────────┼──────┤ Rz(π/64) ├──────┼─────────┼────────────────────────────┤ X ├───────┼─────────┼──┤ Rz(-π/32) ├───────┼───────┤ X ├─┤ Rz(π/32) ├───┼────────┼──────────┤ X ├──────┼──┤ Rz(-π/16) ├────┤ X ├─────┤ Rz(π/16) ├──┼─────────────┼──────────┤ X ├─────┤ Rz(-π/8) ├──┼──────┤ X ├───────┼───┤ Rz(π/8) ├──────────────┤ X ├──┼──┤ Rz(-π/4) ├──────────────┼──┤ X ├─┤ Rz(3π/4) ├─────┤ √X ├─────┼──┤ Rz(15π/16) ├─────────────────────────────────────■──────────────────────────────■────────────────────────■───────────────────────■───────────────────■─────────────────────────────■────────────────────────────────────────────────────────────────────────────────────────────────────────────────\n",
              "                                          │                │                                             │           │           │         ┌───┐      │  ┌───────────┐   ┌───┐     ┌──────────┐     ┌─┴─┐    ┌───────────┐  │     └─┬─┘    ┌─┴─┐└┬──────────┬┘  │    │      └─┬─┘    └───┬───┬───┘ ┌──────────┐  │      └───┘     └───┬───┬───┘┌──┴───┴──┐    ┌─┴─┐    ├──────────┤    ┌─┴─┐       │  ┌──────────┐    ┌────┐    └─┬─┘       │         │  ├───────────┴┐      │       └─┬─┘ └──────────┘   │        │          └───┘      │  └───────────┘    └───┘     └──────────┘  │             │          └─┬─┘     └──────────┘  │      └─┬─┘       │   └─────────┘              └─┬─┘  │  └──────────┘              │  └─┬─┘ └──────────┘     └────┘     │  └────────────┘                                     │                              │                        │                       │                   │                             │                                                                                                                \n",
              "q_5 -> 3 ─────────────────────────────────┼────────────────┼─────────────────────────────────────────────┼───────────┼───────────┼─────────┤ X ├──────┼──┤ Rz(-π/32) ├───┤ X ├─────┤ Rz(π/32) ├─────┤ X ├────┤ Rz(-π/16) ├──┼───────┼──────┤ X ├─┤ Rz(π/16) ├───┼────┼────────┼──────────┤ X ├─────┤ Rz(-π/8) ├──┼────────────────────┤ X ├────┤ Rz(π/8) ├────┤ X ├────┤ Rz(-π/4) ├────┤ X ├───────┼──┤ Rz(3π/4) ├────┤ √X ├──────┼─────────┼─────────┼──┤ Rz(3.0925) ├──────┼─────────┼──────────────────┼────────┼─────────────────────┼────────■──────────────────────────────────┼────■────────┼────────────■─────────────────────┼────────■─────────┼────────■─────────────────────┼────┼───────■────────────────────┼────┼────────■──────────────────────┼────────■─────────────────────■──────────────────────┼─────────────────■────────────┼────────────────────────┼───────────────────────┼───────────────────┼─────────────────────────────┼────────────────────────────────────────────────────────────────────────────────────────────────────────────────\n",
              "                                          │                │                                             │           │           │         └─┬─┘      │  └───────────┘   └─┬─┘     └──────────┘     └───┘    └───────────┘  │       │      └───┘ └──────────┘   │    │        │          └─┬─┘     └──────────┘  │                    └─┬─┘    └─────────┘    └───┘    └──┬───┬───┘┌───┴───┴────┐  │  └──┬───┬───┘┌───┴────┴──┐   │         │         │  └────────────┘    ┌─┴─┐       │  ┌────────────┐  │      ┌─┴─┐    ┌───────────┐  │        │                       ┌───┐      │    │        │      ┌────────────┐   ┌───┐      │  ┌───────────┐ ┌─┴─┐      │      ┌───────────┐  │  ┌─┴─┐     │      ┌──────────┐  │    │      ┌─┴─┐     ┌───────────┐  │      ┌─┴─┐     ┌──────────┐  │               ┌───┐  │  ┌───────────┐  │  ┌───┐     │      ┌──────────┐    ┌─┴─┐    ┌──────────┐   ┌─┴─┐    ┌─────────┐  │      ┌───┐    ┌──────────┐  │     ┌───┐    ┌──────────┐   ┌────┐   ┌──────────┐                                                              \n",
              "q_1 -> 4 ─────────────────────────────────┼────────────────┼─────────────────────────────────────────────┼───────────┼───────────┼───────────┼────────┼────────────────────┼────────────────────────────────────────────────┼───────┼───────────────────────────┼────┼────────┼────────────┼─────────────────────┼──────────────────────┼─────────────────────────────────┤ X ├────┤ Rz(-π/512) ├──┼─────┤ X ├────┤ Rz(π/512) ├───┼─────────┼─────────┼────────────────────┤ X ├───────┼──┤ Rz(-π/256) ├──┼──────┤ X ├────┤ Rz(π/256) ├──┼────────┼───────────────────────┤ X ├──────┼────┼────────┼──────┤ Rz(-π/128) ├───┤ X ├──────┼──┤ Rz(π/128) ├─┤ X ├──────┼──────┤ Rz(-π/64) ├──┼──┤ X ├─────┼──────┤ Rz(π/64) ├──┼────┼──────┤ X ├─────┤ Rz(-π/32) ├──┼──────┤ X ├─────┤ Rz(π/32) ├──┼───────────────┤ X ├──┼──┤ Rz(-π/16) ├──┼──┤ X ├─────┼──────┤ Rz(π/16) ├────┤ X ├────┤ Rz(-π/8) ├───┤ X ├────┤ Rz(π/8) ├──┼──────┤ X ├────┤ Rz(-π/4) ├──┼─────┤ X ├────┤ Rz(3π/4) ├───┤ √X ├───┤ Rz(3π/4) ├─────────────■────────────────■───────────────────────────────\n",
              "                                          │                │                                             │           │           │           │        │                    │                                                │       │                           │    │        │            │          ┌───┐      │  ┌────────────┐      │         ┌───┐   ┌───────────┐   └─┬─┘    └────────────┘┌─┴─┐   └─┬─┘    ├───────────┴┐  │       ┌─┴─┐       │  ┌───────────┐     └───┘       │  └───┬───┬────┘  │  ┌───┴───┴───┐└───┬───┬───┘  │        │       ┌──────────┐    └─┬─┘      │    │      ┌─┴─┐    ├───────────┬┘   └─┬─┘    ┌─┴─┐└┬──────────┤ └───┘    ┌─┴─┐    ├───────────┤  │  └───┘   ┌─┴─┐    ├──────────┤  │    │      └───┘     └───┬───┬───┘  │   ┌──┴───┴───┐ └──┬───┬───┘  │   ┌─────────┐ └─┬─┘┌─┴─┐└┬──────────┤  │  └─┬─┘   ┌─┴─┐    ├──────────┤    ├───┴┐   ├──────────┤   └───┘    └─────────┘  │      └─┬─┘    └──────────┘  │     └─┬─┘    └──────────┘   └────┘   └──────────┘             │                │                               \n",
              "q_2 -> 5 ─────────────────────────────────┼────────────────┼─────────────────────────────────────────────┼───────────┼───────────┼───────────┼────────┼────────────────────┼────────────────────────────────────────────────┼───────┼───────────────────────────┼────┼────────┼────────────┼──────────┤ X ├──────┼──┤ Rz(-π/256) ├──────┼─────────┤ X ├───┤ Rz(π/256) ├─────┼────────────────────┤ X ├─────┼──────┤ Rz(-π/128) ├──┼───────┤ X ├───────┼──┤ Rz(π/128) ├─────────────────┼──────┤ X ├───────┼──┤ Rz(-π/64) ├────┤ X ├──────┼────────┼───────┤ Rz(π/64) ├──────┼────────┼────┼──────┤ X ├────┤ Rz(-π/32) ├──────┼──────┤ X ├─┤ Rz(π/32) ├──────────┤ X ├────┤ Rz(-π/16) ├──┼──────────┤ X ├────┤ Rz(π/16) ├──┼────┼────────────────────┤ X ├──────┼───┤ Rz(-π/8) ├────┤ X ├──────┼───┤ Rz(π/8) ├───┼──┤ X ├─┤ Rz(-π/4) ├──┼────┼─────┤ X ├────┤ Rz(3π/4) ├────┤ √X ├───┤ Rz(7π/8) ├─────────────────────────┼────────■────────────────────┼───────■───────────■───────────────────────■───────────────────┼────────────────┼───────────────────────────────\n",
              "         ┌─────────┐┌────┐┌────────────┐  │                │                                             │           │           │           │        │                    │                                                │       │                           │    │        │            │          └─┬─┘      │  └────────────┘      │         └─┬─┘   └───────────┘     │                    └───┘     │      └────────────┘  │       └───┘       │  └───────────┘                 │      └─┬─┘       │  └───────────┘    └─┬─┘      │        │       └──────────┘      │        │    │      └───┘    └───────────┘      │      └───┘ └──────────┘          └───┘    └───────────┘  │          └───┘    └──────────┘  │    │                    └─┬─┘      │   └──────────┘    └─┬─┘      │   └─────────┘   │  └───┘ └──────────┘  │    │     └───┘    └──────────┘    └────┘   └──────────┘                         │                             │                   │                       │                   │                │                               \n",
              "q_9 -> 6 ┤ Rz(π/2) ├┤ √X ├┤ Rz(3.1385) ├──■────────────────■───────■────────────────────────■────────────■───────────┼───────────■───────────■────────┼────────────────────■────────────■──────────────────────────■────────┼───────■───────────────────────────┼────┼────────■────────────┼────────────■────────┼──────────────────────┼───────────■───────────────────────■──────────────────────────────■────────────■─────────┼───────────────────┼────────■───────────────────────┼────────┼─────────┼─────────────────────┼────────┼────────┼─────────────────────────┼────────┼────┼──────────────────────────────────┼──────────────────────────────────────────────────────────┼─────────────────────────────────┼────┼──────────────────────┼────────┼─────────────────────┼────────┼─────────────────┼──────────────────────┼────┼────────────────────────────────────────────────────────────────────────────┼─────────────────────────────┼───────────────────┼───────────────────────┼───────────────────┼────────────────┼───────────────────────────────\n",
              "         └─────────┘└────┘└────────────┘                           │                        │                        │                                │                                 │                          │        │                                   │    │                     │                     │                      │                                                                             ┌─┴─┐       │  ┌─────────────┐  │      ┌─┴─┐     ┌────────────┐  │        │         │                     │      ┌─┴─┐      │      ┌────────────┐     │      ┌─┴─┐  │  ┌───────────┐                   │      ┌───┐┌────────────┐┌───┐┌───────────┐               │                               ┌─┴─┐  │  ┌────────────┐      │      ┌─┴─┐┌───────────┐      │      ┌─┴─┐┌───────────┐  │                    ┌─┴─┐  │  ┌──────────┐   ┌───┐    ┌───────────┐   ┌───┐    ┌──────────┐           ┌─┴─┐┌───────────┐            ┌─┴─┐┌──────────┐   ┌─┴─┐    ┌──────────┐   ┌─┴─┐    ┌─────────┐┌─┴─┐┌──────────┐┌─┴─┐┌──────────┐┌────┐┌─────────┐\n",
              "q_0 -> 7 ──────────────────────────────────────────────────────────┼────────────────────────┼────────────────────────┼────────────────────────────────┼─────────────────────────────────┼──────────────────────────┼────────┼───────────────────────────────────┼────┼─────────────────────┼─────────────────────┼──────────────────────┼─────────────────────────────────────────────────────────────────────────────┤ X ├───────┼──┤ Rz(-π/1024) ├──┼──────┤ X ├─────┤ Rz(π/1024) ├──┼────────┼─────────┼─────────────────────┼──────┤ X ├──────┼──────┤ Rz(-π/512) ├─────┼──────┤ X ├──┼──┤ Rz(π/512) ├───────────────────┼──────┤ X ├┤ Rz(-π/256) ├┤ X ├┤ Rz(π/256) ├───────────────┼───────────────────────────────┤ X ├──┼──┤ Rz(-π/128) ├──────┼──────┤ X ├┤ Rz(π/128) ├──────┼──────┤ X ├┤ Rz(-π/64) ├──┼────────────────────┤ X ├──┼──┤ Rz(π/64) ├───┤ X ├────┤ Rz(-π/32) ├───┤ X ├────┤ Rz(π/32) ├───────────┤ X ├┤ Rz(-π/16) ├────────────┤ X ├┤ Rz(π/16) ├───┤ X ├────┤ Rz(-π/8) ├───┤ X ├────┤ Rz(π/8) ├┤ X ├┤ Rz(-π/4) ├┤ X ├┤ Rz(3π/4) ├┤ √X ├┤ Rz(π/2) ├\n",
              "                                                                   │                        │                        │                                │                               ┌─┴─┐     ┌───────────┐    ┌─┴─┐      │  ┌──────────┐                   ┌─┴─┐  │  ┌───────────┐      │                   ┌─┴─┐ ┌──────────┐       │         ┌───┐   ┌───────────┐   ┌───┐     ┌──────────┐                      └───┘       │  └─────────────┘┌─┴─┐ ┌──┴───┴───┐ └────────────┘  │        │       ┌─┴─┐ ┌─────────┐       │      └───┘    ┌─┴─┐    └┬──────────┬┘     │      └───┘┌─┴─┐└┬──────────┤    ┌────┐         │      └─┬─┘├────────────┤└─┬─┘└───────────┘               │                               └───┘  │  └────────────┘      │      └───┘└───────────┘      │      └───┘└───────────┘  │                    └───┘  │  └──────────┘   └─┬─┘    └───────────┘   └─┬─┘    └──────────┘           └───┘└───────────┘            └───┘└──────────┘   └───┘    └──────────┘   └───┘    └─────────┘└───┘└──────────┘└───┘└──────────┘└────┘└─────────┘\n",
              "q_4 -> 8 ──────────────────────────────────────────────────────────┼────────────────────────┼────────────────────────┼────────────────────────────────┼───────────────────────────────┤ X ├─────┤ Rz(-π/64) ├────┤ X ├──────┼──┤ Rz(π/64) ├───────────────────┤ X ├──┼──┤ Rz(-π/32) ├──────┼───────────────────┤ X ├─┤ Rz(π/32) ├───────┼─────────┤ X ├───┤ Rz(-π/16) ├───┤ X ├─────┤ Rz(π/16) ├──────────────────────────────────┼─────────────────┤ X ├─┤ Rz(-π/8) ├─────────────────┼────────┼───────┤ X ├─┤ Rz(π/8) ├───────┼───────────────┤ X ├─────┤ Rz(-π/4) ├──────┼───────────┤ X ├─┤ Rz(3π/4) ├────┤ √X ├─────────┼────────┼──┤ Rz(3.0434) ├──┼──────────────────────────────■──────────────────────────────────────■──────────────────────■──────────────────────────────■──────────────────────────■───────────────────────────■───────────────────■────────────────────────■──────────────────────────────────────────────────────────────────────────────────────────────────────────────────────────────────────────────────────────────────────────────\n",
              "                                                                 ┌─┴─┐    ┌──────────┐    ┌─┴─┐     ┌─────────┐    ┌─┴─┐    ┌──────────┐            ┌─┴─┐ ┌──────────┐   ┌────┐   ┌───┴───┴────┐└───────────┘    └───┘      │  └──────────┘                   └───┘  │  └───────────┘      │                   └───┘ └──────────┘       │         └─┬─┘   └───────────┘   └─┬─┘     └──────────┘                                  │                 └───┘ └──────────┘                 │        │       └───┘ └─────────┘       │               └───┘     └──────────┘      │           └───┘ └──────────┘    └────┘         │        │  └────────────┘  │                                                                                                                                                                                                                                                                                                                                                                                                              \n",
              "q_7 -> 9 ────────────────────────────────────────────────────────┤ X ├────┤ Rz(-π/8) ├────┤ X ├─────┤ Rz(π/8) ├────┤ X ├────┤ Rz(-π/4) ├────────────┤ X ├─┤ Rz(3π/4) ├───┤ √X ├───┤ Rz(3.1293) ├────────────────────────────■────────────────────────────────────────■─────────────────────■────────────────────────────────────────────■───────────■───────────────────────■─────────────────────────────────────────────────────■────────────────────────────────────────────────────■────────■───────────────────────────────■───────────────────────────────────────────■────────────────────────────────────────────────■────────■──────────────────■──────────────────────────────────────────────────────────────────────────────────────────────────────────────────────────────────────────────────────────────────────────────────────────────────────────────────────────────────────────────────────────────────────────────────────────────────────────────────────────────────────────────────────────────────────────────────────────────────────────────\n",
              "                                                                 └───┘    └──────────┘    └───┘     └─────────┘    └───┘    └──────────┘            └───┘ └──────────┘   └────┘   └────────────┘                                                                                                                                                                                                                                                                                                                                                                                                                                                                                                                                                                                                                                                                                                                                                                                                                                                                        </pre>"
            ]
          },
          "metadata": {},
          "execution_count": 11
        }
      ]
    },
    {
      "cell_type": "code",
      "source": [
        "print_qc_characteristics(qc_synth)"
      ],
      "metadata": {
        "colab": {
          "base_uri": "https://localhost:8080/"
        },
        "id": "H1KHq-PaIBLZ",
        "outputId": "de32cbd9-a0f1-4653-e8e3-15174f21300a"
      },
      "execution_count": null,
      "outputs": [
        {
          "output_type": "stream",
          "name": "stdout",
          "text": [
            "Quantum circuit characteristics\n",
            "  Depth: 65\n",
            "  Number of qubits: 10\n",
            "  Operations: {'rz': 101, 'sx': 10, 'cx': 90}\n",
            "  Number of multi-qubit Operations: 90\n"
          ]
        }
      ]
    },
    {
      "cell_type": "code",
      "source": [
        "# Your work goes here!\n",
        "# assign a 10-qubit linear `CouplingMap` to the variable cm\n",
        "cm = CouplingMap([[i,i+1] for i in range(0,9)])\n",
        "\n",
        "# add your transpiled quantum circuit to the next line\n",
        "qc_routed = generate_preset_pass_manager(2, backend=GenericBackendV2(num_qubits=num_qubits, coupling_map=cm)).run(qc)"
      ],
      "metadata": {
        "id": "zjWIbQOJIEn7"
      },
      "execution_count": null,
      "outputs": []
    },
    {
      "cell_type": "code",
      "source": [
        "# grade your work!\n",
        "grade_lab1_ex2(qc_routed)"
      ],
      "metadata": {
        "colab": {
          "base_uri": "https://localhost:8080/"
        },
        "id": "NKa6Z3TfIH3A",
        "outputId": "8574b44f-46e2-4af8-9788-51138cc9707f"
      },
      "execution_count": null,
      "outputs": [
        {
          "output_type": "stream",
          "name": "stdout",
          "text": [
            "Submitting your answer. Please wait...\n",
            "Congratulations 🎉! Your answer is correct and has been submitted.\n"
          ]
        }
      ]
    },
    {
      "cell_type": "code",
      "source": [
        "pm_staged = StagedPassManager()\n",
        "# replace the n-qubit QFT operation with its decomposition in two-qubit gates\n",
        "pm_staged.init = generate_unroll_3q(None)\n",
        "# initialize the layout stage with an empty pass manager\n",
        "pm_staged.layout = PassManager()\n",
        "# set a 'trivial' initial layout, i.e. each qubit in the quantum circuit with index i\n",
        "# is mapped to the physical qubit on a device with the same index\n",
        "pm_staged.layout += TrivialLayout(cm)\n",
        "\n",
        "# do not modify the next line\n",
        "pm_staged.layout += generate_embed_passmanager(cm)"
      ],
      "metadata": {
        "id": "Jg5JISByILLs"
      },
      "execution_count": null,
      "outputs": []
    },
    {
      "cell_type": "code",
      "source": [
        "# Your work goes here!\n",
        "pm_staged.routing = PassManager(SabreLayout(cm))\n",
        "# See the first cells in this notebook or\n",
        "#  https://github.com/Qiskit/qiskit/tree/main/qiskit/transpiler/passes/routing for potential routing passes\n",
        "# pm_staged.routing = PassManager(MyPass)\n",
        "qc_routed = pm_staged.run(qc)\n",
        "print_qc_characteristics(qc_routed)\n",
        "qc_routed.draw(fold=-1)"
      ],
      "metadata": {
        "colab": {
          "base_uri": "https://localhost:8080/",
          "height": 447
        },
        "id": "fUhwQS84IX4P",
        "outputId": "5509343c-6695-4414-d622-44527292a00a"
      },
      "execution_count": null,
      "outputs": [
        {
          "output_type": "stream",
          "name": "stdout",
          "text": [
            "Quantum circuit characteristics\n",
            "  Depth: 50\n",
            "  Number of qubits: 10\n",
            "  Operations: {'h': 10, 'cp': 45, 'swap': 46}\n",
            "  Number of multi-qubit Operations: 91\n"
          ]
        },
        {
          "output_type": "execute_result",
          "data": {
            "text/plain": [
              "                                                                                                                                                                                                                                                                                                                                                                                          \n",
              "q_0 -> 0 ───────────────────────────────────────────────────────────────────────────────────────────────────────────────────────────────────■───────────X─────────────────────────────────────────────────────────────────────────────────────────────────────────────────────────────────────────────────────────────────────────────────────────────────────────────────────────────────\n",
              "                                                                                                                                            │P(π/512)   │                                                                                                                                                                                                                                 \n",
              "q_1 -> 1 ───────────────────────────────────────────────────────────────────────────────────────────────────────────────■─────────────X─────■───────────X───■─────────────X───────────────────────────────────────────────────────────────────────────────────────────────────────────────────────────────────────────────────────────────────────────────────────────────────────────────\n",
              "                                                                                                                        │P(π/256)     │                     │P(π/256)     │                                                                                                                                                                                                               \n",
              "q_2 -> 2 ───────────────────────────────────────────────────────────────────────────────────────────────■───────────X───■─────────────X─────■───────────X───■─────────────X─────■─────────────X───────────────────────────────────────────────────────────────────────────────────────────────────────────────────────────────────────────────────────────────────────────────────────────\n",
              "                                                                                                        │P(π/128)   │                       │P(π/128)   │                       │P(π/128)     │                                                                                                                                                                                           \n",
              "q_3 -> 3 ──────────────────────────────────────────────────────────────────────────────────■─────────X──■───────────X────■────────────X─────■───────────X────■────────────X─────■─────────────X───────────────────────────────────────────────────────────────────────────────X────────────■──────────────────────────────────────────────────────────────────────────────────────────────\n",
              "                                                                                           │P(π/64)  │                   │P(π/64)     │                      │P(π/64)     │                                                                                                   │            │P(π/32)                                                                                       \n",
              "q_4 -> 4 ─────────────────────────────────────────────────────────────────────■─────────X──■─────────X───■──────────X────■────────────X──────■──────────X────■────────────X────────────────────────────────────────────────────────────────X────────────────────────■─────────X──■─────────■────────────X─────────────────────────────────────────────────────────────────────────────────\n",
              "                                                                              │P(π/32)  │                │P(π/32)   │                        │P(π/32)   │                                                                                  │                        │P(π/16)     │P(π/64)               │                                                                                 \n",
              "q_5 -> 5 ──────────────────────────────────────────────────■────────────X─────■─────────X──■─────────X───■──────────X────■────────────X──────■──────────X──────────────────────────────────────────────X──────────────────────────■────────X──────────────■─────────■─────────X──■──────────────────────X────────────────────X──────────────────────────■─────────────────────────────────\n",
              "                                            ┌───┐          │P(π/16)     │                  │P(π/16)  │                   │P(π/16)     │                                                                │                          │P(π/8)                 │P(π/32)            │                                              │                          │P(π/8)                           \n",
              "q_7 -> 6 ───────────────■───────────■───────┤ H ├────X─────■────────────X─────■─────────X──■─────────X───■──────────X────■────────────X─────────────────X──────────────────────────────────■───────────X──────────X────────────X──■────────X────────X─────■───────────────────X─────X────────────────────────────■───────────X──────────X────────────X──■────────X───────────■────────────\n",
              "         ┌───┐          │P(π/4)     │P(π/2) └───┘    │                        │P(π/8)   │                │P(π/8)    │                                   │                                  │P(π/4)          ┌───┐ │            │           │        │                               │                            │P(π/4)          ┌───┐ │            │           │           │P(π/2) ┌───┐\n",
              "q_9 -> 7 ┤ H ├─■────────■────────X──■─────────X──────X────────X───────────────■─────────X──■─────────X───■──────────X───────X────────────────■──────────X───────X───────────────────X──────■────────■───────┤ H ├─X──■─────────X───────────X──X─────X─────■─────────────────────────X─────────X───────────────X──■────────■───────┤ H ├─X──■─────────X───────────X──■────────■───────┤ H ├\n",
              "         └───┘ │P(π/2)   ┌───┐   │            │               │                            │P(π/4)   │            ┌───┐     │                │P(π/2)  ┌───┐     │                   │               │P(π/2) └───┘    │P(π/16)                 │           │P(π/2)    ┌───┐                    │               │           │P(π/2) └───┘    │P(π/16)                 │P(π/4)          └───┘\n",
              "q_8 -> 8 ──────■─────────┤ H ├───X──■─────────X───■───────────X──────■─────────────────────■─────────X───■────────┤ H ├─────X──────■─────────■────────┤ H ├─────X──────■────────────X───────────────■─────────X──────■────────────────────────X──■────────■──────────┤ H ├────────────────────X──────■────────X───────────■─────────X──────■─────────X──────────────■─────────────────────\n",
              "                         └───┘      │P(π/8)       │P(π/4)            │P(π/2)   ┌───┐                     │P(π/2)  └───┘            │P(π/4)            └───┘            │P(π/8)                                │                                  │P(π/4)             └───┘                           │P(π/8)                        │                │                                    \n",
              "q_6 -> 9 ───────────────────────────■─────────────■──────────────────■─────────┤ H ├─────────────────────■─────────────────────────■───────────────────────────────────■──────────────────────────────────────X──────────────────────────────────■───────────────────────────────────────────────────■──────────────────────────────X────────────────X────────────────────────────────────\n",
              "                                                                               └───┘                                                                                                                                                                                                                                                                                                      "
            ],
            "text/html": [
              "<pre style=\"word-wrap: normal;white-space: pre;background: #fff0;line-height: 1.1;font-family: &quot;Courier New&quot;,Courier,monospace\">                                                                                                                                                                                                                                                                                                                                                                                          \n",
              "q_0 -> 0 ───────────────────────────────────────────────────────────────────────────────────────────────────────────────────────────────────■───────────X─────────────────────────────────────────────────────────────────────────────────────────────────────────────────────────────────────────────────────────────────────────────────────────────────────────────────────────────────\n",
              "                                                                                                                                            │P(π/512)   │                                                                                                                                                                                                                                 \n",
              "q_1 -> 1 ───────────────────────────────────────────────────────────────────────────────────────────────────────────────■─────────────X─────■───────────X───■─────────────X───────────────────────────────────────────────────────────────────────────────────────────────────────────────────────────────────────────────────────────────────────────────────────────────────────────────\n",
              "                                                                                                                        │P(π/256)     │                     │P(π/256)     │                                                                                                                                                                                                               \n",
              "q_2 -> 2 ───────────────────────────────────────────────────────────────────────────────────────────────■───────────X───■─────────────X─────■───────────X───■─────────────X─────■─────────────X───────────────────────────────────────────────────────────────────────────────────────────────────────────────────────────────────────────────────────────────────────────────────────────\n",
              "                                                                                                        │P(π/128)   │                       │P(π/128)   │                       │P(π/128)     │                                                                                                                                                                                           \n",
              "q_3 -> 3 ──────────────────────────────────────────────────────────────────────────────────■─────────X──■───────────X────■────────────X─────■───────────X────■────────────X─────■─────────────X───────────────────────────────────────────────────────────────────────────────X────────────■──────────────────────────────────────────────────────────────────────────────────────────────\n",
              "                                                                                           │P(π/64)  │                   │P(π/64)     │                      │P(π/64)     │                                                                                                   │            │P(π/32)                                                                                       \n",
              "q_4 -> 4 ─────────────────────────────────────────────────────────────────────■─────────X──■─────────X───■──────────X────■────────────X──────■──────────X────■────────────X────────────────────────────────────────────────────────────────X────────────────────────■─────────X──■─────────■────────────X─────────────────────────────────────────────────────────────────────────────────\n",
              "                                                                              │P(π/32)  │                │P(π/32)   │                        │P(π/32)   │                                                                                  │                        │P(π/16)     │P(π/64)               │                                                                                 \n",
              "q_5 -> 5 ──────────────────────────────────────────────────■────────────X─────■─────────X──■─────────X───■──────────X────■────────────X──────■──────────X──────────────────────────────────────────────X──────────────────────────■────────X──────────────■─────────■─────────X──■──────────────────────X────────────────────X──────────────────────────■─────────────────────────────────\n",
              "                                            ┌───┐          │P(π/16)     │                  │P(π/16)  │                   │P(π/16)     │                                                                │                          │P(π/8)                 │P(π/32)            │                                              │                          │P(π/8)                           \n",
              "q_7 -> 6 ───────────────■───────────■───────┤ H ├────X─────■────────────X─────■─────────X──■─────────X───■──────────X────■────────────X─────────────────X──────────────────────────────────■───────────X──────────X────────────X──■────────X────────X─────■───────────────────X─────X────────────────────────────■───────────X──────────X────────────X──■────────X───────────■────────────\n",
              "         ┌───┐          │P(π/4)     │P(π/2) └───┘    │                        │P(π/8)   │                │P(π/8)    │                                   │                                  │P(π/4)          ┌───┐ │            │           │        │                               │                            │P(π/4)          ┌───┐ │            │           │           │P(π/2) ┌───┐\n",
              "q_9 -> 7 ┤ H ├─■────────■────────X──■─────────X──────X────────X───────────────■─────────X──■─────────X───■──────────X───────X────────────────■──────────X───────X───────────────────X──────■────────■───────┤ H ├─X──■─────────X───────────X──X─────X─────■─────────────────────────X─────────X───────────────X──■────────■───────┤ H ├─X──■─────────X───────────X──■────────■───────┤ H ├\n",
              "         └───┘ │P(π/2)   ┌───┐   │            │               │                            │P(π/4)   │            ┌───┐     │                │P(π/2)  ┌───┐     │                   │               │P(π/2) └───┘    │P(π/16)                 │           │P(π/2)    ┌───┐                    │               │           │P(π/2) └───┘    │P(π/16)                 │P(π/4)          └───┘\n",
              "q_8 -> 8 ──────■─────────┤ H ├───X──■─────────X───■───────────X──────■─────────────────────■─────────X───■────────┤ H ├─────X──────■─────────■────────┤ H ├─────X──────■────────────X───────────────■─────────X──────■────────────────────────X──■────────■──────────┤ H ├────────────────────X──────■────────X───────────■─────────X──────■─────────X──────────────■─────────────────────\n",
              "                         └───┘      │P(π/8)       │P(π/4)            │P(π/2)   ┌───┐                     │P(π/2)  └───┘            │P(π/4)            └───┘            │P(π/8)                                │                                  │P(π/4)             └───┘                           │P(π/8)                        │                │                                    \n",
              "q_6 -> 9 ───────────────────────────■─────────────■──────────────────■─────────┤ H ├─────────────────────■─────────────────────────■───────────────────────────────────■──────────────────────────────────────X──────────────────────────────────■───────────────────────────────────────────────────■──────────────────────────────X────────────────X────────────────────────────────────\n",
              "                                                                               └───┘                                                                                                                                                                                                                                                                                                      </pre>"
            ]
          },
          "metadata": {},
          "execution_count": 16
        }
      ]
    },
    {
      "cell_type": "code",
      "source": [
        "# grade your work!\n",
        "grade_lab1_ex3(pm_staged)"
      ],
      "metadata": {
        "colab": {
          "base_uri": "https://localhost:8080/"
        },
        "id": "xNb4U3VlIbCT",
        "outputId": "630246f1-dee4-4674-931f-ffc282f69386"
      },
      "execution_count": null,
      "outputs": [
        {
          "output_type": "stream",
          "name": "stdout",
          "text": [
            "Submitting your answer. Please wait...\n",
            "Congratulations 🎉! Your answer is correct and has been submitted.\n"
          ]
        }
      ]
    },
    {
      "cell_type": "code",
      "source": [
        "# Your work goes here!\n",
        "pm_staged.translation = PassManager(BasisTranslator(equivalence_library=SessionEquivalenceLibrary, target_basis=['rz', 'delay', 'reset', 'x', 'id', 'sx', 'cx', 'measure']))\n",
        "# See the first cells in this notebook or\n",
        "#   https://github.com/Qiskit/qiskit/tree/main/qiskit/transpiler/passes/synthesis for potential translation passes\n",
        "# pm_staged.translation = PassManager(MyPass)\n",
        "qc_routed_synth = pm_staged.run(qc)\n",
        "print_qc_characteristics(qc_routed_synth)\n",
        "qc_routed_synth.draw(fold=-1)"
      ],
      "metadata": {
        "colab": {
          "base_uri": "https://localhost:8080/",
          "height": 463
        },
        "id": "ysQVoxzhIft3",
        "outputId": "b705e244-f282-4b64-8cd7-38097b290c8b"
      },
      "execution_count": null,
      "outputs": [
        {
          "output_type": "stream",
          "name": "stdout",
          "text": [
            "Quantum circuit characteristics\n",
            "  Depth: 193\n",
            "  Number of qubits: 10\n",
            "  Operations: {'rz': 155, 'sx': 10, 'cx': 231}\n",
            "  Number of multi-qubit Operations: 231\n"
          ]
        },
        {
          "output_type": "execute_result",
          "data": {
            "text/plain": [
              "global phase: 1.5723\n",
              "                                                                                                                                                                                                                                                                                                                                                                                                                                                                                                                                                                                                                                                                                                                                            ┌───┐    ┌─────────────┐    ┌───┐    ┌────────────┐                ┌───┐                                                                                                                                                                                                                                                                                                                                                                                                                                                                                                                                                                                                                                                                                                                                                                                                                                                                                                                                                                                                                                                             \n",
              "q_0 -> 0 ───────────────────────────────────────────────────────────────────────────────────────────────────────────────────────────────────────────────────────────────────────────────────────────────────────────────────────────────────────────────────────────────────────────────────────────────────────────────────────────────────────────────────────────────────────────────────────────────────────────────────────────────────────────────────────────────────────────────────────────────────────────────────────────────────────────────────────────────────────────────────────────────────────────────────────────────────────────────────────────────────────────────────────────────────────────────────────────────────┤ X ├────┤ Rz(-π/1024) ├────┤ X ├────┤ Rz(π/1024) ├─────■──────────┤ X ├───────■─────────────────────────────────────────────────────────────────────────────────────────────────────────────────────────────────────────────────────────────────────────────────────────────────────────────────────────────────────────────────────────────────────────────────────────────────────────────────────────────────────────────────────────────────────────────────────────────────────────────────────────────────────────────────────────────────────────────────────────────────────────────────────────────────────────────────────────────────────────────────────────────────────────────────────────────────────────────────────────────────────────────────────────────────────────────────────────────────────────────────────────────────────────────────────────────────────────────────────────────────────────────────────────────────────────────────────────────────────────────────────────────────────────────────────────────────────────────────────────────────────────────────────────────────────────────────────\n",
              "                                                                                                                                                                                                                                                                                                                                                                                                                                                                                                                                                                                                                                           ┌───┐    ┌────────────┐┌───┐┌───────────┐                ┌───┐                  ┌────────────┐   └─┬─┘    └─────────────┘    └─┬─┘    └────────────┘   ┌─┴─┐        └─┬─┘     ┌─┴─┐                                                                 ┌───┐    ┌────────────┐    ┌───┐    ┌───────────┐                ┌───┐                                                                                                                                                                                                                                                                                                                                                                                                                                                                                                                                                                                                                                                                                                                                                                                                                                                                                                            \n",
              "q_1 -> 1 ──────────────────────────────────────────────────────────────────────────────────────────────────────────────────────────────────────────────────────────────────────────────────────────────────────────────────────────────────────────────────────────────────────────────────────────────────────────────────────────────────────────────────────────────────────────────────────────────────────────────────────────────────────────────────────────────────────────────────────────────────────────────────────────────────────────────────────────────────────────────────────────────────────────────────────────────────┤ X ├────┤ Rz(-π/512) ├┤ X ├┤ Rz(π/512) ├─────■──────────┤ X ├───────────■──────┤ Rz(π/1024) ├─────■───────────────────────────■───────────────────────┤ X ├──────────■───────┤ X ├─────────────────────────────────────────────────────────────────┤ X ├────┤ Rz(-π/512) ├────┤ X ├────┤ Rz(π/512) ├─────■──────────┤ X ├───────■────────────────────────────────────────────────────────────────────────────────────────────────────────────────────────────────────────────────────────────────────────────────────────────────────────────────────────────────────────────────────────────────────────────────────────────────────────────────────────────────────────────────────────────────────────────────────────────────────────────────────────────────────────────────────────────────────────────────────────────────────────────────────────────────────────────────────────────────────────────────────────────────────────────────────────────────────────────────────────────────────────────────────────────────────────────────────────────────────────────────────────────────────────────────────────────────────────────────────────────────────────────────────────────────────────────────────────────────────\n",
              "                                                                                                                                                                                                                                                                                                                                                                                                                                                                                                                                            ┌───┐    ┌────────────┐    ┌───┐    ┌───────────┐   ┌───┐             ┌───┐    ┌───────────┐   └─┬─┘    └────────────┘└─┬─┘└───────────┘   ┌─┴─┐        └─┬─┘         ┌─┴─┐    └────────────┘                                                         ├───┤    ┌────────────┐├───┤┌───────────┐   ┌───┐                   ┌───┐    ┌───────────┐   └─┬─┘    └────────────┘    └─┬─┘    └───────────┘   ┌─┴─┐        └─┬─┘     ┌─┴─┐                                                 ┌───┐┌────────────┐   ┌───┐   ┌───────────┐               ┌───┐                                                                                                                                                                                                                                                                                                                                                                                                                                                                                                                                                                                                                                                                                                                                                                                  \n",
              "q_2 -> 2 ───────────────────────────────────────────────────────────────────────────────────────────────────────────────────────────────────────────────────────────────────────────────────────────────────────────────────────────────────────────────────────────────────────────────────────────────────────────────────────────────────────────────────────────────────────────────────────────────────────────────────────────────────────────────────────────────────────────────────────────────────────────────────────────────────┤ X ├────┤ Rz(-π/256) ├────┤ X ├────┤ Rz(π/256) ├───┤ X ├──────■──────┤ X ├────┤ Rz(π/512) ├─────■──────────────────────■──────────────────┤ X ├──────────■───────────┤ X ├───────────────────────────────────────────────────────────────────────────┤ X ├────┤ Rz(-π/256) ├┤ X ├┤ Rz(π/256) ├───┤ X ├─────────■─────────┤ X ├────┤ Rz(π/512) ├─────■──────────────────────────■──────────────────────┤ X ├──────────■───────┤ X ├─────────────────────────────────────────────────┤ X ├┤ Rz(-π/256) ├───┤ X ├───┤ Rz(π/256) ├─────■─────────┤ X ├──────■───────────────────────────────────────────────────────────────────────────────────────────────────────────────────────────────────────────────────────────────────────────────────────────────────────────────────────────────────────────────────────────────────────────────────────────────────────────────────────────────────────────────────────────────────────────────────────────────────────────────────────────────────────────────────────────────────────────────────────────────────────────────────────────────────────────────────────────────────────────────────────────────────────────────────────────────────────────────────────────────────────────────────────────────────────────────────────────────────────────────────────────────────────────\n",
              "                                                                                                                                                                                                                                                                                                                                                                                                                               ┌───┐   ┌───────────┐┌───┐ ┌──────────┐                                        ┌───┐         ┌───────────┐   └─┬─┘    └────────────┘    └─┬─┘    └───────────┘   └─┬─┘    ┌─┴─┐    └─┬─┘    └───────────┘                                               ├───┤    ┌────────────┐    ├───┤    ┌───────────┐    ┌───┐                       ┌───┐    ┌───────────┐    └─┬─┘    └────────────┘└─┬─┘└───────────┘   └─┬─┘       ┌─┴─┐       └─┬─┘    └───────────┘                                                       ├───┤    ┌────────────┐├───┤┌───────────┐┌───┐             ┌───┐┌───────────┐└─┬─┘└────────────┘   └─┬─┘   └───────────┘   ┌─┴─┐       └─┬─┘    ┌─┴─┐                                                     ┌───┐┌────────────┐┌───┐┌───────────┐           ┌───┐                                                                                                                                                                                                                                                                                                                                                                                                                                                                                                                                                                                                                                                               \n",
              "q_4 -> 3 ──────────────────────────────────────────────────────────────────────────────────────────────────────────────────────────────────────────────────────────────────────────────────────────────────────────────────────────────────────────────────────────────────────────────────────────────────────────────────────────────────────────────────────────────────────────────────────────────────────────────────────┤ X ├───┤ Rz(-π/64) ├┤ X ├─┤ Rz(π/64) ├──────────────────────────────■─────────┤ X ├─────■───┤ Rz(π/256) ├─────■──────────────────────────■────────────────────────■──────┤ X ├──────■──────────────────────────────────────────────────────────────────┤ X ├────┤ Rz(-π/128) ├────┤ X ├────┤ Rz(π/128) ├────┤ X ├───────────■───────────┤ X ├────┤ Rz(π/256) ├──────■──────────────────────■────────────────────■─────────┤ X ├─────────■──────────────────────────────────────────────────────────────────────────┤ X ├────┤ Rz(-π/128) ├┤ X ├┤ Rz(π/128) ├┤ X ├──────■──────┤ X ├┤ Rz(π/256) ├──■─────────────────────■─────────────────────┤ X ├─────────■──────┤ X ├─────────────────────────────────────────────────────┤ X ├┤ Rz(-π/128) ├┤ X ├┤ Rz(π/128) ├─────■─────┤ X ├──────■────────────────────────────────────────────────────────────────────────────────────────────────────────────────────────────────────────────────────────────────────────────────────────────────────────────────────────────────────────────────────────────────────────────────────────────────────────────────────────────────────────────────────────────────────────────────────────────────────────────────────────────────────────────────────────────────────────────────────────────────────────────────────────────────────────────────────────────────────────────────────────────────────────────────────────────────────────────────────────\n",
              "                                                                                                                                                                                                                                                                                                                                                                                       ┌───┐           ┌───┐    ┌──────────┐   └─┬─┘   └───────────┘└─┬─┘┌┴──────────┤                            ┌─┴─┐       └─┬─┘   ┌─┴─┐ └───────────┘                ┌───┐     ┌───────────┐    ┌───┐    ┌──────────┐└───┘                                          ┌───┐          ┌───────────┐   └─┬─┘    └────────────┘    └─┬─┘    └───────────┘    └─┬─┘         ┌─┴─┐         └─┬─┘    └───────────┘                                                ┌───┐   ┌───┴───┴───┐   ┌───┐     ┌──────────┐   ┌───┐                      ┌───┐    ┌───────────┐   └─┬─┘    └────────────┘└─┬─┘└───────────┘└─┬─┘    ┌─┴─┐    └─┬─┘└───────────┘                                              ├───┤   ┌───────────┐├───┤┌──────────┐   ┌───┐               ┌───┐┌───────────┐└─┬─┘└────────────┘└─┬─┘└───────────┘   ┌─┴─┐   └─┬─┘    ┌─┴─┐                                                                                                                                                                                                                                                                                    ┌───┐     ┌──────────┐                                                                                                                                                                                                                                                                                                                                            \n",
              "q_3 -> 4 ──────────────────────────────────────────────────────────────────────────────────────────────────────────────────────────────────────────────────────────────────────────────────────────────────────────────────────────────────────────────────────────────────────────────────────────────────────────────────────────────────────────────────────────────────────────────┤ X ├─────■─────┤ X ├────┤ Rz(π/64) ├─────■────────────────────■──┤ Rz(π/128) ├──■──────────────────■──────┤ X ├─────────■─────┤ X ├──────────────────────────────┤ X ├─────┤ Rz(-π/32) ├────┤ X ├────┤ Rz(π/32) ├────────────────────────────────────■──────────┤ X ├───────■──┤ Rz(π/128) ├─────■──────────────────────────■─────────────────────────■───────────┤ X ├───────────■───────────────────────────────────────────────────────────────────┤ X ├───┤ Rz(-π/64) ├───┤ X ├─────┤ Rz(π/64) ├───┤ X ├──────────■───────────┤ X ├────┤ Rz(π/128) ├─────■──────────────────────■─────────────────■──────┤ X ├──────■─────────────────────────────────────────────────────────────┤ X ├───┤ Rz(-π/64) ├┤ X ├┤ Rz(π/64) ├───┤ X ├────────■──────┤ X ├┤ Rz(π/128) ├──■──────────────────■──────────────────┤ X ├─────■──────┤ X ├─────────────────────────────────────────────────────────────────────────────────────────────────────────────────────────────────────────────────────────────────────────────────────────────────────────────────────────────────────────────────────────────────────────────■──────┤ X ├──■──┤ Rz(π/32) ├─────────────────────────────────────────────────────────────────────────────────────────■───────────────────────■──────────────────────────────────────────────────────────────────────────────────────────────────────────────────────────────────────────────────────────────────────────────────────────────────────────────────────────\n",
              "                                                                                                                                                    ┌───┐┌───────────┐┌───┐┌──────────┐                            ┌───┐┌──────────┐┌───┐┌─────────┐                                 ┌───┐    ┌──────────┐┌───┐┌─────────┐ ┌─────────┐    ┌────┐   ┌─────────┐   ┌───┐         ┌───┐   └─┬─┘   ┌─┴─┐   └─┬─┘    └──────────┘                             └───────────┘┌─┴─┐┌────────────┐┌─┴─┐┌───┴───┴───┐   ┌───┐   └───┘     ┌───┐    ┌──────────┐    └─┬─┘     └───────────┘    └─┬─┘    ├──────────┤                                  ┌─┴─┐        └─┬─┘     ┌─┴─┐└───────────┘                ┌───┐     ┌───────────┐    ┌───┐     ┌──────────┐     └───┘                                                ┌───┐           ┌──────────┐   └─┬─┘   └───────────┘   └─┬─┘     └──────────┘   └─┬─┘        ┌─┴─┐         └─┬─┘    └───────────┘                                            ┌───┐┌───┴───┴───┐┌───┐ ┌──────────┐┌───┐                 ┌───┐    ┌──────────┐   └─┬─┘   └───────────┘└─┬─┘└──────────┘   └─┬─┘      ┌─┴─┐    └─┬─┘└───────────┘                                        └───┘            └───┘                                                                                                           ┌───┐            ┌──────────┐                                                                                                                                   ┌─┴─┐    └─┬─┘┌─┴─┐└──────────┘                                                 ┌───┐┌───────────┐┌───┐┌──────────┐   ┌─┴─┐   ┌───────────┐   ┌─┴─┐   ┌──────────┐     ┌───┐                                                                                                                                                                                               \n",
              "q_6 -> 5 ───────────────────────────────────────────────────────────────────────────────────────────────────────────────────────────────────────────┤ X ├┤ Rz(-π/16) ├┤ X ├┤ Rz(π/16) ├────────────────────────────┤ X ├┤ Rz(-π/8) ├┤ X ├┤ Rz(π/8) ├─────────────────────────────────┤ X ├────┤ Rz(-π/4) ├┤ X ├┤ Rz(π/4) ├─┤ Rz(π/2) ├────┤ √X ├───┤ Rz(π/2) ├───┤ X ├──────■──┤ X ├─────■─────┤ X ├─────■────────────────────────────────────────────────────────────┤ X ├┤ Rz(-π/128) ├┤ X ├┤ Rz(π/128) ├───┤ X ├─────■───────┤ X ├────┤ Rz(π/32) ├──────■──────────────────────────■──────┤ Rz(π/64) ├──■─────────────────────■─────────┤ X ├──────────■───────┤ X ├─────────────────────────────┤ X ├─────┤ Rz(-π/16) ├────┤ X ├─────┤ Rz(π/16) ├───────────────────────────────────────────────■──────────┤ X ├───────■───┤ Rz(π/64) ├─────■───────────────────────■────────────────────────■──────────┤ X ├───────────■───────────────────────────────────────────────────────────────┤ X ├┤ Rz(-π/32) ├┤ X ├─┤ Rz(π/32) ├┤ X ├──────■──────────┤ X ├────┤ Rz(π/64) ├─────■────────────────────■───────────────────■────────┤ X ├──────■──────────────────────────────────────────────────────────────────────────────────────────────────────────────────────────────────────────────────────────────────────────────────■─────┤ X ├─────■──────┤ Rz(π/16) ├───────────────────────────────────────────────────────────────────────────────────────────────────────────■─────────────────■─────┤ X ├──────■──┤ X ├─────────────────────────────────────────────────────────────┤ X ├┤ Rz(-π/64) ├┤ X ├┤ Rz(π/64) ├───┤ X ├───┤ Rz(-π/32) ├───┤ X ├───┤ Rz(π/32) ├──■──┤ X ├──■────────────────────────────────────────────────────────────────────────────────────────────────────────────────────────────────────────────────────────────────────────────────────────────\n",
              "                                                ┌───┐┌──────────┐┌───┐┌─────────┐┌─────────┐   ┌────┐   ┌─────────┐           ┌───┐     ┌──────────┐└─┬─┘└───────────┘└─┬─┘└──────────┘   ┌───┐         ┌─────────┐└─┬─┘└──────────┘└─┬─┘└─────────┘ ┌───┐             ┌─────────┐   └─┬─┘    └──────────┘└─┬─┘└─────────┘ └──┬───┬──┘    └────┘   └─────────┘   └─┬─┘    ┌─┴─┐└─┬─┘           ├───┤                                                                  └───┘└────────────┘└───┘└───────────┘   └─┬─┘   ┌─┴─┐     └─┬─┘    └──────────┘                                        └──────────┘┌─┴─┐┌───────────┐    ┌─┴─┐    ┌──┴───┴───┐    ┌───┐     └───┘    ┌───┐    ┌──────────┐    └─┬─┘     └───────────┘    └─┬─┘     ├──────────┤                                             ┌─┴─┐        └─┬─┘     ┌─┴─┐ └──────────┘               ┌───┐    ┌──────────┐    ┌───┐    ┌─────────┐     └───┘                                               ┌───┐           ┌──────────┐└─┬─┘└───────────┘└─┬─┘ └──────────┘└─┬─┘    ┌─┴─┐        └─┬─┘    └──────────┘                                                       └───┘                                                              ┌───┐         ┌─────────┐                                                                                                ┌─┴─┐   └─┬─┘   ┌─┴─┐    └──────────┘                                             ┌───┐                                        ┌───┐     ┌───┐┌─┴─┐┌───────────┐┌─┴─┐┌──┴───┴───┐     ├───┤                                   ┌───┐         ┌──────────┐└─┬─┘└───────────┘└─┬─┘└──────────┘   └───┘   └───────────┘   └───┘   └──────────┘┌─┴─┐└─┬─┘┌─┴─┐     ┌───┐     ┌─────────┐                                                                                                                                                                \n",
              "q_8 -> 6 ───────────────────────────────────────┤ X ├┤ Rz(-π/4) ├┤ X ├┤ Rz(π/4) ├┤ Rz(π/2) ├───┤ √X ├───┤ Rz(π/2) ├─────■─────┤ X ├──■──┤ Rz(π/16) ├──■─────────────────■───────■─────────┤ X ├─────■───┤ Rz(π/8) ├──■────────────────■───────■──────┤ X ├──────■──────┤ Rz(π/4) ├─────■────────────────────■───────■─────────┤ X ├─────────■──────────────────────■──────┤ X ├──■───────■─────┤ X ├─────■──────────────────────────────────────────────────────────────────────────────────────────────────────■─────┤ X ├───────■──────────────────────────────────────────────────────────────────────┤ X ├┤ Rz(-π/64) ├────┤ X ├────┤ Rz(π/64) ├────┤ X ├───────■──────┤ X ├────┤ Rz(π/16) ├──────■──────────────────────────■───────┤ Rz(π/32) ├───────■──────────────────────────■──────────┤ X ├──────────■───────┤ X ├────────────────────────────┤ X ├────┤ Rz(-π/8) ├────┤ X ├────┤ Rz(π/8) ├──────────────────────────────────────────────■──────────┤ X ├───────■───┤ Rz(π/32) ├──■─────────────────■─────────────────■──────┤ X ├──────────■──────────────────────────────────────────────────────────────────────────────────────────────────────────────────────────────────■─────────┤ X ├─────■───┤ Rz(π/8) ├──────────────────────────────────────────────────────────────────────■───────────────────■─────┤ X ├─────■─────┤ X ├──────────────────────────────────────────────────────────■──┤ X ├──■─────────────────────────────────────┤ X ├──■──┤ X ├┤ X ├┤ Rz(-π/16) ├┤ X ├┤ Rz(π/16) ├──■──┤ X ├─────■───────────────────────■─────┤ X ├──────■──┤ Rz(π/64) ├──■─────────────────■─────────────────────────────────────────────────────────────┤ X ├──■──┤ X ├──■──┤ X ├──■──┤ Rz(π/8) ├─────────────────────────────────────────────────────────────────■───────────────────■──────────────────────────────────────────────────────────────────────────\n",
              "         ┌─────────┐┌────┐┌─────────┐┌─────────┐└─┬─┘└──────────┘└─┬─┘├─────────┤└─────────┘   └────┘   └─────────┘   ┌─┴─┐   └─┬─┘┌─┴─┐├─────────┬┘                          ┌─┴─┐       └─┬─┘   ┌─┴─┐ └─────────┘        ┌───┐            ┌─┴─┐    └─┬─┘    ┌─┴─┐    └─────────┘               ┌───┐            ┌─┴─┐       └─┬─┘       ┌─┴─┐                           ├───┤        ┌─┴─┐   └─┬─┘   ┌─┴─┐                               ┌───┐                                                                      └───┘                                                                              └───┘└───────────┘    └───┘    └──────────┘    └─┬─┘     ┌─┴─┐    └─┬─┘    └──────────┘                                         └──────────┘     ┌─┴─┐     ┌───────────┐    ┌─┴─┐     ┌──┴───┴───┐    ┌───┐     └───┘    ┌───┐    ┌─────────┐    └─┬─┘    └──────────┘    └─┬─┘    ├─────────┴┐                                           ┌─┴─┐        └─┬─┘     ┌─┴─┐ └──────────┘┌───┐                                        └───┘                                                     ┌───┐            ┌─────────┐                                                          ┌─┴─┐       └─┬─┘   ┌─┴─┐ └─────────┘     ┌───┐                                        ┌───┐     ┌───┐   ┌─┴─┐   ┌──────────┐┌─┴─┐┌──┴───┴──┐┌───┐┌──┴───┴───┐   ┌───┐    ┌─────────┐┌─────────┐┌────┐┌─────────┐ ┌─┴─┐└─┬─┘┌─┴─┐┌───┐┌───────────┐┌───┐┌──────────┐└─┬─┘┌─┴─┐└─┬─┘└───┘└───────────┘└───┘└──────────┘┌─┴─┐└─┬─┘   ┌─┴─┐         ┌───┐     ┌─┴─┐   └─┬─┘    ┌─┴─┐├─────────┬┘                                                                                  └───┘     └───┘┌─┴─┐└─┬─┘┌─┴─┐└─────────┘┌───┐                                        ┌───┐     ┌───┐   ┌─┴─┐   ┌──────────┐┌─┴─┐┌─────────┐┌───┐┌──────────┐┌───┐┌─────────┐┌─────────┐┌────┐┌─────────┐\n",
              "q_9 -> 7 ┤ Rz(π/2) ├┤ √X ├┤ Rz(π/2) ├┤ Rz(π/4) ├──■────────────────■──┤ Rz(π/8) ├─────■──────────────────────■────────┤ X ├─────■──┤ X ├┤ Rz(π/4) ├───■─────────────────■─────┤ X ├─────────■─────┤ X ├──────────────■─────┤ X ├──────■─────┤ X ├──────■──────┤ X ├────────────────────■─────────┤ X ├──────■─────┤ X ├─────────■─────────┤ X ├────────────────────■──────┤ X ├──■─────┤ X ├─────■─────┤ X ├─────────────────────■─────────┤ X ├──────■───────────────────────────────────────────────────────────────────────────────────────────────────────────────────────────────────────────────────────────────────────────────────────────────────■───────┤ X ├──────■────────────────────────────────────────────────────────────────────────────┤ X ├─────┤ Rz(-π/32) ├────┤ X ├─────┤ Rz(π/32) ├────┤ X ├───────■──────┤ X ├────┤ Rz(π/8) ├──────■────────────────────────■──────┤ Rz(π/16) ├──────■──────────────────────────■─────────┤ X ├──────────■───────┤ X ├──────■──────┤ X ├──────■────────────────────────────────────────────────────────────────────────────────────■──────┤ X ├─────■──────┤ Rz(π/4) ├────────────────────────────────■──────────────────■──────┤ X ├─────────■─────┤ X ├──────────────■──┤ X ├──■─────────────────────────────────────┤ X ├──■──┤ X ├───┤ X ├───┤ Rz(-π/8) ├┤ X ├┤ Rz(π/8) ├┤ X ├┤ Rz(-π/4) ├───┤ X ├────┤ Rz(π/4) ├┤ Rz(π/2) ├┤ √X ├┤ Rz(π/2) ├─┤ X ├──■──┤ X ├┤ X ├┤ Rz(-π/32) ├┤ X ├┤ Rz(π/32) ├──■──┤ X ├──■─────────────────────────────────────┤ X ├──■─────┤ X ├──────■──┤ X ├──■──┤ X ├─────■──────┤ X ├┤ Rz(π/4) ├───■─────────────────■────────────────────────────────────────────────────────────────────────────┤ X ├──■──┤ X ├─────■─────┤ X ├──■─────────────────────────────────────┤ X ├──■──┤ X ├───┤ X ├───┤ Rz(-π/8) ├┤ X ├┤ Rz(π/8) ├┤ X ├┤ Rz(-π/4) ├┤ X ├┤ Rz(π/4) ├┤ Rz(π/2) ├┤ √X ├┤ Rz(π/2) ├\n",
              "         └─────────┘└────┘└─────────┘└─────────┘                      └─────────┘   ┌─┴─┐   ┌──────────┐   ┌─┴─┐   ┌──┴───┴──┐     └───┘└─────────┘ ┌─┴─┐ ┌──────────┐┌─┴─┐┌──┴───┴──┐ ┌─────────┐├───┴┐┌─────────┐┌─┴─┐   └─┬─┘    ┌─┴─┐┌──┴───┴───┐         └───┘                  ┌─┴─┐       └─┬─┘    ┌─┴─┐┌──┴───┴───┐               └───┘                  ┌─┴─┐    └─┬─┘┌─┴─┐┌──┴───┴──┐        └───┘                   ┌─┴─┐       └─┬─┘    ┌─┴─┐ ┌─────────┐                                                                                                                                                                                             └───┘                                                                                   └───┘     └───────────┘    └───┘     └──────────┘    └─┬─┘     ┌─┴─┐    └─┬─┘    └─────────┘                                      └──────────┘    ┌─┴─┐     ┌───────────┐    ┌─┴─┐    ┌──┴───┴───┐              └───┘    ┌─┴─┐    └─┬─┘    ┌─┴─┐    ┌───┐ ┌──────────┐┌───┐ ┌─────────┐  ┌─────────┐    ┌────┐   ┌─────────┐    ┌─┴─┐    └─┬─┘   ┌─┴─┐    └──┬───┬──┘┌──────────┐┌───┐ ┌─────────┐ ┌─┴─┐ ┌──────────┐ ┌─┴─┐ ┌──┴───┴──┐ ┌─────────┐├───┴┐┌─────────┐┌─┴─┐└─┬─┘┌─┴─┐┌───┐┌───────────┐┌───┐┌──────────┐└─┬─┘┌─┴─┐└─┬─┘┌──┴───┴──┐└──────────┘└───┘└─────────┘└─┬─┘└──────────┘   └─┬─┘    └──┬───┬──┘└─────────┘├───┬┘├─────────┴┐└───┘     └───┘└─┬─┘└───────────┘└─┬─┘└──────────┘     └───┘                                        └───┘        └───┘    ┌─┴─┐└─┬─┘┌─┴─┐├───┤┌──────────┐├───┤├─────────┤ ┌─┴─┐ ┌──────────┐┌─┴─┐┌─────────┐ ┌─────────┐    ┌────┐   ┌─────────┐                           └───┘     └───┘   ┌─┴─┐   └─┬─┘┌─┴─┐┌───┐┌───────────┐┌───┐┌──────────┐└─┬─┘┌─┴─┐└─┬─┘┌──┴───┴──┐└──────────┘└───┘└─────────┘└─┬─┘└──────────┘└─┬─┘└─────────┘└─────────┘└────┘└─────────┘\n",
              "q_7 -> 8 ───────────────────────────────────────────────────────────────────────────┤ X ├───┤ Rz(-π/8) ├───┤ X ├───┤ Rz(π/8) ├──────────────────────┤ X ├─┤ Rz(-π/4) ├┤ X ├┤ Rz(π/4) ├─┤ Rz(π/2) ├┤ √X ├┤ Rz(π/2) ├┤ X ├─────■──────┤ X ├┤ Rz(π/32) ├──■────────────────────■────────┤ X ├─────────■──────┤ X ├┤ Rz(π/16) ├─────■───────────────────────■────────┤ X ├──────■──┤ X ├┤ Rz(π/8) ├──■───────────────────■─────────┤ X ├─────────■──────┤ X ├─┤ Rz(π/4) ├───■──────────────────■─────────────────────────────────────────────────────────────────────────────────────────────────────────────────────────────────────────────────────────────────────────────────────────────────────────────────────────────────────────────────────────────────────────────────────────────────────────────────────■───────┤ X ├──────■───────────────────────────────────────────────────────────────────────┤ X ├─────┤ Rz(-π/16) ├────┤ X ├────┤ Rz(π/16) ├───────────────────────┤ X ├──────■──────┤ X ├────┤ X ├─┤ Rz(-π/4) ├┤ X ├─┤ Rz(π/4) ├──┤ Rz(π/2) ├────┤ √X ├───┤ Rz(π/2) ├────┤ X ├──────■─────┤ X ├───────┤ X ├───┤ Rz(-π/8) ├┤ X ├─┤ Rz(π/8) ├─┤ X ├─┤ Rz(-π/4) ├─┤ X ├─┤ Rz(π/4) ├─┤ Rz(π/2) ├┤ √X ├┤ Rz(π/2) ├┤ X ├──■──┤ X ├┤ X ├┤ Rz(-π/16) ├┤ X ├┤ Rz(π/16) ├──■──┤ X ├──■──┤ Rz(π/4) ├──────────────────────────────■───────────────────■─────────┤ X ├────────■─────┤ X ├─┤ Rz(π/32) ├─────────────────■─────────────────■──────────────────────────────────────────────────────────────────────────────────────┤ X ├──■──┤ X ├┤ X ├┤ Rz(-π/8) ├┤ X ├┤ Rz(π/8) ├─┤ X ├─┤ Rz(-π/4) ├┤ X ├┤ Rz(π/4) ├─┤ Rz(π/2) ├────┤ √X ├───┤ Rz(π/2) ├─────────────────────────────────────────────┤ X ├─────■──┤ X ├┤ X ├┤ Rz(-π/16) ├┤ X ├┤ Rz(π/16) ├──■──┤ X ├──■──┤ Rz(π/4) ├──────────────────────────────■────────────────■─────────────────────────────────────────\n",
              "                                                                                    └───┘   └──────────┘   └───┘   └─────────┘                      └───┘ └──────────┘└───┘└─────────┘ └─────────┘└────┘└─────────┘└───┘            └───┘└──────────┘┌─┴─┐┌───────────┐   ┌─┴─┐   ┌──┴───┴───┐            └───┘└──────────┘   ┌─┴─┐   ┌───────────┐   ┌─┴─┐   ┌──┴───┴───┐     └───┘└─────────┘┌─┴─┐┌──────────┐   ┌─┴─┐    ┌──┴───┴──┐             └───┘ └─────────┘ ┌─┴─┐ ┌──────────┐ ┌─┴─┐ ┌─────────┐ ┌─────────┐┌────┐ ┌─────────┐ ┌─────────┐                                                                                                                                                                                                                                                                     └───┘                                                                              └───┘     └───────────┘    └───┘    └──────────┘                       └───┘             └───┘    └─┬─┘ └──────────┘└─┬─┘ ├─────────┤  └─────────┘    └────┘   └─────────┘    └───┘            └───┘       └─┬─┘   └──────────┘└─┬─┘ ├─────────┴┐└───┘ └──────────┘ └───┘ └─────────┘ └─────────┘└────┘└─────────┘└───┘     └───┘└─┬─┘└───────────┘└─┬─┘└──────────┘     └───┘     └─────────┘                                                            └─┬─┘      ┌─┴─┐   └─┬─┘ ├─────────┬┘                                                                                                                          └───┘     └───┘└─┬─┘└──────────┘└─┬─┘├─────────┴┐└───┘ └──────────┘└───┘└─────────┘ └─────────┘    └────┘   └─────────┘                                             └───┘        └───┘└─┬─┘└───────────┘└─┬─┘└──────────┘     └───┘     └─────────┘                                                                                         \n",
              "q_5 -> 9 ────────────────────────────────────────────────────────────────────────────────────────────────────────────────────────────────────────────────────────────────────────────────────────────────────────────────────────────────────────────┤ X ├┤ Rz(-π/32) ├───┤ X ├───┤ Rz(π/32) ├────────────────────────────────┤ X ├───┤ Rz(-π/16) ├───┤ X ├───┤ Rz(π/16) ├─────────────────────┤ X ├┤ Rz(-π/8) ├───┤ X ├────┤ Rz(π/8) ├───────────────────────────────┤ X ├─┤ Rz(-π/4) ├─┤ X ├─┤ Rz(π/4) ├─┤ Rz(π/2) ├┤ √X ├─┤ Rz(π/2) ├─┤ Rz(π/4) ├────────────────────────────────────────────────────────────────────────────────────────────────────────────────────────────────────────────────────────────────────────────────────────────────────────────────────────────────────────────────────────────────────────────────────────────────────────────────────────────────────────────────────────────────────────────────────────────────────────────────────────────────────────────────────────────■─────────────────■───┤ Rz(π/8) ├────────────────────────────────────────────────────────────────────────■───────────────────■───┤ Rz(π/16) ├──────────────────────────────────────────────────────────────────────────────────■─────────────────■──────────────────────────────────────────────────────────────────────────────────────────────────────■────────┤ X ├─────■───┤ Rz(π/8) ├────────────────────────────────────────────────────────────────────────────────────────────────────────────────────────────────────────────■────────────────■──┤ Rz(π/16) ├───────────────────────────────────────────────────────────────────────────────────────────────────────────────────────────────────────■─────────────────■─────────────────────────────────────────────────────────────────────────────────────────────────────────────────────────────────\n",
              "                                                                                                                                                                                                                                                     └───┘└───────────┘   └───┘   └──────────┘                                └───┘   └───────────┘   └───┘   └──────────┘                     └───┘└──────────┘   └───┘    └─────────┘                               └───┘ └──────────┘ └───┘ └─────────┘ └─────────┘└────┘ └─────────┘ └─────────┘                                                                                                                                                                                                                                                                                                                                                                                                                                                                                  └─────────┘                                                                                                └──────────┘                                                                                                                                                                                                                    └───┘         └─────────┘                                                                                                                                                                └──────────┘                                                                                                                                                                                                                                                                                           "
            ],
            "text/html": [
              "<pre style=\"word-wrap: normal;white-space: pre;background: #fff0;line-height: 1.1;font-family: &quot;Courier New&quot;,Courier,monospace\">global phase: 1.5723\n",
              "                                                                                                                                                                                                                                                                                                                                                                                                                                                                                                                                                                                                                                                                                                                                            ┌───┐    ┌─────────────┐    ┌───┐    ┌────────────┐                ┌───┐                                                                                                                                                                                                                                                                                                                                                                                                                                                                                                                                                                                                                                                                                                                                                                                                                                                                                                                                                                                                                                                             \n",
              "q_0 -> 0 ───────────────────────────────────────────────────────────────────────────────────────────────────────────────────────────────────────────────────────────────────────────────────────────────────────────────────────────────────────────────────────────────────────────────────────────────────────────────────────────────────────────────────────────────────────────────────────────────────────────────────────────────────────────────────────────────────────────────────────────────────────────────────────────────────────────────────────────────────────────────────────────────────────────────────────────────────────────────────────────────────────────────────────────────────────────────────────────────────┤ X ├────┤ Rz(-π/1024) ├────┤ X ├────┤ Rz(π/1024) ├─────■──────────┤ X ├───────■─────────────────────────────────────────────────────────────────────────────────────────────────────────────────────────────────────────────────────────────────────────────────────────────────────────────────────────────────────────────────────────────────────────────────────────────────────────────────────────────────────────────────────────────────────────────────────────────────────────────────────────────────────────────────────────────────────────────────────────────────────────────────────────────────────────────────────────────────────────────────────────────────────────────────────────────────────────────────────────────────────────────────────────────────────────────────────────────────────────────────────────────────────────────────────────────────────────────────────────────────────────────────────────────────────────────────────────────────────────────────────────────────────────────────────────────────────────────────────────────────────────────────────────────────────────────────────\n",
              "                                                                                                                                                                                                                                                                                                                                                                                                                                                                                                                                                                                                                                           ┌───┐    ┌────────────┐┌───┐┌───────────┐                ┌───┐                  ┌────────────┐   └─┬─┘    └─────────────┘    └─┬─┘    └────────────┘   ┌─┴─┐        └─┬─┘     ┌─┴─┐                                                                 ┌───┐    ┌────────────┐    ┌───┐    ┌───────────┐                ┌───┐                                                                                                                                                                                                                                                                                                                                                                                                                                                                                                                                                                                                                                                                                                                                                                                                                                                                                                            \n",
              "q_1 -> 1 ──────────────────────────────────────────────────────────────────────────────────────────────────────────────────────────────────────────────────────────────────────────────────────────────────────────────────────────────────────────────────────────────────────────────────────────────────────────────────────────────────────────────────────────────────────────────────────────────────────────────────────────────────────────────────────────────────────────────────────────────────────────────────────────────────────────────────────────────────────────────────────────────────────────────────────────────────┤ X ├────┤ Rz(-π/512) ├┤ X ├┤ Rz(π/512) ├─────■──────────┤ X ├───────────■──────┤ Rz(π/1024) ├─────■───────────────────────────■───────────────────────┤ X ├──────────■───────┤ X ├─────────────────────────────────────────────────────────────────┤ X ├────┤ Rz(-π/512) ├────┤ X ├────┤ Rz(π/512) ├─────■──────────┤ X ├───────■────────────────────────────────────────────────────────────────────────────────────────────────────────────────────────────────────────────────────────────────────────────────────────────────────────────────────────────────────────────────────────────────────────────────────────────────────────────────────────────────────────────────────────────────────────────────────────────────────────────────────────────────────────────────────────────────────────────────────────────────────────────────────────────────────────────────────────────────────────────────────────────────────────────────────────────────────────────────────────────────────────────────────────────────────────────────────────────────────────────────────────────────────────────────────────────────────────────────────────────────────────────────────────────────────────────────────────────────────\n",
              "                                                                                                                                                                                                                                                                                                                                                                                                                                                                                                                                            ┌───┐    ┌────────────┐    ┌───┐    ┌───────────┐   ┌───┐             ┌───┐    ┌───────────┐   └─┬─┘    └────────────┘└─┬─┘└───────────┘   ┌─┴─┐        └─┬─┘         ┌─┴─┐    └────────────┘                                                         ├───┤    ┌────────────┐├───┤┌───────────┐   ┌───┐                   ┌───┐    ┌───────────┐   └─┬─┘    └────────────┘    └─┬─┘    └───────────┘   ┌─┴─┐        └─┬─┘     ┌─┴─┐                                                 ┌───┐┌────────────┐   ┌───┐   ┌───────────┐               ┌───┐                                                                                                                                                                                                                                                                                                                                                                                                                                                                                                                                                                                                                                                                                                                                                                                  \n",
              "q_2 -> 2 ───────────────────────────────────────────────────────────────────────────────────────────────────────────────────────────────────────────────────────────────────────────────────────────────────────────────────────────────────────────────────────────────────────────────────────────────────────────────────────────────────────────────────────────────────────────────────────────────────────────────────────────────────────────────────────────────────────────────────────────────────────────────────────────────────┤ X ├────┤ Rz(-π/256) ├────┤ X ├────┤ Rz(π/256) ├───┤ X ├──────■──────┤ X ├────┤ Rz(π/512) ├─────■──────────────────────■──────────────────┤ X ├──────────■───────────┤ X ├───────────────────────────────────────────────────────────────────────────┤ X ├────┤ Rz(-π/256) ├┤ X ├┤ Rz(π/256) ├───┤ X ├─────────■─────────┤ X ├────┤ Rz(π/512) ├─────■──────────────────────────■──────────────────────┤ X ├──────────■───────┤ X ├─────────────────────────────────────────────────┤ X ├┤ Rz(-π/256) ├───┤ X ├───┤ Rz(π/256) ├─────■─────────┤ X ├──────■───────────────────────────────────────────────────────────────────────────────────────────────────────────────────────────────────────────────────────────────────────────────────────────────────────────────────────────────────────────────────────────────────────────────────────────────────────────────────────────────────────────────────────────────────────────────────────────────────────────────────────────────────────────────────────────────────────────────────────────────────────────────────────────────────────────────────────────────────────────────────────────────────────────────────────────────────────────────────────────────────────────────────────────────────────────────────────────────────────────────────────────────────────────\n",
              "                                                                                                                                                                                                                                                                                                                                                                                                                               ┌───┐   ┌───────────┐┌───┐ ┌──────────┐                                        ┌───┐         ┌───────────┐   └─┬─┘    └────────────┘    └─┬─┘    └───────────┘   └─┬─┘    ┌─┴─┐    └─┬─┘    └───────────┘                                               ├───┤    ┌────────────┐    ├───┤    ┌───────────┐    ┌───┐                       ┌───┐    ┌───────────┐    └─┬─┘    └────────────┘└─┬─┘└───────────┘   └─┬─┘       ┌─┴─┐       └─┬─┘    └───────────┘                                                       ├───┤    ┌────────────┐├───┤┌───────────┐┌───┐             ┌───┐┌───────────┐└─┬─┘└────────────┘   └─┬─┘   └───────────┘   ┌─┴─┐       └─┬─┘    ┌─┴─┐                                                     ┌───┐┌────────────┐┌───┐┌───────────┐           ┌───┐                                                                                                                                                                                                                                                                                                                                                                                                                                                                                                                                                                                                                                                               \n",
              "q_4 -> 3 ──────────────────────────────────────────────────────────────────────────────────────────────────────────────────────────────────────────────────────────────────────────────────────────────────────────────────────────────────────────────────────────────────────────────────────────────────────────────────────────────────────────────────────────────────────────────────────────────────────────────────────┤ X ├───┤ Rz(-π/64) ├┤ X ├─┤ Rz(π/64) ├──────────────────────────────■─────────┤ X ├─────■───┤ Rz(π/256) ├─────■──────────────────────────■────────────────────────■──────┤ X ├──────■──────────────────────────────────────────────────────────────────┤ X ├────┤ Rz(-π/128) ├────┤ X ├────┤ Rz(π/128) ├────┤ X ├───────────■───────────┤ X ├────┤ Rz(π/256) ├──────■──────────────────────■────────────────────■─────────┤ X ├─────────■──────────────────────────────────────────────────────────────────────────┤ X ├────┤ Rz(-π/128) ├┤ X ├┤ Rz(π/128) ├┤ X ├──────■──────┤ X ├┤ Rz(π/256) ├──■─────────────────────■─────────────────────┤ X ├─────────■──────┤ X ├─────────────────────────────────────────────────────┤ X ├┤ Rz(-π/128) ├┤ X ├┤ Rz(π/128) ├─────■─────┤ X ├──────■────────────────────────────────────────────────────────────────────────────────────────────────────────────────────────────────────────────────────────────────────────────────────────────────────────────────────────────────────────────────────────────────────────────────────────────────────────────────────────────────────────────────────────────────────────────────────────────────────────────────────────────────────────────────────────────────────────────────────────────────────────────────────────────────────────────────────────────────────────────────────────────────────────────────────────────────────────────────────────\n",
              "                                                                                                                                                                                                                                                                                                                                                                                       ┌───┐           ┌───┐    ┌──────────┐   └─┬─┘   └───────────┘└─┬─┘┌┴──────────┤                            ┌─┴─┐       └─┬─┘   ┌─┴─┐ └───────────┘                ┌───┐     ┌───────────┐    ┌───┐    ┌──────────┐└───┘                                          ┌───┐          ┌───────────┐   └─┬─┘    └────────────┘    └─┬─┘    └───────────┘    └─┬─┘         ┌─┴─┐         └─┬─┘    └───────────┘                                                ┌───┐   ┌───┴───┴───┐   ┌───┐     ┌──────────┐   ┌───┐                      ┌───┐    ┌───────────┐   └─┬─┘    └────────────┘└─┬─┘└───────────┘└─┬─┘    ┌─┴─┐    └─┬─┘└───────────┘                                              ├───┤   ┌───────────┐├───┤┌──────────┐   ┌───┐               ┌───┐┌───────────┐└─┬─┘└────────────┘└─┬─┘└───────────┘   ┌─┴─┐   └─┬─┘    ┌─┴─┐                                                                                                                                                                                                                                                                                    ┌───┐     ┌──────────┐                                                                                                                                                                                                                                                                                                                                            \n",
              "q_3 -> 4 ──────────────────────────────────────────────────────────────────────────────────────────────────────────────────────────────────────────────────────────────────────────────────────────────────────────────────────────────────────────────────────────────────────────────────────────────────────────────────────────────────────────────────────────────────────────────┤ X ├─────■─────┤ X ├────┤ Rz(π/64) ├─────■────────────────────■──┤ Rz(π/128) ├──■──────────────────■──────┤ X ├─────────■─────┤ X ├──────────────────────────────┤ X ├─────┤ Rz(-π/32) ├────┤ X ├────┤ Rz(π/32) ├────────────────────────────────────■──────────┤ X ├───────■──┤ Rz(π/128) ├─────■──────────────────────────■─────────────────────────■───────────┤ X ├───────────■───────────────────────────────────────────────────────────────────┤ X ├───┤ Rz(-π/64) ├───┤ X ├─────┤ Rz(π/64) ├───┤ X ├──────────■───────────┤ X ├────┤ Rz(π/128) ├─────■──────────────────────■─────────────────■──────┤ X ├──────■─────────────────────────────────────────────────────────────┤ X ├───┤ Rz(-π/64) ├┤ X ├┤ Rz(π/64) ├───┤ X ├────────■──────┤ X ├┤ Rz(π/128) ├──■──────────────────■──────────────────┤ X ├─────■──────┤ X ├─────────────────────────────────────────────────────────────────────────────────────────────────────────────────────────────────────────────────────────────────────────────────────────────────────────────────────────────────────────────────────────────────────────────■──────┤ X ├──■──┤ Rz(π/32) ├─────────────────────────────────────────────────────────────────────────────────────────■───────────────────────■──────────────────────────────────────────────────────────────────────────────────────────────────────────────────────────────────────────────────────────────────────────────────────────────────────────────────────────\n",
              "                                                                                                                                                    ┌───┐┌───────────┐┌───┐┌──────────┐                            ┌───┐┌──────────┐┌───┐┌─────────┐                                 ┌───┐    ┌──────────┐┌───┐┌─────────┐ ┌─────────┐    ┌────┐   ┌─────────┐   ┌───┐         ┌───┐   └─┬─┘   ┌─┴─┐   └─┬─┘    └──────────┘                             └───────────┘┌─┴─┐┌────────────┐┌─┴─┐┌───┴───┴───┐   ┌───┐   └───┘     ┌───┐    ┌──────────┐    └─┬─┘     └───────────┘    └─┬─┘    ├──────────┤                                  ┌─┴─┐        └─┬─┘     ┌─┴─┐└───────────┘                ┌───┐     ┌───────────┐    ┌───┐     ┌──────────┐     └───┘                                                ┌───┐           ┌──────────┐   └─┬─┘   └───────────┘   └─┬─┘     └──────────┘   └─┬─┘        ┌─┴─┐         └─┬─┘    └───────────┘                                            ┌───┐┌───┴───┴───┐┌───┐ ┌──────────┐┌───┐                 ┌───┐    ┌──────────┐   └─┬─┘   └───────────┘└─┬─┘└──────────┘   └─┬─┘      ┌─┴─┐    └─┬─┘└───────────┘                                        └───┘            └───┘                                                                                                           ┌───┐            ┌──────────┐                                                                                                                                   ┌─┴─┐    └─┬─┘┌─┴─┐└──────────┘                                                 ┌───┐┌───────────┐┌───┐┌──────────┐   ┌─┴─┐   ┌───────────┐   ┌─┴─┐   ┌──────────┐     ┌───┐                                                                                                                                                                                               \n",
              "q_6 -> 5 ───────────────────────────────────────────────────────────────────────────────────────────────────────────────────────────────────────────┤ X ├┤ Rz(-π/16) ├┤ X ├┤ Rz(π/16) ├────────────────────────────┤ X ├┤ Rz(-π/8) ├┤ X ├┤ Rz(π/8) ├─────────────────────────────────┤ X ├────┤ Rz(-π/4) ├┤ X ├┤ Rz(π/4) ├─┤ Rz(π/2) ├────┤ √X ├───┤ Rz(π/2) ├───┤ X ├──────■──┤ X ├─────■─────┤ X ├─────■────────────────────────────────────────────────────────────┤ X ├┤ Rz(-π/128) ├┤ X ├┤ Rz(π/128) ├───┤ X ├─────■───────┤ X ├────┤ Rz(π/32) ├──────■──────────────────────────■──────┤ Rz(π/64) ├──■─────────────────────■─────────┤ X ├──────────■───────┤ X ├─────────────────────────────┤ X ├─────┤ Rz(-π/16) ├────┤ X ├─────┤ Rz(π/16) ├───────────────────────────────────────────────■──────────┤ X ├───────■───┤ Rz(π/64) ├─────■───────────────────────■────────────────────────■──────────┤ X ├───────────■───────────────────────────────────────────────────────────────┤ X ├┤ Rz(-π/32) ├┤ X ├─┤ Rz(π/32) ├┤ X ├──────■──────────┤ X ├────┤ Rz(π/64) ├─────■────────────────────■───────────────────■────────┤ X ├──────■──────────────────────────────────────────────────────────────────────────────────────────────────────────────────────────────────────────────────────────────────────────────────■─────┤ X ├─────■──────┤ Rz(π/16) ├───────────────────────────────────────────────────────────────────────────────────────────────────────────■─────────────────■─────┤ X ├──────■──┤ X ├─────────────────────────────────────────────────────────────┤ X ├┤ Rz(-π/64) ├┤ X ├┤ Rz(π/64) ├───┤ X ├───┤ Rz(-π/32) ├───┤ X ├───┤ Rz(π/32) ├──■──┤ X ├──■────────────────────────────────────────────────────────────────────────────────────────────────────────────────────────────────────────────────────────────────────────────────────────────\n",
              "                                                ┌───┐┌──────────┐┌───┐┌─────────┐┌─────────┐   ┌────┐   ┌─────────┐           ┌───┐     ┌──────────┐└─┬─┘└───────────┘└─┬─┘└──────────┘   ┌───┐         ┌─────────┐└─┬─┘└──────────┘└─┬─┘└─────────┘ ┌───┐             ┌─────────┐   └─┬─┘    └──────────┘└─┬─┘└─────────┘ └──┬───┬──┘    └────┘   └─────────┘   └─┬─┘    ┌─┴─┐└─┬─┘           ├───┤                                                                  └───┘└────────────┘└───┘└───────────┘   └─┬─┘   ┌─┴─┐     └─┬─┘    └──────────┘                                        └──────────┘┌─┴─┐┌───────────┐    ┌─┴─┐    ┌──┴───┴───┐    ┌───┐     └───┘    ┌───┐    ┌──────────┐    └─┬─┘     └───────────┘    └─┬─┘     ├──────────┤                                             ┌─┴─┐        └─┬─┘     ┌─┴─┐ └──────────┘               ┌───┐    ┌──────────┐    ┌───┐    ┌─────────┐     └───┘                                               ┌───┐           ┌──────────┐└─┬─┘└───────────┘└─┬─┘ └──────────┘└─┬─┘    ┌─┴─┐        └─┬─┘    └──────────┘                                                       └───┘                                                              ┌───┐         ┌─────────┐                                                                                                ┌─┴─┐   └─┬─┘   ┌─┴─┐    └──────────┘                                             ┌───┐                                        ┌───┐     ┌───┐┌─┴─┐┌───────────┐┌─┴─┐┌──┴───┴───┐     ├───┤                                   ┌───┐         ┌──────────┐└─┬─┘└───────────┘└─┬─┘└──────────┘   └───┘   └───────────┘   └───┘   └──────────┘┌─┴─┐└─┬─┘┌─┴─┐     ┌───┐     ┌─────────┐                                                                                                                                                                \n",
              "q_8 -> 6 ───────────────────────────────────────┤ X ├┤ Rz(-π/4) ├┤ X ├┤ Rz(π/4) ├┤ Rz(π/2) ├───┤ √X ├───┤ Rz(π/2) ├─────■─────┤ X ├──■──┤ Rz(π/16) ├──■─────────────────■───────■─────────┤ X ├─────■───┤ Rz(π/8) ├──■────────────────■───────■──────┤ X ├──────■──────┤ Rz(π/4) ├─────■────────────────────■───────■─────────┤ X ├─────────■──────────────────────■──────┤ X ├──■───────■─────┤ X ├─────■──────────────────────────────────────────────────────────────────────────────────────────────────────■─────┤ X ├───────■──────────────────────────────────────────────────────────────────────┤ X ├┤ Rz(-π/64) ├────┤ X ├────┤ Rz(π/64) ├────┤ X ├───────■──────┤ X ├────┤ Rz(π/16) ├──────■──────────────────────────■───────┤ Rz(π/32) ├───────■──────────────────────────■──────────┤ X ├──────────■───────┤ X ├────────────────────────────┤ X ├────┤ Rz(-π/8) ├────┤ X ├────┤ Rz(π/8) ├──────────────────────────────────────────────■──────────┤ X ├───────■───┤ Rz(π/32) ├──■─────────────────■─────────────────■──────┤ X ├──────────■──────────────────────────────────────────────────────────────────────────────────────────────────────────────────────────────────■─────────┤ X ├─────■───┤ Rz(π/8) ├──────────────────────────────────────────────────────────────────────■───────────────────■─────┤ X ├─────■─────┤ X ├──────────────────────────────────────────────────────────■──┤ X ├──■─────────────────────────────────────┤ X ├──■──┤ X ├┤ X ├┤ Rz(-π/16) ├┤ X ├┤ Rz(π/16) ├──■──┤ X ├─────■───────────────────────■─────┤ X ├──────■──┤ Rz(π/64) ├──■─────────────────■─────────────────────────────────────────────────────────────┤ X ├──■──┤ X ├──■──┤ X ├──■──┤ Rz(π/8) ├─────────────────────────────────────────────────────────────────■───────────────────■──────────────────────────────────────────────────────────────────────────\n",
              "         ┌─────────┐┌────┐┌─────────┐┌─────────┐└─┬─┘└──────────┘└─┬─┘├─────────┤└─────────┘   └────┘   └─────────┘   ┌─┴─┐   └─┬─┘┌─┴─┐├─────────┬┘                          ┌─┴─┐       └─┬─┘   ┌─┴─┐ └─────────┘        ┌───┐            ┌─┴─┐    └─┬─┘    ┌─┴─┐    └─────────┘               ┌───┐            ┌─┴─┐       └─┬─┘       ┌─┴─┐                           ├───┤        ┌─┴─┐   └─┬─┘   ┌─┴─┐                               ┌───┐                                                                      └───┘                                                                              └───┘└───────────┘    └───┘    └──────────┘    └─┬─┘     ┌─┴─┐    └─┬─┘    └──────────┘                                         └──────────┘     ┌─┴─┐     ┌───────────┐    ┌─┴─┐     ┌──┴───┴───┐    ┌───┐     └───┘    ┌───┐    ┌─────────┐    └─┬─┘    └──────────┘    └─┬─┘    ├─────────┴┐                                           ┌─┴─┐        └─┬─┘     ┌─┴─┐ └──────────┘┌───┐                                        └───┘                                                     ┌───┐            ┌─────────┐                                                          ┌─┴─┐       └─┬─┘   ┌─┴─┐ └─────────┘     ┌───┐                                        ┌───┐     ┌───┐   ┌─┴─┐   ┌──────────┐┌─┴─┐┌──┴───┴──┐┌───┐┌──┴───┴───┐   ┌───┐    ┌─────────┐┌─────────┐┌────┐┌─────────┐ ┌─┴─┐└─┬─┘┌─┴─┐┌───┐┌───────────┐┌───┐┌──────────┐└─┬─┘┌─┴─┐└─┬─┘└───┘└───────────┘└───┘└──────────┘┌─┴─┐└─┬─┘   ┌─┴─┐         ┌───┐     ┌─┴─┐   └─┬─┘    ┌─┴─┐├─────────┬┘                                                                                  └───┘     └───┘┌─┴─┐└─┬─┘┌─┴─┐└─────────┘┌───┐                                        ┌───┐     ┌───┐   ┌─┴─┐   ┌──────────┐┌─┴─┐┌─────────┐┌───┐┌──────────┐┌───┐┌─────────┐┌─────────┐┌────┐┌─────────┐\n",
              "q_9 -> 7 ┤ Rz(π/2) ├┤ √X ├┤ Rz(π/2) ├┤ Rz(π/4) ├──■────────────────■──┤ Rz(π/8) ├─────■──────────────────────■────────┤ X ├─────■──┤ X ├┤ Rz(π/4) ├───■─────────────────■─────┤ X ├─────────■─────┤ X ├──────────────■─────┤ X ├──────■─────┤ X ├──────■──────┤ X ├────────────────────■─────────┤ X ├──────■─────┤ X ├─────────■─────────┤ X ├────────────────────■──────┤ X ├──■─────┤ X ├─────■─────┤ X ├─────────────────────■─────────┤ X ├──────■───────────────────────────────────────────────────────────────────────────────────────────────────────────────────────────────────────────────────────────────────────────────────────────────────■───────┤ X ├──────■────────────────────────────────────────────────────────────────────────────┤ X ├─────┤ Rz(-π/32) ├────┤ X ├─────┤ Rz(π/32) ├────┤ X ├───────■──────┤ X ├────┤ Rz(π/8) ├──────■────────────────────────■──────┤ Rz(π/16) ├──────■──────────────────────────■─────────┤ X ├──────────■───────┤ X ├──────■──────┤ X ├──────■────────────────────────────────────────────────────────────────────────────────────■──────┤ X ├─────■──────┤ Rz(π/4) ├────────────────────────────────■──────────────────■──────┤ X ├─────────■─────┤ X ├──────────────■──┤ X ├──■─────────────────────────────────────┤ X ├──■──┤ X ├───┤ X ├───┤ Rz(-π/8) ├┤ X ├┤ Rz(π/8) ├┤ X ├┤ Rz(-π/4) ├───┤ X ├────┤ Rz(π/4) ├┤ Rz(π/2) ├┤ √X ├┤ Rz(π/2) ├─┤ X ├──■──┤ X ├┤ X ├┤ Rz(-π/32) ├┤ X ├┤ Rz(π/32) ├──■──┤ X ├──■─────────────────────────────────────┤ X ├──■─────┤ X ├──────■──┤ X ├──■──┤ X ├─────■──────┤ X ├┤ Rz(π/4) ├───■─────────────────■────────────────────────────────────────────────────────────────────────────┤ X ├──■──┤ X ├─────■─────┤ X ├──■─────────────────────────────────────┤ X ├──■──┤ X ├───┤ X ├───┤ Rz(-π/8) ├┤ X ├┤ Rz(π/8) ├┤ X ├┤ Rz(-π/4) ├┤ X ├┤ Rz(π/4) ├┤ Rz(π/2) ├┤ √X ├┤ Rz(π/2) ├\n",
              "         └─────────┘└────┘└─────────┘└─────────┘                      └─────────┘   ┌─┴─┐   ┌──────────┐   ┌─┴─┐   ┌──┴───┴──┐     └───┘└─────────┘ ┌─┴─┐ ┌──────────┐┌─┴─┐┌──┴───┴──┐ ┌─────────┐├───┴┐┌─────────┐┌─┴─┐   └─┬─┘    ┌─┴─┐┌──┴───┴───┐         └───┘                  ┌─┴─┐       └─┬─┘    ┌─┴─┐┌──┴───┴───┐               └───┘                  ┌─┴─┐    └─┬─┘┌─┴─┐┌──┴───┴──┐        └───┘                   ┌─┴─┐       └─┬─┘    ┌─┴─┐ ┌─────────┐                                                                                                                                                                                             └───┘                                                                                   └───┘     └───────────┘    └───┘     └──────────┘    └─┬─┘     ┌─┴─┐    └─┬─┘    └─────────┘                                      └──────────┘    ┌─┴─┐     ┌───────────┐    ┌─┴─┐    ┌──┴───┴───┐              └───┘    ┌─┴─┐    └─┬─┘    ┌─┴─┐    ┌───┐ ┌──────────┐┌───┐ ┌─────────┐  ┌─────────┐    ┌────┐   ┌─────────┐    ┌─┴─┐    └─┬─┘   ┌─┴─┐    └──┬───┬──┘┌──────────┐┌───┐ ┌─────────┐ ┌─┴─┐ ┌──────────┐ ┌─┴─┐ ┌──┴───┴──┐ ┌─────────┐├───┴┐┌─────────┐┌─┴─┐└─┬─┘┌─┴─┐┌───┐┌───────────┐┌───┐┌──────────┐└─┬─┘┌─┴─┐└─┬─┘┌──┴───┴──┐└──────────┘└───┘└─────────┘└─┬─┘└──────────┘   └─┬─┘    └──┬───┬──┘└─────────┘├───┬┘├─────────┴┐└───┘     └───┘└─┬─┘└───────────┘└─┬─┘└──────────┘     └───┘                                        └───┘        └───┘    ┌─┴─┐└─┬─┘┌─┴─┐├───┤┌──────────┐├───┤├─────────┤ ┌─┴─┐ ┌──────────┐┌─┴─┐┌─────────┐ ┌─────────┐    ┌────┐   ┌─────────┐                           └───┘     └───┘   ┌─┴─┐   └─┬─┘┌─┴─┐┌───┐┌───────────┐┌───┐┌──────────┐└─┬─┘┌─┴─┐└─┬─┘┌──┴───┴──┐└──────────┘└───┘└─────────┘└─┬─┘└──────────┘└─┬─┘└─────────┘└─────────┘└────┘└─────────┘\n",
              "q_7 -> 8 ───────────────────────────────────────────────────────────────────────────┤ X ├───┤ Rz(-π/8) ├───┤ X ├───┤ Rz(π/8) ├──────────────────────┤ X ├─┤ Rz(-π/4) ├┤ X ├┤ Rz(π/4) ├─┤ Rz(π/2) ├┤ √X ├┤ Rz(π/2) ├┤ X ├─────■──────┤ X ├┤ Rz(π/32) ├──■────────────────────■────────┤ X ├─────────■──────┤ X ├┤ Rz(π/16) ├─────■───────────────────────■────────┤ X ├──────■──┤ X ├┤ Rz(π/8) ├──■───────────────────■─────────┤ X ├─────────■──────┤ X ├─┤ Rz(π/4) ├───■──────────────────■─────────────────────────────────────────────────────────────────────────────────────────────────────────────────────────────────────────────────────────────────────────────────────────────────────────────────────────────────────────────────────────────────────────────────────────────────────────────────────■───────┤ X ├──────■───────────────────────────────────────────────────────────────────────┤ X ├─────┤ Rz(-π/16) ├────┤ X ├────┤ Rz(π/16) ├───────────────────────┤ X ├──────■──────┤ X ├────┤ X ├─┤ Rz(-π/4) ├┤ X ├─┤ Rz(π/4) ├──┤ Rz(π/2) ├────┤ √X ├───┤ Rz(π/2) ├────┤ X ├──────■─────┤ X ├───────┤ X ├───┤ Rz(-π/8) ├┤ X ├─┤ Rz(π/8) ├─┤ X ├─┤ Rz(-π/4) ├─┤ X ├─┤ Rz(π/4) ├─┤ Rz(π/2) ├┤ √X ├┤ Rz(π/2) ├┤ X ├──■──┤ X ├┤ X ├┤ Rz(-π/16) ├┤ X ├┤ Rz(π/16) ├──■──┤ X ├──■──┤ Rz(π/4) ├──────────────────────────────■───────────────────■─────────┤ X ├────────■─────┤ X ├─┤ Rz(π/32) ├─────────────────■─────────────────■──────────────────────────────────────────────────────────────────────────────────────┤ X ├──■──┤ X ├┤ X ├┤ Rz(-π/8) ├┤ X ├┤ Rz(π/8) ├─┤ X ├─┤ Rz(-π/4) ├┤ X ├┤ Rz(π/4) ├─┤ Rz(π/2) ├────┤ √X ├───┤ Rz(π/2) ├─────────────────────────────────────────────┤ X ├─────■──┤ X ├┤ X ├┤ Rz(-π/16) ├┤ X ├┤ Rz(π/16) ├──■──┤ X ├──■──┤ Rz(π/4) ├──────────────────────────────■────────────────■─────────────────────────────────────────\n",
              "                                                                                    └───┘   └──────────┘   └───┘   └─────────┘                      └───┘ └──────────┘└───┘└─────────┘ └─────────┘└────┘└─────────┘└───┘            └───┘└──────────┘┌─┴─┐┌───────────┐   ┌─┴─┐   ┌──┴───┴───┐            └───┘└──────────┘   ┌─┴─┐   ┌───────────┐   ┌─┴─┐   ┌──┴───┴───┐     └───┘└─────────┘┌─┴─┐┌──────────┐   ┌─┴─┐    ┌──┴───┴──┐             └───┘ └─────────┘ ┌─┴─┐ ┌──────────┐ ┌─┴─┐ ┌─────────┐ ┌─────────┐┌────┐ ┌─────────┐ ┌─────────┐                                                                                                                                                                                                                                                                     └───┘                                                                              └───┘     └───────────┘    └───┘    └──────────┘                       └───┘             └───┘    └─┬─┘ └──────────┘└─┬─┘ ├─────────┤  └─────────┘    └────┘   └─────────┘    └───┘            └───┘       └─┬─┘   └──────────┘└─┬─┘ ├─────────┴┐└───┘ └──────────┘ └───┘ └─────────┘ └─────────┘└────┘└─────────┘└───┘     └───┘└─┬─┘└───────────┘└─┬─┘└──────────┘     └───┘     └─────────┘                                                            └─┬─┘      ┌─┴─┐   └─┬─┘ ├─────────┬┘                                                                                                                          └───┘     └───┘└─┬─┘└──────────┘└─┬─┘├─────────┴┐└───┘ └──────────┘└───┘└─────────┘ └─────────┘    └────┘   └─────────┘                                             └───┘        └───┘└─┬─┘└───────────┘└─┬─┘└──────────┘     └───┘     └─────────┘                                                                                         \n",
              "q_5 -> 9 ────────────────────────────────────────────────────────────────────────────────────────────────────────────────────────────────────────────────────────────────────────────────────────────────────────────────────────────────────────────┤ X ├┤ Rz(-π/32) ├───┤ X ├───┤ Rz(π/32) ├────────────────────────────────┤ X ├───┤ Rz(-π/16) ├───┤ X ├───┤ Rz(π/16) ├─────────────────────┤ X ├┤ Rz(-π/8) ├───┤ X ├────┤ Rz(π/8) ├───────────────────────────────┤ X ├─┤ Rz(-π/4) ├─┤ X ├─┤ Rz(π/4) ├─┤ Rz(π/2) ├┤ √X ├─┤ Rz(π/2) ├─┤ Rz(π/4) ├────────────────────────────────────────────────────────────────────────────────────────────────────────────────────────────────────────────────────────────────────────────────────────────────────────────────────────────────────────────────────────────────────────────────────────────────────────────────────────────────────────────────────────────────────────────────────────────────────────────────────────────────────────────────────────────■─────────────────■───┤ Rz(π/8) ├────────────────────────────────────────────────────────────────────────■───────────────────■───┤ Rz(π/16) ├──────────────────────────────────────────────────────────────────────────────────■─────────────────■──────────────────────────────────────────────────────────────────────────────────────────────────────■────────┤ X ├─────■───┤ Rz(π/8) ├────────────────────────────────────────────────────────────────────────────────────────────────────────────────────────────────────────────■────────────────■──┤ Rz(π/16) ├───────────────────────────────────────────────────────────────────────────────────────────────────────────────────────────────────────■─────────────────■─────────────────────────────────────────────────────────────────────────────────────────────────────────────────────────────────\n",
              "                                                                                                                                                                                                                                                     └───┘└───────────┘   └───┘   └──────────┘                                └───┘   └───────────┘   └───┘   └──────────┘                     └───┘└──────────┘   └───┘    └─────────┘                               └───┘ └──────────┘ └───┘ └─────────┘ └─────────┘└────┘ └─────────┘ └─────────┘                                                                                                                                                                                                                                                                                                                                                                                                                                                                                  └─────────┘                                                                                                └──────────┘                                                                                                                                                                                                                    └───┘         └─────────┘                                                                                                                                                                └──────────┘                                                                                                                                                                                                                                                                                           </pre>"
            ]
          },
          "metadata": {},
          "execution_count": 18
        }
      ]
    },
    {
      "cell_type": "code",
      "source": [
        "# grade your work!\n",
        "grade_lab1_ex4(pm_staged)"
      ],
      "metadata": {
        "colab": {
          "base_uri": "https://localhost:8080/"
        },
        "id": "3J_5pIAsIhab",
        "outputId": "fdcdbd67-73cc-49ba-8577-96f88cd26a35"
      },
      "execution_count": null,
      "outputs": [
        {
          "output_type": "stream",
          "name": "stdout",
          "text": [
            "Submitting your answer. Please wait...\n",
            "Congratulations 🎉! Your answer is correct and has been submitted.\n"
          ]
        }
      ]
    },
    {
      "cell_type": "code",
      "source": [
        "qk_qc = generate_preset_pass_manager(2, backend=backend).run(qc)\n",
        "print_qc_characteristics(qk_qc)"
      ],
      "metadata": {
        "colab": {
          "base_uri": "https://localhost:8080/"
        },
        "id": "NtWxEuEuIljD",
        "outputId": "c5d011ef-3d5a-42f1-e156-d006ec8b73f4"
      },
      "execution_count": null,
      "outputs": [
        {
          "output_type": "stream",
          "name": "stdout",
          "text": [
            "Quantum circuit characteristics\n",
            "  Depth: 65\n",
            "  Number of qubits: 10\n",
            "  Operations: {'rz': 101, 'sx': 10, 'cx': 90}\n",
            "  Number of multi-qubit Operations: 90\n"
          ]
        }
      ]
    },
    {
      "cell_type": "code",
      "source": [
        "def noisy_sim(qc, backend):\n",
        "    # We add measurement operations to the input quantum circuit and then run it on the specified backend\n",
        "    # A GenericBackendV2 automatically constructs a default model of the expected noise processes,\n",
        "    # so backend.run would return noisy simulation results\n",
        "    return backend.run(qc.measure_all(inplace=False), shots=7*1024).result().get_counts()\n",
        "\n",
        "own_transpiler_sim = noisy_sim(qc_routed_synth, backend)\n",
        "qiskit_transpiler_sim = noisy_sim(qk_qc, backend)\n",
        "reference_sim =  noisy_sim(transpile(qc.decompose(), backend=backend), BasicSimulator())\n",
        "\n",
        "print(\"Own transpiler fidelity\", round(hellinger_fidelity(own_transpiler_sim, reference_sim), 4))\n",
        "print(\"Qiskit transpiler fidelity\", round(hellinger_fidelity(qiskit_transpiler_sim, reference_sim), 4))"
      ],
      "metadata": {
        "colab": {
          "base_uri": "https://localhost:8080/"
        },
        "id": "MRJnNxhvIpIm",
        "outputId": "bff63e02-c267-42fa-b731-d24e52e5b7e6"
      },
      "execution_count": null,
      "outputs": [
        {
          "output_type": "stream",
          "name": "stdout",
          "text": [
            "Own transpiler fidelity 0.2486\n",
            "Qiskit transpiler fidelity 0.6244\n"
          ]
        }
      ]
    },
    {
      "cell_type": "code",
      "source": [
        "# Your work goes here!\n",
        "\n",
        "pm_opt = StagedPassManager()\n",
        "# Select pass managers and passes for these five stages as you see suitable, note: not every stage must contain a pass.\n",
        "# Passes are documented at https://docs.quantum.ibm.com/api/qiskit/transpiler_passes\n",
        "\n",
        "# Replace the n-qubit QFT operation with its decomposition in two-qubit gates\n",
        "pm_opt.init = generate_unroll_3q(None)\n",
        "# Initialize the layout stage with an empty pass manager\n",
        "pm_opt.layout = PassManager()\n",
        "# See the first cells in this notebook or\n",
        "#   https://github.com/Qiskit/qiskit/tree/main/qiskit/transpiler/passes/layout for potential layouting passes\n",
        "pm_opt.layout += TrivialLayout(cm)\n",
        "# See the first cells in this notebook or\n",
        "#   https://github.com/Qiskit/qiskit/tree/main/qiskit/transpiler/passes/routing for potential routing passes\n",
        "pm_opt.routing = PassManager(StarPreRouting())\n",
        "# See the first cells in this notebook or\n",
        "#   https://github.com/Qiskit/qiskit/tree/main/qiskit/transpiler/passes/synthesis for potential translation passes\n",
        "pm_opt.translation = PassManager(\n",
        "    [\n",
        "        Collect2qBlocks(),\n",
        "        ConsolidateBlocks(basis_gates=backend.operation_names),\n",
        "        UnitarySynthesis(basis_gates=backend.operation_names)\n",
        "    ]\n",
        ")\n",
        "# See the first cells in this notebook or\n",
        "#   https://github.com/Qiskit/qiskit/tree/main/qiskit/transpiler/passes/optimization for potential optimization passes\n",
        "pm_opt.optimization = None\n",
        "# scheduling is not needed in this lab - we will not run the quantum circuit on a real device\n",
        "# pm_opt.scheduling = None\n",
        "\n",
        "# do not modify the next line\n",
        "pm_opt.layout += generate_embed_passmanager(cm)\n",
        "\n",
        "qc_opt = pm_opt.run(qc)"
      ],
      "metadata": {
        "id": "BvihMr_cI2qW"
      },
      "execution_count": null,
      "outputs": []
    },
    {
      "cell_type": "code",
      "source": [
        "# grade your work!\n",
        "grade_lab1_ex5(pm_opt)"
      ],
      "metadata": {
        "colab": {
          "base_uri": "https://localhost:8080/"
        },
        "id": "035Qu2qmI8X9",
        "outputId": "1b15a4b7-fdd1-4a3a-e049-b1c0d2f8fb19"
      },
      "execution_count": null,
      "outputs": [
        {
          "output_type": "stream",
          "name": "stdout",
          "text": [
            "Submitting your answer. Please wait...\n",
            "Congratulations 🎉! Your answer is correct and has been submitted.\n"
          ]
        }
      ]
    },
    {
      "cell_type": "code",
      "source": [
        "print_qc_characteristics(qc_opt)\n",
        "reduction_ratio = round(100-100*(get_qc_characteristics(qc_opt)['num_multi_qubit_ops']/get_qc_characteristics(qk_qc)['num_multi_qubit_ops']), 3)\n",
        "print(\"Reduction in two-qubit gates compared to qiskit {}%!\".format(reduction_ratio))\n",
        "qc_opt.draw(fold=-1)"
      ],
      "metadata": {
        "colab": {
          "base_uri": "https://localhost:8080/",
          "height": 480
        },
        "id": "TVeWPO4EI-sO",
        "outputId": "b349b93b-e338-4417-9f56-4867f4bc8e96"
      },
      "execution_count": null,
      "outputs": [
        {
          "output_type": "stream",
          "name": "stdout",
          "text": [
            "Quantum circuit characteristics\n",
            "  Depth: 183\n",
            "  Number of qubits: 10\n",
            "  Operations: {'rz': 397, 'sx': 186, 'cx': 133, 'x': 70}\n",
            "  Number of multi-qubit Operations: 133\n",
            "Reduction in two-qubit gates compared to qiskit -47.778%!\n"
          ]
        },
        {
          "output_type": "execute_result",
          "data": {
            "text/plain": [
              "global phase: 1.5723\n",
              "           ┌────────┐  ┌────┐  ┌────────┐                                                                                                                                                                                                                                                                                                                                                                                                                                                                                                                                                                                                                                                                                                                                                                                                                                                                                                                                                                           ┌───┐    ┌──────────┐              ┌───┐   ┌────────────┐    ┌───┐     ┌───┐┌─────────────┐                                                                                                                                                                                                                                                                                                                                                                                                                                                                                                                                                                                                                                                                                                                                                                                                                                                                                                                                                                              \n",
              "q_0 -> 0 ──┤ Rz(-π) ├──┤ √X ├──┤ Rz(-π) ├───────────────────────────────────────────────────────────────────────────────────────────────────────────────────────────────────────────────────────────────────────────────────────────────────────────────────────────────────────────────────────────────────────────────────────────────────────────────────────────────────────────────────────────────────────────────────────────────────────────────────────────────────────────────────────────────────────────────────────────────────────────────────────────────────────────────────────────────────────────────────────────────────────────────────────────────────────────────────────────────────────────────────────────────────────────────────────────────────────────────────────────────────────────────────────────────────────────────────────────────────────────────────────────────────────────────────────────────────────────────────────────────────────────────────────────────────────────┤ X ├────┤ Rz(-π/2) ├──────────────┤ X ├───┤ Rz(1.5677) ├────┤ X ├─────┤ X ├┤ Rz(-3.1385) ├──────────────────────────────────────────────────────────────────────────────────────────────────────────────────────────────────────────────────────────────────────────────────────────────────────────────────────────────────────────────────────────────────────────────────────────────────────────────────────────────────────────────────────────────────────────────────────────────────────────────────────────────────────────────────────────────────────────────────────────────────────────────────────────────────────────────────────────────────────────────────────────────────────────────────────────────────────────────────────────────────────────────────────────────────────────────────────────────────────────────────────────────────────────────────────────────────────────────────────────────────────────────────────────────────────────────────────────────────────────────────────────────────────────────────────────────────────────────\n",
              "           ├────────┤  ├────┤  ├────────┤                                                                                                                                                                                                                                                                                                                                                                                                                                                                                                                                                                                                                                                                                                                                                                                                                                    ┌───┐   ┌──────────┐              ┌───┐   ┌────────────┐    ┌───┐     ┌───┐┌─────────────┐   ┌────────┐       ┌────┐     ┌─────────┐   └─┬─┘    └──┬────┬──┘ ┌────────┐   └─┬─┘   └───┬────┬───┘    └─┬─┘     ├───┤├─────────────┤    ┌────────┐     ┌────┐      ┌────────┐     ┌───┐   ┌──────────┐              ┌───┐   ┌────────────┐    ┌───┐     ┌───┐┌─────────────┐                                                                                                                                                                                                                                                                                                                                                                                                                                                                                                                                                                                                                                                                                                                                                                                                                                      \n",
              "q_1 -> 1 ──┤ Rz(-π) ├──┤ √X ├──┤ Rz(-π) ├────────────────────────────────────────────────────────────────────────────────────────────────────────────────────────────────────────────────────────────────────────────────────────────────────────────────────────────────────────────────────────────────────────────────────────────────────────────────────────────────────────────────────────────────────────────────────────────────────────────────────────────────────────────────────────────────────────────────────────────────────────────────────────────────────────────────────────────────────────────────────────────────────────────────────────────────────────────────────────────────────────────────────────────────────────────────────────────────────────────────────────────────────────────────────────────────────────────────────────────────────┤ X ├───┤ Rz(-π/2) ├──────────────┤ X ├───┤ Rz(1.5647) ├────┤ X ├─────┤ X ├┤ Rz(-3.1355) ├───┤ Rz(-π) ├───────┤ √X ├─────┤ Rz(π/2) ├─────■─────────┤ √X ├────┤ Rz(2π) ├─────■─────────┤ √X ├──────────■───────┤ X ├┤ Rz(-1.5677) ├────┤ Rz(-π) ├─────┤ √X ├──────┤ Rz(-π) ├─────┤ X ├───┤ Rz(-π/2) ├──────────────┤ X ├───┤ Rz(1.5647) ├────┤ X ├─────┤ X ├┤ Rz(-3.1355) ├──────────────────────────────────────────────────────────────────────────────────────────────────────────────────────────────────────────────────────────────────────────────────────────────────────────────────────────────────────────────────────────────────────────────────────────────────────────────────────────────────────────────────────────────────────────────────────────────────────────────────────────────────────────────────────────────────────────────────────────────────────────────────────────────────────────────────────────────────────────────────────────────────────────────────────────────────────────────────────────────────────────────────────────────────────────────────────────────────────────────────────────────────────────────────────────────────────────────────────────────────────\n",
              "           ├────────┤  ├────┤  ├────────┤                                                                                                                                                                                                                                                                                                                                                                                                                                                                                                                                                                                                                                                                                           ┌───┐    ┌──────────┐              ┌───┐   ┌────────────┐    ┌───┐     ┌───┐┌─────────────┐    ┌────────┐     ┌────┐     ┌─────────┐     └─┬─┘   └──┬────┬──┘ ┌────────┐   └─┬─┘   └───┬────┬───┘    └─┬─┘     ├───┤├─────────────┤   ├────────┤       ├────┤     └┬────────┤   ┌───┐    ┌──┴────┴──┐ └────────┘   ┌───┐   ┌───┴────┴───┐    ┌───┐     ├───┤├─────────────┤    ├────────┤     ├────┤     ┌┴────────┤     └─┬─┘   └──┬────┬──┘ ┌────────┐   └─┬─┘   └───┬────┬───┘    └─┬─┘     ├───┤├─────────────┤   ┌────────┐       ┌────┐      ┌────────┐   ┌───┐    ┌──────────┐              ┌───┐   ┌────────────┐    ┌───┐     ┌───┐┌─────────────┐                                                                                                                                                                                                                                                                                                                                                                                                                                                                                                                                                                                                                                                                                              \n",
              "q_2 -> 2 ──┤ Rz(-π) ├──┤ √X ├──┤ Rz(-π) ├───────────────────────────────────────────────────────────────────────────────────────────────────────────────────────────────────────────────────────────────────────────────────────────────────────────────────────────────────────────────────────────────────────────────────────────────────────────────────────────────────────────────────────────────────────────────────────────────────────────────────────────────────────────────────────────────────────────────────────────────────────────────────────────────────────────────────────────────────────────────────────────────────────────────────────────────────────────────────────────────────────────────────────────┤ X ├────┤ Rz(-π/2) ├──────────────┤ X ├───┤ Rz(1.5585) ├────┤ X ├─────┤ X ├┤ Rz(-3.1293) ├────┤ Rz(-π) ├─────┤ √X ├─────┤ Rz(π/2) ├───────■────────┤ √X ├────┤ Rz(2π) ├─────■─────────┤ √X ├──────────■───────┤ X ├┤ Rz(-1.5647) ├───┤ Rz(-π) ├───────┤ √X ├──────┤ Rz(-π) ├───┤ X ├────┤ Rz(-π/2) ├──────────────┤ X ├───┤ Rz(1.5585) ├────┤ X ├─────┤ X ├┤ Rz(-3.1293) ├────┤ Rz(-π) ├─────┤ √X ├─────┤ Rz(π/2) ├───────■────────┤ √X ├────┤ Rz(2π) ├─────■─────────┤ √X ├──────────■───────┤ X ├┤ Rz(-1.5647) ├───┤ Rz(-π) ├───────┤ √X ├──────┤ Rz(-π) ├───┤ X ├────┤ Rz(-π/2) ├──────────────┤ X ├───┤ Rz(1.5585) ├────┤ X ├─────┤ X ├┤ Rz(-3.1293) ├──────────────────────────────────────────────────────────────────────────────────────────────────────────────────────────────────────────────────────────────────────────────────────────────────────────────────────────────────────────────────────────────────────────────────────────────────────────────────────────────────────────────────────────────────────────────────────────────────────────────────────────────────────────────────────────────────────────────────────────────────────────────────────────────────────────────────────────────────────────────────────────────────────────────────────────────────────────────────────────────────────────────────────────────\n",
              "          ┌┴────────┴┐ ├────┤  ├────────┤                                                                                                                                                                                                                                                                                                                                                                                                                                                                                                                                                     ┌───┐   ┌──────────┐              ┌───┐   ┌────────────┐    ┌───┐     ┌───┐┌────────────┐   ┌────────┐       ┌────┐     ┌─────────┐   └─┬─┘    └──┬────┬──┘ ┌────────┐   └─┬─┘   └───┬────┬───┘    └─┬─┘     ├───┤├─────────────┤   ┌┴────────┴┐    ├────┤     └┬────────┤     ┌───┐   ┌──┴────┴──┐ └────────┘   ┌───┐   ┌───┴────┴───┐    ┌───┐     ├───┤└┬────────────┤   ├────────┤       ├────┤     ┌┴────────┤   └─┬─┘    └──┬────┬──┘ ┌────────┐   └─┬─┘   └───┬────┬───┘    └─┬─┘     ├───┤├─────────────┤   ┌┴────────┴┐    ├────┤     └┬────────┤     ┌───┐   ┌──┴────┴──┐ └────────┘   ┌───┐   ┌───┴────┴───┐    ┌───┐     ├───┤└┬────────────┤   ├────────┤       ├────┤     ┌┴────────┤   └─┬─┘    └──┬────┬──┘ ┌────────┐   └─┬─┘   └───┬────┬───┘    └─┬─┘     ├───┤├─────────────┤   ┌──────────┐    ┌────┐      ┌────────┐     ┌───┐   ┌──────────┐              ┌───┐   ┌────────────┐    ┌───┐     ┌───┐┌────────────┐                                                                                                                                                                                                                                                                                                                                                                                                                                                                                                                                                       \n",
              "q_3 -> 3 ─┤ Rz(-π/2) ├─┤ √X ├──┤ Rz(-π) ├─────────────────────────────────────────────────────────────────────────────────────────────────────────────────────────────────────────────────────────────────────────────────────────────────────────────────────────────────────────────────────────────────────────────────────────────────────────────────────────────────────────────────────────────────────────────────────────────────────────────────────────────────────────────────────────────────────────────────────────────────────────────────────────────────────────────────────┤ X ├───┤ Rz(-π/2) ├──────────────┤ X ├───┤ Rz(1.5463) ├────┤ X ├─────┤ X ├┤ Rz(-3.117) ├───┤ Rz(-π) ├───────┤ √X ├─────┤ Rz(π/2) ├─────■─────────┤ √X ├────┤ Rz(2π) ├─────■─────────┤ √X ├──────────■───────┤ X ├┤ Rz(-1.5585) ├───┤ Rz(-π/2) ├────┤ √X ├──────┤ Rz(-π) ├─────┤ X ├───┤ Rz(-π/2) ├──────────────┤ X ├───┤ Rz(1.5463) ├────┤ X ├─────┤ X ├─┤ Rz(-3.117) ├───┤ Rz(-π) ├───────┤ √X ├─────┤ Rz(π/2) ├─────■─────────┤ √X ├────┤ Rz(2π) ├─────■─────────┤ √X ├──────────■───────┤ X ├┤ Rz(-1.5585) ├───┤ Rz(-π/2) ├────┤ √X ├──────┤ Rz(-π) ├─────┤ X ├───┤ Rz(-π/2) ├──────────────┤ X ├───┤ Rz(1.5463) ├────┤ X ├─────┤ X ├─┤ Rz(-3.117) ├───┤ Rz(-π) ├───────┤ √X ├─────┤ Rz(π/2) ├─────■─────────┤ √X ├────┤ Rz(2π) ├─────■─────────┤ √X ├──────────■───────┤ X ├┤ Rz(-1.5585) ├───┤ Rz(-π/2) ├────┤ √X ├──────┤ Rz(-π) ├─────┤ X ├───┤ Rz(-π/2) ├──────────────┤ X ├───┤ Rz(1.5463) ├────┤ X ├─────┤ X ├┤ Rz(-3.117) ├───────────────────────────────────────────────────────────────────────────────────────────────────────────────────────────────────────────────────────────────────────────────────────────────────────────────────────────────────────────────────────────────────────────────────────────────────────────────────────────────────────────────────────────────────────────────────────────────────────────────────────────────────────────────────────────────────────────────────────────────────────────────────────────────────────────────────────\n",
              "          ├──────────┤ ├────┤  └────────┘                                                                                                                                                                                                                                                                                                                                                                                                                                     ┌───┐┌──────────┐          ┌───┐┌────────────┐┌───┐┌─────────────┐    ┌────────┐     ┌────┐     ┌─────────┐     └─┬─┘   └──┬────┬──┘ ┌────────┐   └─┬─┘   └───┬────┬───┘    └─┬─┘     ├───┤├────────────┤  ┌┴────────┴┐      ├────┤     └─────────┘               ├───┬┘   ┌┴────────┴┐              ├───┬┘    ┌────────────┐├───┤├─────────────┤   └┬────────┬┘    ├────┤     ┌┴────────┤     └─┬─┘   └──┬────┬──┘ ┌────────┐   └─┬─┘   └───┬────┬───┘    └─┬─┘     ├───┤ ├────────────┤  ┌┴────────┴┐      ├────┤     └─────────┘               ├───┬┘   ┌┴────────┴┐              ├───┬┘    ┌────────────┐├───┤├─────────────┤   └┬────────┬┘    ├────┤     ┌┴────────┤     └─┬─┘   └──┬────┬──┘ ┌────────┐   └─┬─┘   └───┬────┬───┘    └─┬─┘     ├───┤ ├────────────┤  ┌┴────────┴┐      ├────┤     └─────────┘               ├───┬┘   ┌┴────────┴┐              ├───┬┘    ┌────────────┐├───┤├─────────────┤   └┬────────┬┘    ├────┤     ┌┴────────┤     └─┬─┘   └──┬────┬──┘ ┌────────┐   └─┬─┘   └───┬────┬───┘    └─┬─┘     ├───┤├────────────┤  ┌──────────┐      ┌────┐                       ┌───┐┌──────────┐          ┌───┐┌────────────┐┌───┐┌─────────────┐                                                                                                                                                                                                                                                                                                                                                                                                                                    \n",
              "q_4 -> 4 ─┤ Rz(-π/4) ├─┤ √X ├─────────────────────────────────────────────────────────────────────────────────────────────────────────────────────────────────────────────────────────────────────────────────────────────────────────────────────────────────────────────────────────────────────────────────────────────────────────────────────────────────────────────────────────────────────────────────────────────────────────────────────────────────────────────────┤ X ├┤ Rz(-π/2) ├──────────┤ X ├┤ Rz(1.5217) ├┤ X ├┤ Rz(0.83449) ├────┤ Rz(-π) ├─────┤ √X ├─────┤ Rz(π/2) ├───────■────────┤ √X ├────┤ Rz(2π) ├─────■─────────┤ √X ├──────────■───────┤ X ├┤ Rz(-3.117) ├──┤ Rz(-π/4) ├──────┤ √X ├───────────────────────────────┤ X ├────┤ Rz(-π/2) ├──────────────┤ X ├─────┤ Rz(1.5217) ├┤ X ├┤ Rz(0.83449) ├────┤ Rz(-π) ├─────┤ √X ├─────┤ Rz(π/2) ├───────■────────┤ √X ├────┤ Rz(2π) ├─────■─────────┤ √X ├──────────■───────┤ X ├─┤ Rz(-3.117) ├──┤ Rz(-π/4) ├──────┤ √X ├───────────────────────────────┤ X ├────┤ Rz(-π/2) ├──────────────┤ X ├─────┤ Rz(1.5217) ├┤ X ├┤ Rz(0.83449) ├────┤ Rz(-π) ├─────┤ √X ├─────┤ Rz(π/2) ├───────■────────┤ √X ├────┤ Rz(2π) ├─────■─────────┤ √X ├──────────■───────┤ X ├─┤ Rz(-3.117) ├──┤ Rz(-π/4) ├──────┤ √X ├───────────────────────────────┤ X ├────┤ Rz(-π/2) ├──────────────┤ X ├─────┤ Rz(1.5217) ├┤ X ├┤ Rz(0.83449) ├────┤ Rz(-π) ├─────┤ √X ├─────┤ Rz(π/2) ├───────■────────┤ √X ├────┤ Rz(2π) ├─────■─────────┤ √X ├──────────■───────┤ X ├┤ Rz(-3.117) ├──┤ Rz(-π/4) ├──────┤ √X ├───────────────────────┤ X ├┤ Rz(-π/2) ├──────────┤ X ├┤ Rz(1.5217) ├┤ X ├┤ Rz(0.83449) ├────────────────────────────────────────────────────────────────────────────────────────────────────────────────────────────────────────────────────────────────────────────────────────────────────────────────────────────────────────────────────────────────────────────────────────────────────────────────────────────────────────────────────────────────────────────────────────────────────────────────────────────────────\n",
              "          ├──────────┤ ├────┤  ┌────────┐                                                                                                                                                                                                                                                                                                                            ┌───┐┌──────────┐          ┌───┐┌────────────┐┌───┐┌───┐┌─────────────┐  ┌──────────┐  ┌────┐┌──────────┐└─┬─┘└──┬────┬──┘┌────────┐└─┬─┘└───┬────┬───┘└─┬─┘└┬────────────┤   ┌┴────────┴┐    ├────┤     └┬────────┤                ├───┬┘   ┌┴────────┴┐              ├───┬┘    ┌────────────┐├───┤└───┬───┬────┘┌─┴──────────┴┐  ┌──┴────┴──┐     ┌────┐  ┌──────────┐   └─┬─┘    └──┬────┬──┘┌────────┐    └─┬─┘     └───┬────┬───┘└─┬─┘└┬────────────┤   ┌┴────────┴┐    ├────┤     └┬────────┤                ├───┬┘   ┌┴────────┴┐              ├───┬┘    ┌────────────┐├───┤ └───┬───┬────┘┌─┴──────────┴┐  ┌──┴────┴──┐     ┌────┐  ┌──────────┐   └─┬─┘    └──┬────┬──┘┌────────┐    └─┬─┘     └───┬────┬───┘└─┬─┘└┬────────────┤   ┌┴────────┴┐    ├────┤     └┬────────┤                ├───┬┘   ┌┴────────┴┐              ├───┬┘    ┌────────────┐├───┤ └───┬───┬────┘┌─┴──────────┴┐  ┌──┴────┴──┐     ┌────┐  ┌──────────┐   └─┬─┘    └──┬────┬──┘┌────────┐    └─┬─┘     └───┬────┬───┘└─┬─┘└┬────────────┤   ┌┴────────┴┐    ├────┤     └┬────────┤                ├───┬┘   ┌┴────────┴┐              ├───┬┘    ┌────────────┐├───┤└───┬───┬────┘┌─┴──────────┴┐  ┌──┴────┴──┐  ┌────┐┌──────────┐└─┬─┘└──┬────┬──┘┌────────┐└─┬─┘└───┬────┬───┘└─┬─┘└┬────────────┤   ┌──────────┐    ┌────┐      ┌────────┐             ┌───┐┌──────────┐          ┌───┐┌────────────┐┌───┐┌───┐┌─────────────┐                                                                                                                                                                                                                                                                                                       \n",
              "q_5 -> 5 ─┤ Rz(-π/2) ├─┤ √X ├──┤ Rz(-π) ├────────────────────────────────────────────────────────────────────────────────────────────────────────────────────────────────────────────────────────────────────────────────────────────────────────────────────────────────────────────────────────────────────────────────────────────────────────────────────────────┤ X ├┤ Rz(-π/2) ├──────────┤ X ├┤ Rz(1.4726) ├┤ X ├┤ X ├┤ Rz(-3.0434) ├──┤ Rz(3π/4) ├──┤ √X ├┤ Rz(-π/2) ├──■─────┤ √X ├───┤ Rz(2π) ├──■──────┤ √X ├──────■───┤ Rz(2.4053) ├───┤ Rz(-π/2) ├────┤ √X ├──────┤ Rz(-π) ├────────────────┤ X ├────┤ Rz(-π/2) ├──────────────┤ X ├─────┤ Rz(1.4726) ├┤ X ├────┤ X ├─────┤ Rz(-3.0434) ├──┤ Rz(3π/4) ├─────┤ √X ├──┤ Rz(-π/2) ├─────■─────────┤ √X ├───┤ Rz(2π) ├──────■───────────┤ √X ├──────■───┤ Rz(2.4053) ├───┤ Rz(-π/2) ├────┤ √X ├──────┤ Rz(-π) ├────────────────┤ X ├────┤ Rz(-π/2) ├──────────────┤ X ├─────┤ Rz(1.4726) ├┤ X ├─────┤ X ├─────┤ Rz(-3.0434) ├──┤ Rz(3π/4) ├─────┤ √X ├──┤ Rz(-π/2) ├─────■─────────┤ √X ├───┤ Rz(2π) ├──────■───────────┤ √X ├──────■───┤ Rz(2.4053) ├───┤ Rz(-π/2) ├────┤ √X ├──────┤ Rz(-π) ├────────────────┤ X ├────┤ Rz(-π/2) ├──────────────┤ X ├─────┤ Rz(1.4726) ├┤ X ├─────┤ X ├─────┤ Rz(-3.0434) ├──┤ Rz(3π/4) ├─────┤ √X ├──┤ Rz(-π/2) ├─────■─────────┤ √X ├───┤ Rz(2π) ├──────■───────────┤ √X ├──────■───┤ Rz(2.4053) ├───┤ Rz(-π/2) ├────┤ √X ├──────┤ Rz(-π) ├────────────────┤ X ├────┤ Rz(-π/2) ├──────────────┤ X ├─────┤ Rz(1.4726) ├┤ X ├────┤ X ├─────┤ Rz(-3.0434) ├──┤ Rz(3π/4) ├──┤ √X ├┤ Rz(-π/2) ├──■─────┤ √X ├───┤ Rz(2π) ├──■──────┤ √X ├──────■───┤ Rz(2.4053) ├───┤ Rz(-π/2) ├────┤ √X ├──────┤ Rz(-π) ├─────────────┤ X ├┤ Rz(-π/2) ├──────────┤ X ├┤ Rz(1.4726) ├┤ X ├┤ X ├┤ Rz(-3.0434) ├───────────────────────────────────────────────────────────────────────────────────────────────────────────────────────────────────────────────────────────────────────────────────────────────────────────────────────────────────────────────────────────────────────────────────────────────────────\n",
              "          └┬────────┬┘ ├────┤  ├────────┤                                                                                                                                                                                                     ┌───┐┌──────────┐          ┌───┐┌───────────┐┌───┐     ┌───┐      ┌─────────────┐ ┌────────┐      ┌────┐    ┌─────────┐└─┬─┘└──┬────┬──┘┌────────┐└─┬─┘└───┬────┬───┘└─┬─┘├───┤├─────────────┤  └┬────────┬┘  ├────┤└┬────────┬┘┌───┐┌──┴────┴──┐└────────┘┌───┐┌───┴────┴──┐ ┌───┐ └───┬───┬────┘ ┌─┴──────────┴┐ ┌─┴────┴─┐    └─┬────┬─┘  ┌─────────┐   └─┬─┘    └──┬────┬──┘┌────────┐    └─┬─┘     └───┬────┬───┘└─┬─┘    ├───┤     ├─────────────┤  └┬────────┬┘     ├────┤  └┬────────┬┘   ┌───┐    ┌──┴────┴──┐└────────┘    ┌───┐     ┌───┴────┴──┐ ┌───┐ └───┬───┬────┘ ┌─┴──────────┴┐ ┌─┴────┴─┐    └─┬────┬─┘  ┌─────────┐   └─┬─┘    └──┬────┬──┘┌────────┐    └─┬─┘     └───┬────┬───┘└─┬─┘     ├───┤     ├─────────────┤  └┬────────┬┘     ├────┤  └┬────────┬┘   ┌───┐    ┌──┴────┴──┐└────────┘    ┌───┐     ┌───┴────┴──┐ ┌───┐ └───┬───┬────┘ ┌─┴──────────┴┐ ┌─┴────┴─┐    └─┬────┬─┘  ┌─────────┐   └─┬─┘    └──┬────┬──┘┌────────┐    └─┬─┘     └───┬────┬───┘└─┬─┘     ├───┤     ├─────────────┤  └┬────────┬┘     ├────┤  └┬────────┬┘   ┌───┐    ┌──┴────┴──┐└────────┘    ┌───┐     ┌───┴────┴──┐ ┌───┐ └───┬───┬────┘ ┌─┴──────────┴┐ ┌─┴────┴─┐    └─┬────┬─┘  ┌─────────┐   └─┬─┘    └──┬────┬──┘┌────────┐    └─┬─┘     └───┬────┬───┘└─┬─┘    ├───┤     ├─────────────┤  └┬────────┬┘  ├────┤└┬────────┬┘┌───┐┌──┴────┴──┐└────────┘┌───┐┌───┴────┴──┐ ┌───┐ └───┬───┬────┘ ┌─┴──────────┴┐ ┌─┴────┴─┐    └─┬────┬─┘  ┌─────────┐└─┬─┘└──┬────┬──┘┌────────┐└─┬─┘└───┬────┬───┘└─┬─┘├───┤├─────────────┤   ┌────────┐   ┌────┐ ┌────────┐ ┌───┐┌──────────┐          ┌───┐┌───────────┐┌───┐     ┌───┐      ┌─────────────┐                                                                                                                                                                                    \n",
              "q_6 -> 6 ──┤ Rz(-π) ├──┤ √X ├──┤ Rz(-π) ├─────────────────────────────────────────────────────────────────────────────────────────────────────────────────────────────────────────────────────────────────────────────────────────────────────┤ X ├┤ Rz(-π/2) ├──────────┤ X ├┤ Rz(7π/16) ├┤ X ├─────┤ X ├──────┤ Rz(-15π/16) ├─┤ Rz(-π) ├──────┤ √X ├────┤ Rz(π/2) ├──■─────┤ √X ├───┤ Rz(2π) ├──■──────┤ √X ├──────■──┤ X ├┤ Rz(-3.0434) ├───┤ Rz(-π) ├───┤ √X ├─┤ Rz(-π) ├─┤ X ├┤ Rz(-π/2) ├──────────┤ X ├┤ Rz(7π/16) ├─┤ X ├─────┤ X ├──────┤ Rz(-15π/16) ├─┤ Rz(-π) ├──────┤ √X ├────┤ Rz(π/2) ├─────■─────────┤ √X ├───┤ Rz(2π) ├──────■───────────┤ √X ├──────■──────┤ X ├─────┤ Rz(-3.0434) ├───┤ Rz(-π) ├──────┤ √X ├───┤ Rz(-π) ├────┤ X ├────┤ Rz(-π/2) ├──────────────┤ X ├─────┤ Rz(7π/16) ├─┤ X ├─────┤ X ├──────┤ Rz(-15π/16) ├─┤ Rz(-π) ├──────┤ √X ├────┤ Rz(π/2) ├─────■─────────┤ √X ├───┤ Rz(2π) ├──────■───────────┤ √X ├──────■───────┤ X ├─────┤ Rz(-3.0434) ├───┤ Rz(-π) ├──────┤ √X ├───┤ Rz(-π) ├────┤ X ├────┤ Rz(-π/2) ├──────────────┤ X ├─────┤ Rz(7π/16) ├─┤ X ├─────┤ X ├──────┤ Rz(-15π/16) ├─┤ Rz(-π) ├──────┤ √X ├────┤ Rz(π/2) ├─────■─────────┤ √X ├───┤ Rz(2π) ├──────■───────────┤ √X ├──────■───────┤ X ├─────┤ Rz(-3.0434) ├───┤ Rz(-π) ├──────┤ √X ├───┤ Rz(-π) ├────┤ X ├────┤ Rz(-π/2) ├──────────────┤ X ├─────┤ Rz(7π/16) ├─┤ X ├─────┤ X ├──────┤ Rz(-15π/16) ├─┤ Rz(-π) ├──────┤ √X ├────┤ Rz(π/2) ├─────■─────────┤ √X ├───┤ Rz(2π) ├──────■───────────┤ √X ├──────■──────┤ X ├─────┤ Rz(-3.0434) ├───┤ Rz(-π) ├───┤ √X ├─┤ Rz(-π) ├─┤ X ├┤ Rz(-π/2) ├──────────┤ X ├┤ Rz(7π/16) ├─┤ X ├─────┤ X ├──────┤ Rz(-15π/16) ├─┤ Rz(-π) ├──────┤ √X ├────┤ Rz(π/2) ├──■─────┤ √X ├───┤ Rz(2π) ├──■──────┤ √X ├──────■──┤ X ├┤ Rz(-3.0434) ├───┤ Rz(-π) ├───┤ √X ├─┤ Rz(-π) ├─┤ X ├┤ Rz(-π/2) ├──────────┤ X ├┤ Rz(7π/16) ├┤ X ├─────┤ X ├──────┤ Rz(-15π/16) ├────────────────────────────────────────────────────────────────────────────────────────────────────────────────────────────────────────────────────────────────────────────────────\n",
              "           ├────────┤  ├────┤  ├────────┤                                                                                                ┌───┐┌──────────┐          ┌───┐┌──────────┐┌───┐┌───┐┌───────────┐   ┌────────┐   ┌────┐┌─────────┐ └─┬─┘└──┬────┬──┘┌────────┐└─┬─┘└───┬────┬──┘└─┬─┘     ├───┤      └┬────────────┤ ├────────┤      ├────┤    └┬────────┤┌───┐┌──┴────┴──┐└────────┘┌───┐ ┌──┴────┴──┐ ┌───┐├───┤└┬───────────┬┘   ├────────┤   ├────┤┌┴────────┤ └─┬─┘└──┬────┬──┘┌────────┐└─┬─┘└───┬────┬──┘ └─┬─┘     ├───┤      └┬────────────┤ ├────────┤      ├────┤    └┬────────┤   ┌───┐    ┌──┴────┴──┐└────────┘    ┌───┐      ┌──┴────┴──┐ ┌───┐    ├───┤     └┬───────────┬┘   ├────────┤      ├────┤  ┌┴────────┤    └─┬─┘    └──┬────┬──┘┌────────┐    └─┬─┘     └───┬────┬──┘ └─┬─┘     ├───┤      └┬────────────┤ ├────────┤      ├────┤    └┬────────┤   ┌───┐    ┌──┴────┴──┐└────────┘    ┌───┐      ┌──┴────┴──┐ ┌───┐     ├───┤     └┬───────────┬┘   ├────────┤      ├────┤  ┌┴────────┤    └─┬─┘    └──┬────┬──┘┌────────┐    └─┬─┘     └───┬────┬──┘ └─┬─┘     ├───┤      └┬────────────┤ ├────────┤      ├────┤    └┬────────┤   ┌───┐    ┌──┴────┴──┐└────────┘    ┌───┐      ┌──┴────┴──┐ ┌───┐     ├───┤     └┬───────────┬┘   ├────────┤      ├────┤  ┌┴────────┤    └─┬─┘    └──┬────┬──┘┌────────┐    └─┬─┘     └───┬────┬──┘ └─┬─┘     ├───┤      └┬────────────┤ ├────────┤      ├────┤    └┬────────┤   ┌───┐    ┌──┴────┴──┐└────────┘    ┌───┐      ┌──┴────┴──┐ ┌───┐    ├───┤     └┬───────────┬┘   ├────────┤   ├────┤┌┴────────┤ └─┬─┘└──┬────┬──┘┌────────┐└─┬─┘└───┬────┬──┘ └─┬─┘     ├───┤      └┬────────────┤ ├────────┤      ├────┤    └┬────────┤┌───┐┌──┴────┴──┐└────────┘┌───┐ ┌──┴────┴──┐ ┌───┐├───┤└┬───────────┬┘   ├────────┤   ├────┤┌┴────────┤ └─┬─┘└──┬────┬──┘┌────────┐└─┬─┘└───┬────┬──┘└─┬─┘     ├───┤      └┬────────────┤ ┌────────┐ ┌────┐  ┌────────┐  ┌───┐┌──────────┐          ┌───┐┌──────────┐┌───┐┌───┐┌───────────┐                                                                                 \n",
              "q_7 -> 7 ──┤ Rz(-π) ├──┤ √X ├──┤ Rz(-π) ├────────────────────────────────────────────────────────────────────────────────────────────────┤ X ├┤ Rz(-π/2) ├──────────┤ X ├┤ Rz(3π/8) ├┤ X ├┤ X ├┤ Rz(-7π/8) ├───┤ Rz(-π) ├───┤ √X ├┤ Rz(π/2) ├───■─────┤ √X ├───┤ Rz(2π) ├──■──────┤ √X ├─────■───────┤ X ├───────┤ Rz(-7π/16) ├─┤ Rz(-π) ├──────┤ √X ├─────┤ Rz(-π) ├┤ X ├┤ Rz(-π/2) ├──────────┤ X ├─┤ Rz(3π/8) ├─┤ X ├┤ X ├─┤ Rz(-7π/8) ├────┤ Rz(-π) ├───┤ √X ├┤ Rz(π/2) ├───■─────┤ √X ├───┤ Rz(2π) ├──■──────┤ √X ├──────■───────┤ X ├───────┤ Rz(-7π/16) ├─┤ Rz(-π) ├──────┤ √X ├─────┤ Rz(-π) ├───┤ X ├────┤ Rz(-π/2) ├──────────────┤ X ├──────┤ Rz(3π/8) ├─┤ X ├────┤ X ├──────┤ Rz(-7π/8) ├────┤ Rz(-π) ├──────┤ √X ├──┤ Rz(π/2) ├──────■─────────┤ √X ├───┤ Rz(2π) ├──────■───────────┤ √X ├──────■───────┤ X ├───────┤ Rz(-7π/16) ├─┤ Rz(-π) ├──────┤ √X ├─────┤ Rz(-π) ├───┤ X ├────┤ Rz(-π/2) ├──────────────┤ X ├──────┤ Rz(3π/8) ├─┤ X ├─────┤ X ├──────┤ Rz(-7π/8) ├────┤ Rz(-π) ├──────┤ √X ├──┤ Rz(π/2) ├──────■─────────┤ √X ├───┤ Rz(2π) ├──────■───────────┤ √X ├──────■───────┤ X ├───────┤ Rz(-7π/16) ├─┤ Rz(-π) ├──────┤ √X ├─────┤ Rz(-π) ├───┤ X ├────┤ Rz(-π/2) ├──────────────┤ X ├──────┤ Rz(3π/8) ├─┤ X ├─────┤ X ├──────┤ Rz(-7π/8) ├────┤ Rz(-π) ├──────┤ √X ├──┤ Rz(π/2) ├──────■─────────┤ √X ├───┤ Rz(2π) ├──────■───────────┤ √X ├──────■───────┤ X ├───────┤ Rz(-7π/16) ├─┤ Rz(-π) ├──────┤ √X ├─────┤ Rz(-π) ├───┤ X ├────┤ Rz(-π/2) ├──────────────┤ X ├──────┤ Rz(3π/8) ├─┤ X ├────┤ X ├──────┤ Rz(-7π/8) ├────┤ Rz(-π) ├───┤ √X ├┤ Rz(π/2) ├───■─────┤ √X ├───┤ Rz(2π) ├──■──────┤ √X ├──────■───────┤ X ├───────┤ Rz(-7π/16) ├─┤ Rz(-π) ├──────┤ √X ├─────┤ Rz(-π) ├┤ X ├┤ Rz(-π/2) ├──────────┤ X ├─┤ Rz(3π/8) ├─┤ X ├┤ X ├─┤ Rz(-7π/8) ├────┤ Rz(-π) ├───┤ √X ├┤ Rz(π/2) ├───■─────┤ √X ├───┤ Rz(2π) ├──■──────┤ √X ├─────■───────┤ X ├───────┤ Rz(-7π/16) ├─┤ Rz(-π) ├─┤ √X ├──┤ Rz(-π) ├──┤ X ├┤ Rz(-π/2) ├──────────┤ X ├┤ Rz(3π/8) ├┤ X ├┤ X ├┤ Rz(-7π/8) ├─────────────────────────────────────────────────────────────────────────────────\n",
              "         ┌─┴────────┴─┐└────┘  └────────┘          ┌────┐  ┌───────┐┌────┐     ┌─────────────┐  ┌────┐  ┌──────────┐┌─────────────┐┌────┐└─┬─┘└──────────┘          └─┬─┘└──────────┘└─┬─┘└───┘└───────────┘   └────────┘   └────┘└─────────┘ ┌───┐┌──┴────┴─┐ └────────┘┌───┐ ┌──┴────┴─┐ ┌───┐┌────┴───┴─────┐ └───┬────┬───┘┌┴────────┴┐┌────┴────┴───┐ └─┬────┬─┘└─┬─┘└──────────┘          └─┬─┘ └──────────┘ └─┬─┘└───┘ └───────────┘    └────────┘   └────┘└─────────┘ ┌───┐┌──┴────┴─┐ └────────┘┌───┐ ┌──┴────┴─┐  ┌───┐┌────┴───┴─────┐ └───┬────┬───┘┌┴────────┴┐┌────┴────┴───┐ └─┬────┬─┘   └─┬─┘    └──────────┘              └─┬─┘      └──────────┘ └─┬─┘    └───┘      └───────────┘    └────────┘      └────┘  └─────────┘    ┌───┐    ┌──┴────┴─┐ └────────┘    ┌───┐      ┌──┴────┴─┐  ┌───┐┌────┴───┴─────┐ └───┬────┬───┘┌┴────────┴┐┌────┴────┴───┐ └─┬────┬─┘   └─┬─┘    └──────────┘              └─┬─┘      └──────────┘ └─┬─┘     └───┘      └───────────┘    └────────┘      └────┘  └─────────┘    ┌───┐    ┌──┴────┴─┐ └────────┘    ┌───┐      ┌──┴────┴─┐  ┌───┐┌────┴───┴─────┐ └───┬────┬───┘┌┴────────┴┐┌────┴────┴───┐ └─┬────┬─┘   └─┬─┘    └──────────┘              └─┬─┘      └──────────┘ └─┬─┘     └───┘      └───────────┘    └────────┘      └────┘  └─────────┘    ┌───┐    ┌──┴────┴─┐ └────────┘    ┌───┐      ┌──┴────┴─┐  ┌───┐┌────┴───┴─────┐ └───┬────┬───┘┌┴────────┴┐┌────┴────┴───┐ └─┬────┬─┘   └─┬─┘    └──────────┘              └─┬─┘      └──────────┘ └─┬─┘    └───┘      └───────────┘    └────────┘   └────┘└─────────┘ ┌───┐┌──┴────┴─┐ └────────┘┌───┐ ┌──┴────┴─┐  ┌───┐┌────┴───┴─────┐ └───┬────┬───┘┌┴────────┴┐┌────┴────┴───┐ └─┬────┬─┘└─┬─┘└──────────┘          └─┬─┘ └──────────┘ └─┬─┘└───┘ └───────────┘    └────────┘   └────┘└─────────┘ ┌───┐┌──┴────┴─┐ └────────┘┌───┐ ┌──┴────┴─┐ ┌───┐┌────┴───┴─────┐ └───┬────┬───┘┌┴────────┴┐├───┬┘┌─┴────────┴─┐└─┬─┘└──────────┘          └─┬─┘└──────────┘└─┬─┘└───┘└───────────┘                    ┌────┐  ┌───────┐┌────┐     ┌─────────────┐                  \n",
              "q_8 -> 8 ┤ Rz(2.6805) ├──────────────────────■─────┤ √X ├──┤ Rz(0) ├┤ √X ├──■──┤ Rz(-2.8173) ├──┤ √X ├──┤ Rz(-π/2) ├┤ Rz(0.56416) ├┤ √X ├──┼──────────────────────────┼────────────────┼──────────────────────────────────────────────────────┤ X ├┤ Rz(π/2) ├───────────┤ X ├─┤ Rz(π/4) ├─┤ X ├┤ Rz(-0.20297) ├─────┤ √X ├────┤ Rz(-π/2) ├┤ Rz(0.56416) ├───┤ √X ├────┼──────────────────────────┼──────────────────┼────────────────────────────────────────────────────────┤ X ├┤ Rz(π/2) ├───────────┤ X ├─┤ Rz(π/4) ├──┤ X ├┤ Rz(-0.20297) ├─────┤ √X ├────┤ Rz(-π/2) ├┤ Rz(0.56416) ├───┤ √X ├───────┼──────────────────────────────────┼───────────────────────┼─────────────────────────────────────────────────────────────────────────┤ X ├────┤ Rz(π/2) ├───────────────┤ X ├──────┤ Rz(π/4) ├──┤ X ├┤ Rz(-0.20297) ├─────┤ √X ├────┤ Rz(-π/2) ├┤ Rz(0.56416) ├───┤ √X ├───────┼──────────────────────────────────┼───────────────────────┼──────────────────────────────────────────────────────────────────────────┤ X ├────┤ Rz(π/2) ├───────────────┤ X ├──────┤ Rz(π/4) ├──┤ X ├┤ Rz(-0.20297) ├─────┤ √X ├────┤ Rz(-π/2) ├┤ Rz(0.56416) ├───┤ √X ├───────┼──────────────────────────────────┼───────────────────────┼──────────────────────────────────────────────────────────────────────────┤ X ├────┤ Rz(π/2) ├───────────────┤ X ├──────┤ Rz(π/4) ├──┤ X ├┤ Rz(-0.20297) ├─────┤ √X ├────┤ Rz(-π/2) ├┤ Rz(0.56416) ├───┤ √X ├───────┼──────────────────────────────────┼───────────────────────┼─────────────────────────────────────────────────────────────────┤ X ├┤ Rz(π/2) ├───────────┤ X ├─┤ Rz(π/4) ├──┤ X ├┤ Rz(-0.20297) ├─────┤ √X ├────┤ Rz(-π/2) ├┤ Rz(0.56416) ├───┤ √X ├────┼──────────────────────────┼──────────────────┼────────────────────────────────────────────────────────┤ X ├┤ Rz(π/2) ├───────────┤ X ├─┤ Rz(π/4) ├─┤ X ├┤ Rz(-0.20297) ├─────┤ √X ├────┤ Rz(-π/2) ├┤ X ├─┤ Rz(2.6805) ├──┼──────────────────────────┼────────────────┼──────────────────────────────────■─────┤ √X ├──┤ Rz(0) ├┤ √X ├──■──┤ Rz(-2.8173) ├──────────────────\n",
              "         └┬──────────┬┘┌────┐┌────────────┐┌─┴─┐┌──┴────┴─┐└───────┘└────┘┌─┴─┐└┬────────────┤┌─┴────┴─┐└──┬────┬──┘└─┬─────────┬─┘└────┘  │     ┌────┐   ┌────────┐  │     ┌────┐     │  ┌───┐┌───────────┐┌──────────────┐┌────┐┌──────────┐└─┬─┘└──┬────┬─┘ ┌────────┐└─┬─┘ └──┬────┬─┘ └─┬─┘└────┬───┬─────┘ ┌───┴────┴──┐ └┬────────┬┘└────┬────┬───┘┌──┴────┴─┐  │     ┌────┐   ┌────────┐  │      ┌────┐      │  ┌───┐ ┌───────────┐ ┌──────────────┐┌────┐┌──────────┐└─┬─┘└──┬────┬─┘ ┌────────┐└─┬─┘ └──┬────┬─┘  └─┬─┘└────┬───┬─────┘ ┌───┴────┴──┐ └┬────────┬┘└────┬────┬───┘┌──┴────┴─┐     │         ┌────┐   ┌────────┐      │           ┌────┐      │      ┌───┐      ┌───────────┐ ┌──────────────┐   ┌────┐  ┌──────────┐   └─┬─┘    └──┬────┬─┘ ┌────────┐    └─┬─┘      └──┬────┬─┘  └─┬─┘└────┬───┬─────┘ ┌───┴────┴──┐ └┬────────┬┘└────┬────┬───┘┌──┴────┴─┐     │         ┌────┐   ┌────────┐      │           ┌────┐      │       ┌───┐      ┌───────────┐ ┌──────────────┐   ┌────┐  ┌──────────┐   └─┬─┘    └──┬────┬─┘ ┌────────┐    └─┬─┘      └──┬────┬─┘  └─┬─┘└────┬───┬─────┘ ┌───┴────┴──┐ └┬────────┬┘└────┬────┬───┘┌──┴────┴─┐     │         ┌────┐   ┌────────┐      │           ┌────┐      │       ┌───┐      ┌───────────┐ ┌──────────────┐   ┌────┐  ┌──────────┐   └─┬─┘    └──┬────┬─┘ ┌────────┐    └─┬─┘      └──┬────┬─┘  └─┬─┘└────┬───┬─────┘ ┌───┴────┴──┐ └┬────────┬┘└────┬────┬───┘┌──┴────┴─┐     │         ┌────┐   ┌────────┐      │           ┌────┐      │      ┌───┐      ┌───────────┐ ┌──────────────┐┌────┐┌──────────┐└─┬─┘└──┬────┬─┘ ┌────────┐└─┬─┘ └──┬────┬─┘  └─┬─┘└────┬───┬─────┘ ┌───┴────┴──┐ └┬────────┬┘└────┬────┬───┘┌──┴────┴─┐  │     ┌────┐   ┌────────┐  │      ┌────┐      │  ┌───┐ ┌───────────┐ ┌──────────────┐┌────┐┌──────────┐└─┬─┘└──┬────┬─┘ ┌────────┐└─┬─┘ └──┬────┬─┘ └─┬─┘└────┬───┬─────┘ ┌───┴────┴──┐ └┬────────┬┘├───┴┐└┬─────────┬─┘  │     ┌────┐   ┌────────┐  │     ┌────┐     │  ┌───┐┌───────────┐┌──────────┐┌─┴─┐┌──┴────┴─┐└───────┘└────┘┌─┴─┐└─┬──────────┬┘┌────┐┌──────────┐\n",
              "q_9 -> 9 ─┤ Rz(-π/2) ├─┤ √X ├┤ Rz(2.9101) ├┤ X ├┤ Rz(π/4) ├───────────────┤ X ├─┤ Rz(2.1247) ├┤ Rz(-π) ├───┤ √X ├─────┤ Rz(π/2) ├──────────■─────┤ √X ├───┤ Rz(2π) ├──■─────┤ √X ├─────■──┤ X ├┤ Rz(-3π/8) ├┤ Rz(-0.98836) ├┤ √X ├┤ Rz(-π/2) ├──■─────┤ √X ├───┤ Rz(2π) ├──■──────┤ √X ├─────■───────┤ X ├───────┤ Rz(1.792) ├──┤ Rz(-π) ├──────┤ √X ├────┤ Rz(π/2) ├──■─────┤ √X ├───┤ Rz(2π) ├──■──────┤ √X ├──────■──┤ X ├─┤ Rz(-3π/8) ├─┤ Rz(-0.98836) ├┤ √X ├┤ Rz(-π/2) ├──■─────┤ √X ├───┤ Rz(2π) ├──■──────┤ √X ├──────■───────┤ X ├───────┤ Rz(1.792) ├──┤ Rz(-π) ├──────┤ √X ├────┤ Rz(π/2) ├─────■─────────┤ √X ├───┤ Rz(2π) ├──────■───────────┤ √X ├──────■──────┤ X ├──────┤ Rz(-3π/8) ├─┤ Rz(-0.98836) ├───┤ √X ├──┤ Rz(-π/2) ├─────■─────────┤ √X ├───┤ Rz(2π) ├──────■───────────┤ √X ├──────■───────┤ X ├───────┤ Rz(1.792) ├──┤ Rz(-π) ├──────┤ √X ├────┤ Rz(π/2) ├─────■─────────┤ √X ├───┤ Rz(2π) ├──────■───────────┤ √X ├──────■───────┤ X ├──────┤ Rz(-3π/8) ├─┤ Rz(-0.98836) ├───┤ √X ├──┤ Rz(-π/2) ├─────■─────────┤ √X ├───┤ Rz(2π) ├──────■───────────┤ √X ├──────■───────┤ X ├───────┤ Rz(1.792) ├──┤ Rz(-π) ├──────┤ √X ├────┤ Rz(π/2) ├─────■─────────┤ √X ├───┤ Rz(2π) ├──────■───────────┤ √X ├──────■───────┤ X ├──────┤ Rz(-3π/8) ├─┤ Rz(-0.98836) ├───┤ √X ├──┤ Rz(-π/2) ├─────■─────────┤ √X ├───┤ Rz(2π) ├──────■───────────┤ √X ├──────■───────┤ X ├───────┤ Rz(1.792) ├──┤ Rz(-π) ├──────┤ √X ├────┤ Rz(π/2) ├─────■─────────┤ √X ├───┤ Rz(2π) ├──────■───────────┤ √X ├──────■──────┤ X ├──────┤ Rz(-3π/8) ├─┤ Rz(-0.98836) ├┤ √X ├┤ Rz(-π/2) ├──■─────┤ √X ├───┤ Rz(2π) ├──■──────┤ √X ├──────■───────┤ X ├───────┤ Rz(1.792) ├──┤ Rz(-π) ├──────┤ √X ├────┤ Rz(π/2) ├──■─────┤ √X ├───┤ Rz(2π) ├──■──────┤ √X ├──────■──┤ X ├─┤ Rz(-3π/8) ├─┤ Rz(-0.98836) ├┤ √X ├┤ Rz(-π/2) ├──■─────┤ √X ├───┤ Rz(2π) ├──■──────┤ √X ├─────■───────┤ X ├───────┤ Rz(1.792) ├──┤ Rz(-π) ├─┤ √X ├─┤ Rz(π/2) ├────■─────┤ √X ├───┤ Rz(2π) ├──■─────┤ √X ├─────■──┤ X ├┤ Rz(-3π/8) ├┤ Rz(-π/2) ├┤ X ├┤ Rz(π/4) ├───────────────┤ X ├──┤ Rz(-π/4) ├─┤ √X ├┤ Rz(-π/2) ├\n",
              "          └──────────┘ └────┘└────────────┘└───┘└─────────┘               └───┘ └────────────┘└────────┘   └────┘     └─────────┘                └────┘   └────────┘        └────┘        └───┘└───────────┘└──────────────┘└────┘└──────────┘        └────┘   └────────┘         └────┘             └───┘       └───────────┘  └────────┘      └────┘    └─────────┘        └────┘   └────────┘         └────┘         └───┘ └───────────┘ └──────────────┘└────┘└──────────┘        └────┘   └────────┘         └────┘              └───┘       └───────────┘  └────────┘      └────┘    └─────────┘               └────┘   └────────┘                  └────┘             └───┘      └───────────┘ └──────────────┘   └────┘  └──────────┘               └────┘   └────────┘                  └────┘              └───┘       └───────────┘  └────────┘      └────┘    └─────────┘               └────┘   └────────┘                  └────┘              └───┘      └───────────┘ └──────────────┘   └────┘  └──────────┘               └────┘   └────────┘                  └────┘              └───┘       └───────────┘  └────────┘      └────┘    └─────────┘               └────┘   └────────┘                  └────┘              └───┘      └───────────┘ └──────────────┘   └────┘  └──────────┘               └────┘   └────────┘                  └────┘              └───┘       └───────────┘  └────────┘      └────┘    └─────────┘               └────┘   └────────┘                  └────┘             └───┘      └───────────┘ └──────────────┘└────┘└──────────┘        └────┘   └────────┘         └────┘              └───┘       └───────────┘  └────────┘      └────┘    └─────────┘        └────┘   └────────┘         └────┘         └───┘ └───────────┘ └──────────────┘└────┘└──────────┘        └────┘   └────────┘         └────┘             └───┘       └───────────┘  └────────┘ └────┘ └─────────┘          └────┘   └────────┘        └────┘        └───┘└───────────┘└──────────┘└───┘└─────────┘               └───┘  └──────────┘ └────┘└──────────┘"
            ],
            "text/html": [
              "<pre style=\"word-wrap: normal;white-space: pre;background: #fff0;line-height: 1.1;font-family: &quot;Courier New&quot;,Courier,monospace\">global phase: 1.5723\n",
              "           ┌────────┐  ┌────┐  ┌────────┐                                                                                                                                                                                                                                                                                                                                                                                                                                                                                                                                                                                                                                                                                                                                                                                                                                                                                                                                                                           ┌───┐    ┌──────────┐              ┌───┐   ┌────────────┐    ┌───┐     ┌───┐┌─────────────┐                                                                                                                                                                                                                                                                                                                                                                                                                                                                                                                                                                                                                                                                                                                                                                                                                                                                                                                                                                              \n",
              "q_0 -> 0 ──┤ Rz(-π) ├──┤ √X ├──┤ Rz(-π) ├───────────────────────────────────────────────────────────────────────────────────────────────────────────────────────────────────────────────────────────────────────────────────────────────────────────────────────────────────────────────────────────────────────────────────────────────────────────────────────────────────────────────────────────────────────────────────────────────────────────────────────────────────────────────────────────────────────────────────────────────────────────────────────────────────────────────────────────────────────────────────────────────────────────────────────────────────────────────────────────────────────────────────────────────────────────────────────────────────────────────────────────────────────────────────────────────────────────────────────────────────────────────────────────────────────────────────────────────────────────────────────────────────────────────────────────────────────────┤ X ├────┤ Rz(-π/2) ├──────────────┤ X ├───┤ Rz(1.5677) ├────┤ X ├─────┤ X ├┤ Rz(-3.1385) ├──────────────────────────────────────────────────────────────────────────────────────────────────────────────────────────────────────────────────────────────────────────────────────────────────────────────────────────────────────────────────────────────────────────────────────────────────────────────────────────────────────────────────────────────────────────────────────────────────────────────────────────────────────────────────────────────────────────────────────────────────────────────────────────────────────────────────────────────────────────────────────────────────────────────────────────────────────────────────────────────────────────────────────────────────────────────────────────────────────────────────────────────────────────────────────────────────────────────────────────────────────────────────────────────────────────────────────────────────────────────────────────────────────────────────────────────────────────────\n",
              "           ├────────┤  ├────┤  ├────────┤                                                                                                                                                                                                                                                                                                                                                                                                                                                                                                                                                                                                                                                                                                                                                                                                                                    ┌───┐   ┌──────────┐              ┌───┐   ┌────────────┐    ┌───┐     ┌───┐┌─────────────┐   ┌────────┐       ┌────┐     ┌─────────┐   └─┬─┘    └──┬────┬──┘ ┌────────┐   └─┬─┘   └───┬────┬───┘    └─┬─┘     ├───┤├─────────────┤    ┌────────┐     ┌────┐      ┌────────┐     ┌───┐   ┌──────────┐              ┌───┐   ┌────────────┐    ┌───┐     ┌───┐┌─────────────┐                                                                                                                                                                                                                                                                                                                                                                                                                                                                                                                                                                                                                                                                                                                                                                                                                                      \n",
              "q_1 -> 1 ──┤ Rz(-π) ├──┤ √X ├──┤ Rz(-π) ├────────────────────────────────────────────────────────────────────────────────────────────────────────────────────────────────────────────────────────────────────────────────────────────────────────────────────────────────────────────────────────────────────────────────────────────────────────────────────────────────────────────────────────────────────────────────────────────────────────────────────────────────────────────────────────────────────────────────────────────────────────────────────────────────────────────────────────────────────────────────────────────────────────────────────────────────────────────────────────────────────────────────────────────────────────────────────────────────────────────────────────────────────────────────────────────────────────────────────────────────────┤ X ├───┤ Rz(-π/2) ├──────────────┤ X ├───┤ Rz(1.5647) ├────┤ X ├─────┤ X ├┤ Rz(-3.1355) ├───┤ Rz(-π) ├───────┤ √X ├─────┤ Rz(π/2) ├─────■─────────┤ √X ├────┤ Rz(2π) ├─────■─────────┤ √X ├──────────■───────┤ X ├┤ Rz(-1.5677) ├────┤ Rz(-π) ├─────┤ √X ├──────┤ Rz(-π) ├─────┤ X ├───┤ Rz(-π/2) ├──────────────┤ X ├───┤ Rz(1.5647) ├────┤ X ├─────┤ X ├┤ Rz(-3.1355) ├──────────────────────────────────────────────────────────────────────────────────────────────────────────────────────────────────────────────────────────────────────────────────────────────────────────────────────────────────────────────────────────────────────────────────────────────────────────────────────────────────────────────────────────────────────────────────────────────────────────────────────────────────────────────────────────────────────────────────────────────────────────────────────────────────────────────────────────────────────────────────────────────────────────────────────────────────────────────────────────────────────────────────────────────────────────────────────────────────────────────────────────────────────────────────────────────────────────────────────────────────────\n",
              "           ├────────┤  ├────┤  ├────────┤                                                                                                                                                                                                                                                                                                                                                                                                                                                                                                                                                                                                                                                                                           ┌───┐    ┌──────────┐              ┌───┐   ┌────────────┐    ┌───┐     ┌───┐┌─────────────┐    ┌────────┐     ┌────┐     ┌─────────┐     └─┬─┘   └──┬────┬──┘ ┌────────┐   └─┬─┘   └───┬────┬───┘    └─┬─┘     ├───┤├─────────────┤   ├────────┤       ├────┤     └┬────────┤   ┌───┐    ┌──┴────┴──┐ └────────┘   ┌───┐   ┌───┴────┴───┐    ┌───┐     ├───┤├─────────────┤    ├────────┤     ├────┤     ┌┴────────┤     └─┬─┘   └──┬────┬──┘ ┌────────┐   └─┬─┘   └───┬────┬───┘    └─┬─┘     ├───┤├─────────────┤   ┌────────┐       ┌────┐      ┌────────┐   ┌───┐    ┌──────────┐              ┌───┐   ┌────────────┐    ┌───┐     ┌───┐┌─────────────┐                                                                                                                                                                                                                                                                                                                                                                                                                                                                                                                                                                                                                                                                                              \n",
              "q_2 -> 2 ──┤ Rz(-π) ├──┤ √X ├──┤ Rz(-π) ├───────────────────────────────────────────────────────────────────────────────────────────────────────────────────────────────────────────────────────────────────────────────────────────────────────────────────────────────────────────────────────────────────────────────────────────────────────────────────────────────────────────────────────────────────────────────────────────────────────────────────────────────────────────────────────────────────────────────────────────────────────────────────────────────────────────────────────────────────────────────────────────────────────────────────────────────────────────────────────────────────────────────────────────┤ X ├────┤ Rz(-π/2) ├──────────────┤ X ├───┤ Rz(1.5585) ├────┤ X ├─────┤ X ├┤ Rz(-3.1293) ├────┤ Rz(-π) ├─────┤ √X ├─────┤ Rz(π/2) ├───────■────────┤ √X ├────┤ Rz(2π) ├─────■─────────┤ √X ├──────────■───────┤ X ├┤ Rz(-1.5647) ├───┤ Rz(-π) ├───────┤ √X ├──────┤ Rz(-π) ├───┤ X ├────┤ Rz(-π/2) ├──────────────┤ X ├───┤ Rz(1.5585) ├────┤ X ├─────┤ X ├┤ Rz(-3.1293) ├────┤ Rz(-π) ├─────┤ √X ├─────┤ Rz(π/2) ├───────■────────┤ √X ├────┤ Rz(2π) ├─────■─────────┤ √X ├──────────■───────┤ X ├┤ Rz(-1.5647) ├───┤ Rz(-π) ├───────┤ √X ├──────┤ Rz(-π) ├───┤ X ├────┤ Rz(-π/2) ├──────────────┤ X ├───┤ Rz(1.5585) ├────┤ X ├─────┤ X ├┤ Rz(-3.1293) ├──────────────────────────────────────────────────────────────────────────────────────────────────────────────────────────────────────────────────────────────────────────────────────────────────────────────────────────────────────────────────────────────────────────────────────────────────────────────────────────────────────────────────────────────────────────────────────────────────────────────────────────────────────────────────────────────────────────────────────────────────────────────────────────────────────────────────────────────────────────────────────────────────────────────────────────────────────────────────────────────────────────────────────────────\n",
              "          ┌┴────────┴┐ ├────┤  ├────────┤                                                                                                                                                                                                                                                                                                                                                                                                                                                                                                                                                     ┌───┐   ┌──────────┐              ┌───┐   ┌────────────┐    ┌───┐     ┌───┐┌────────────┐   ┌────────┐       ┌────┐     ┌─────────┐   └─┬─┘    └──┬────┬──┘ ┌────────┐   └─┬─┘   └───┬────┬───┘    └─┬─┘     ├───┤├─────────────┤   ┌┴────────┴┐    ├────┤     └┬────────┤     ┌───┐   ┌──┴────┴──┐ └────────┘   ┌───┐   ┌───┴────┴───┐    ┌───┐     ├───┤└┬────────────┤   ├────────┤       ├────┤     ┌┴────────┤   └─┬─┘    └──┬────┬──┘ ┌────────┐   └─┬─┘   └───┬────┬───┘    └─┬─┘     ├───┤├─────────────┤   ┌┴────────┴┐    ├────┤     └┬────────┤     ┌───┐   ┌──┴────┴──┐ └────────┘   ┌───┐   ┌───┴────┴───┐    ┌───┐     ├───┤└┬────────────┤   ├────────┤       ├────┤     ┌┴────────┤   └─┬─┘    └──┬────┬──┘ ┌────────┐   └─┬─┘   └───┬────┬───┘    └─┬─┘     ├───┤├─────────────┤   ┌──────────┐    ┌────┐      ┌────────┐     ┌───┐   ┌──────────┐              ┌───┐   ┌────────────┐    ┌───┐     ┌───┐┌────────────┐                                                                                                                                                                                                                                                                                                                                                                                                                                                                                                                                                       \n",
              "q_3 -> 3 ─┤ Rz(-π/2) ├─┤ √X ├──┤ Rz(-π) ├─────────────────────────────────────────────────────────────────────────────────────────────────────────────────────────────────────────────────────────────────────────────────────────────────────────────────────────────────────────────────────────────────────────────────────────────────────────────────────────────────────────────────────────────────────────────────────────────────────────────────────────────────────────────────────────────────────────────────────────────────────────────────────────────────────────────────────┤ X ├───┤ Rz(-π/2) ├──────────────┤ X ├───┤ Rz(1.5463) ├────┤ X ├─────┤ X ├┤ Rz(-3.117) ├───┤ Rz(-π) ├───────┤ √X ├─────┤ Rz(π/2) ├─────■─────────┤ √X ├────┤ Rz(2π) ├─────■─────────┤ √X ├──────────■───────┤ X ├┤ Rz(-1.5585) ├───┤ Rz(-π/2) ├────┤ √X ├──────┤ Rz(-π) ├─────┤ X ├───┤ Rz(-π/2) ├──────────────┤ X ├───┤ Rz(1.5463) ├────┤ X ├─────┤ X ├─┤ Rz(-3.117) ├───┤ Rz(-π) ├───────┤ √X ├─────┤ Rz(π/2) ├─────■─────────┤ √X ├────┤ Rz(2π) ├─────■─────────┤ √X ├──────────■───────┤ X ├┤ Rz(-1.5585) ├───┤ Rz(-π/2) ├────┤ √X ├──────┤ Rz(-π) ├─────┤ X ├───┤ Rz(-π/2) ├──────────────┤ X ├───┤ Rz(1.5463) ├────┤ X ├─────┤ X ├─┤ Rz(-3.117) ├───┤ Rz(-π) ├───────┤ √X ├─────┤ Rz(π/2) ├─────■─────────┤ √X ├────┤ Rz(2π) ├─────■─────────┤ √X ├──────────■───────┤ X ├┤ Rz(-1.5585) ├───┤ Rz(-π/2) ├────┤ √X ├──────┤ Rz(-π) ├─────┤ X ├───┤ Rz(-π/2) ├──────────────┤ X ├───┤ Rz(1.5463) ├────┤ X ├─────┤ X ├┤ Rz(-3.117) ├───────────────────────────────────────────────────────────────────────────────────────────────────────────────────────────────────────────────────────────────────────────────────────────────────────────────────────────────────────────────────────────────────────────────────────────────────────────────────────────────────────────────────────────────────────────────────────────────────────────────────────────────────────────────────────────────────────────────────────────────────────────────────────────────────────────────────────\n",
              "          ├──────────┤ ├────┤  └────────┘                                                                                                                                                                                                                                                                                                                                                                                                                                     ┌───┐┌──────────┐          ┌───┐┌────────────┐┌───┐┌─────────────┐    ┌────────┐     ┌────┐     ┌─────────┐     └─┬─┘   └──┬────┬──┘ ┌────────┐   └─┬─┘   └───┬────┬───┘    └─┬─┘     ├───┤├────────────┤  ┌┴────────┴┐      ├────┤     └─────────┘               ├───┬┘   ┌┴────────┴┐              ├───┬┘    ┌────────────┐├───┤├─────────────┤   └┬────────┬┘    ├────┤     ┌┴────────┤     └─┬─┘   └──┬────┬──┘ ┌────────┐   └─┬─┘   └───┬────┬───┘    └─┬─┘     ├───┤ ├────────────┤  ┌┴────────┴┐      ├────┤     └─────────┘               ├───┬┘   ┌┴────────┴┐              ├───┬┘    ┌────────────┐├───┤├─────────────┤   └┬────────┬┘    ├────┤     ┌┴────────┤     └─┬─┘   └──┬────┬──┘ ┌────────┐   └─┬─┘   └───┬────┬───┘    └─┬─┘     ├───┤ ├────────────┤  ┌┴────────┴┐      ├────┤     └─────────┘               ├───┬┘   ┌┴────────┴┐              ├───┬┘    ┌────────────┐├───┤├─────────────┤   └┬────────┬┘    ├────┤     ┌┴────────┤     └─┬─┘   └──┬────┬──┘ ┌────────┐   └─┬─┘   └───┬────┬───┘    └─┬─┘     ├───┤├────────────┤  ┌──────────┐      ┌────┐                       ┌───┐┌──────────┐          ┌───┐┌────────────┐┌───┐┌─────────────┐                                                                                                                                                                                                                                                                                                                                                                                                                                    \n",
              "q_4 -> 4 ─┤ Rz(-π/4) ├─┤ √X ├─────────────────────────────────────────────────────────────────────────────────────────────────────────────────────────────────────────────────────────────────────────────────────────────────────────────────────────────────────────────────────────────────────────────────────────────────────────────────────────────────────────────────────────────────────────────────────────────────────────────────────────────────────────────────┤ X ├┤ Rz(-π/2) ├──────────┤ X ├┤ Rz(1.5217) ├┤ X ├┤ Rz(0.83449) ├────┤ Rz(-π) ├─────┤ √X ├─────┤ Rz(π/2) ├───────■────────┤ √X ├────┤ Rz(2π) ├─────■─────────┤ √X ├──────────■───────┤ X ├┤ Rz(-3.117) ├──┤ Rz(-π/4) ├──────┤ √X ├───────────────────────────────┤ X ├────┤ Rz(-π/2) ├──────────────┤ X ├─────┤ Rz(1.5217) ├┤ X ├┤ Rz(0.83449) ├────┤ Rz(-π) ├─────┤ √X ├─────┤ Rz(π/2) ├───────■────────┤ √X ├────┤ Rz(2π) ├─────■─────────┤ √X ├──────────■───────┤ X ├─┤ Rz(-3.117) ├──┤ Rz(-π/4) ├──────┤ √X ├───────────────────────────────┤ X ├────┤ Rz(-π/2) ├──────────────┤ X ├─────┤ Rz(1.5217) ├┤ X ├┤ Rz(0.83449) ├────┤ Rz(-π) ├─────┤ √X ├─────┤ Rz(π/2) ├───────■────────┤ √X ├────┤ Rz(2π) ├─────■─────────┤ √X ├──────────■───────┤ X ├─┤ Rz(-3.117) ├──┤ Rz(-π/4) ├──────┤ √X ├───────────────────────────────┤ X ├────┤ Rz(-π/2) ├──────────────┤ X ├─────┤ Rz(1.5217) ├┤ X ├┤ Rz(0.83449) ├────┤ Rz(-π) ├─────┤ √X ├─────┤ Rz(π/2) ├───────■────────┤ √X ├────┤ Rz(2π) ├─────■─────────┤ √X ├──────────■───────┤ X ├┤ Rz(-3.117) ├──┤ Rz(-π/4) ├──────┤ √X ├───────────────────────┤ X ├┤ Rz(-π/2) ├──────────┤ X ├┤ Rz(1.5217) ├┤ X ├┤ Rz(0.83449) ├────────────────────────────────────────────────────────────────────────────────────────────────────────────────────────────────────────────────────────────────────────────────────────────────────────────────────────────────────────────────────────────────────────────────────────────────────────────────────────────────────────────────────────────────────────────────────────────────────────────────────────────────────\n",
              "          ├──────────┤ ├────┤  ┌────────┐                                                                                                                                                                                                                                                                                                                            ┌───┐┌──────────┐          ┌───┐┌────────────┐┌───┐┌───┐┌─────────────┐  ┌──────────┐  ┌────┐┌──────────┐└─┬─┘└──┬────┬──┘┌────────┐└─┬─┘└───┬────┬───┘└─┬─┘└┬────────────┤   ┌┴────────┴┐    ├────┤     └┬────────┤                ├───┬┘   ┌┴────────┴┐              ├───┬┘    ┌────────────┐├───┤└───┬───┬────┘┌─┴──────────┴┐  ┌──┴────┴──┐     ┌────┐  ┌──────────┐   └─┬─┘    └──┬────┬──┘┌────────┐    └─┬─┘     └───┬────┬───┘└─┬─┘└┬────────────┤   ┌┴────────┴┐    ├────┤     └┬────────┤                ├───┬┘   ┌┴────────┴┐              ├───┬┘    ┌────────────┐├───┤ └───┬───┬────┘┌─┴──────────┴┐  ┌──┴────┴──┐     ┌────┐  ┌──────────┐   └─┬─┘    └──┬────┬──┘┌────────┐    └─┬─┘     └───┬────┬───┘└─┬─┘└┬────────────┤   ┌┴────────┴┐    ├────┤     └┬────────┤                ├───┬┘   ┌┴────────┴┐              ├───┬┘    ┌────────────┐├───┤ └───┬───┬────┘┌─┴──────────┴┐  ┌──┴────┴──┐     ┌────┐  ┌──────────┐   └─┬─┘    └──┬────┬──┘┌────────┐    └─┬─┘     └───┬────┬───┘└─┬─┘└┬────────────┤   ┌┴────────┴┐    ├────┤     └┬────────┤                ├───┬┘   ┌┴────────┴┐              ├───┬┘    ┌────────────┐├───┤└───┬───┬────┘┌─┴──────────┴┐  ┌──┴────┴──┐  ┌────┐┌──────────┐└─┬─┘└──┬────┬──┘┌────────┐└─┬─┘└───┬────┬───┘└─┬─┘└┬────────────┤   ┌──────────┐    ┌────┐      ┌────────┐             ┌───┐┌──────────┐          ┌───┐┌────────────┐┌───┐┌───┐┌─────────────┐                                                                                                                                                                                                                                                                                                       \n",
              "q_5 -> 5 ─┤ Rz(-π/2) ├─┤ √X ├──┤ Rz(-π) ├────────────────────────────────────────────────────────────────────────────────────────────────────────────────────────────────────────────────────────────────────────────────────────────────────────────────────────────────────────────────────────────────────────────────────────────────────────────────────────────┤ X ├┤ Rz(-π/2) ├──────────┤ X ├┤ Rz(1.4726) ├┤ X ├┤ X ├┤ Rz(-3.0434) ├──┤ Rz(3π/4) ├──┤ √X ├┤ Rz(-π/2) ├──■─────┤ √X ├───┤ Rz(2π) ├──■──────┤ √X ├──────■───┤ Rz(2.4053) ├───┤ Rz(-π/2) ├────┤ √X ├──────┤ Rz(-π) ├────────────────┤ X ├────┤ Rz(-π/2) ├──────────────┤ X ├─────┤ Rz(1.4726) ├┤ X ├────┤ X ├─────┤ Rz(-3.0434) ├──┤ Rz(3π/4) ├─────┤ √X ├──┤ Rz(-π/2) ├─────■─────────┤ √X ├───┤ Rz(2π) ├──────■───────────┤ √X ├──────■───┤ Rz(2.4053) ├───┤ Rz(-π/2) ├────┤ √X ├──────┤ Rz(-π) ├────────────────┤ X ├────┤ Rz(-π/2) ├──────────────┤ X ├─────┤ Rz(1.4726) ├┤ X ├─────┤ X ├─────┤ Rz(-3.0434) ├──┤ Rz(3π/4) ├─────┤ √X ├──┤ Rz(-π/2) ├─────■─────────┤ √X ├───┤ Rz(2π) ├──────■───────────┤ √X ├──────■───┤ Rz(2.4053) ├───┤ Rz(-π/2) ├────┤ √X ├──────┤ Rz(-π) ├────────────────┤ X ├────┤ Rz(-π/2) ├──────────────┤ X ├─────┤ Rz(1.4726) ├┤ X ├─────┤ X ├─────┤ Rz(-3.0434) ├──┤ Rz(3π/4) ├─────┤ √X ├──┤ Rz(-π/2) ├─────■─────────┤ √X ├───┤ Rz(2π) ├──────■───────────┤ √X ├──────■───┤ Rz(2.4053) ├───┤ Rz(-π/2) ├────┤ √X ├──────┤ Rz(-π) ├────────────────┤ X ├────┤ Rz(-π/2) ├──────────────┤ X ├─────┤ Rz(1.4726) ├┤ X ├────┤ X ├─────┤ Rz(-3.0434) ├──┤ Rz(3π/4) ├──┤ √X ├┤ Rz(-π/2) ├──■─────┤ √X ├───┤ Rz(2π) ├──■──────┤ √X ├──────■───┤ Rz(2.4053) ├───┤ Rz(-π/2) ├────┤ √X ├──────┤ Rz(-π) ├─────────────┤ X ├┤ Rz(-π/2) ├──────────┤ X ├┤ Rz(1.4726) ├┤ X ├┤ X ├┤ Rz(-3.0434) ├───────────────────────────────────────────────────────────────────────────────────────────────────────────────────────────────────────────────────────────────────────────────────────────────────────────────────────────────────────────────────────────────────────────────────────────────────────\n",
              "          └┬────────┬┘ ├────┤  ├────────┤                                                                                                                                                                                                     ┌───┐┌──────────┐          ┌───┐┌───────────┐┌───┐     ┌───┐      ┌─────────────┐ ┌────────┐      ┌────┐    ┌─────────┐└─┬─┘└──┬────┬──┘┌────────┐└─┬─┘└───┬────┬───┘└─┬─┘├───┤├─────────────┤  └┬────────┬┘  ├────┤└┬────────┬┘┌───┐┌──┴────┴──┐└────────┘┌───┐┌───┴────┴──┐ ┌───┐ └───┬───┬────┘ ┌─┴──────────┴┐ ┌─┴────┴─┐    └─┬────┬─┘  ┌─────────┐   └─┬─┘    └──┬────┬──┘┌────────┐    └─┬─┘     └───┬────┬───┘└─┬─┘    ├───┤     ├─────────────┤  └┬────────┬┘     ├────┤  └┬────────┬┘   ┌───┐    ┌──┴────┴──┐└────────┘    ┌───┐     ┌───┴────┴──┐ ┌───┐ └───┬───┬────┘ ┌─┴──────────┴┐ ┌─┴────┴─┐    └─┬────┬─┘  ┌─────────┐   └─┬─┘    └──┬────┬──┘┌────────┐    └─┬─┘     └───┬────┬───┘└─┬─┘     ├───┤     ├─────────────┤  └┬────────┬┘     ├────┤  └┬────────┬┘   ┌───┐    ┌──┴────┴──┐└────────┘    ┌───┐     ┌───┴────┴──┐ ┌───┐ └───┬───┬────┘ ┌─┴──────────┴┐ ┌─┴────┴─┐    └─┬────┬─┘  ┌─────────┐   └─┬─┘    └──┬────┬──┘┌────────┐    └─┬─┘     └───┬────┬───┘└─┬─┘     ├───┤     ├─────────────┤  └┬────────┬┘     ├────┤  └┬────────┬┘   ┌───┐    ┌──┴────┴──┐└────────┘    ┌───┐     ┌───┴────┴──┐ ┌───┐ └───┬───┬────┘ ┌─┴──────────┴┐ ┌─┴────┴─┐    └─┬────┬─┘  ┌─────────┐   └─┬─┘    └──┬────┬──┘┌────────┐    └─┬─┘     └───┬────┬───┘└─┬─┘    ├───┤     ├─────────────┤  └┬────────┬┘  ├────┤└┬────────┬┘┌───┐┌──┴────┴──┐└────────┘┌───┐┌───┴────┴──┐ ┌───┐ └───┬───┬────┘ ┌─┴──────────┴┐ ┌─┴────┴─┐    └─┬────┬─┘  ┌─────────┐└─┬─┘└──┬────┬──┘┌────────┐└─┬─┘└───┬────┬───┘└─┬─┘├───┤├─────────────┤   ┌────────┐   ┌────┐ ┌────────┐ ┌───┐┌──────────┐          ┌───┐┌───────────┐┌───┐     ┌───┐      ┌─────────────┐                                                                                                                                                                                    \n",
              "q_6 -> 6 ──┤ Rz(-π) ├──┤ √X ├──┤ Rz(-π) ├─────────────────────────────────────────────────────────────────────────────────────────────────────────────────────────────────────────────────────────────────────────────────────────────────────┤ X ├┤ Rz(-π/2) ├──────────┤ X ├┤ Rz(7π/16) ├┤ X ├─────┤ X ├──────┤ Rz(-15π/16) ├─┤ Rz(-π) ├──────┤ √X ├────┤ Rz(π/2) ├──■─────┤ √X ├───┤ Rz(2π) ├──■──────┤ √X ├──────■──┤ X ├┤ Rz(-3.0434) ├───┤ Rz(-π) ├───┤ √X ├─┤ Rz(-π) ├─┤ X ├┤ Rz(-π/2) ├──────────┤ X ├┤ Rz(7π/16) ├─┤ X ├─────┤ X ├──────┤ Rz(-15π/16) ├─┤ Rz(-π) ├──────┤ √X ├────┤ Rz(π/2) ├─────■─────────┤ √X ├───┤ Rz(2π) ├──────■───────────┤ √X ├──────■──────┤ X ├─────┤ Rz(-3.0434) ├───┤ Rz(-π) ├──────┤ √X ├───┤ Rz(-π) ├────┤ X ├────┤ Rz(-π/2) ├──────────────┤ X ├─────┤ Rz(7π/16) ├─┤ X ├─────┤ X ├──────┤ Rz(-15π/16) ├─┤ Rz(-π) ├──────┤ √X ├────┤ Rz(π/2) ├─────■─────────┤ √X ├───┤ Rz(2π) ├──────■───────────┤ √X ├──────■───────┤ X ├─────┤ Rz(-3.0434) ├───┤ Rz(-π) ├──────┤ √X ├───┤ Rz(-π) ├────┤ X ├────┤ Rz(-π/2) ├──────────────┤ X ├─────┤ Rz(7π/16) ├─┤ X ├─────┤ X ├──────┤ Rz(-15π/16) ├─┤ Rz(-π) ├──────┤ √X ├────┤ Rz(π/2) ├─────■─────────┤ √X ├───┤ Rz(2π) ├──────■───────────┤ √X ├──────■───────┤ X ├─────┤ Rz(-3.0434) ├───┤ Rz(-π) ├──────┤ √X ├───┤ Rz(-π) ├────┤ X ├────┤ Rz(-π/2) ├──────────────┤ X ├─────┤ Rz(7π/16) ├─┤ X ├─────┤ X ├──────┤ Rz(-15π/16) ├─┤ Rz(-π) ├──────┤ √X ├────┤ Rz(π/2) ├─────■─────────┤ √X ├───┤ Rz(2π) ├──────■───────────┤ √X ├──────■──────┤ X ├─────┤ Rz(-3.0434) ├───┤ Rz(-π) ├───┤ √X ├─┤ Rz(-π) ├─┤ X ├┤ Rz(-π/2) ├──────────┤ X ├┤ Rz(7π/16) ├─┤ X ├─────┤ X ├──────┤ Rz(-15π/16) ├─┤ Rz(-π) ├──────┤ √X ├────┤ Rz(π/2) ├──■─────┤ √X ├───┤ Rz(2π) ├──■──────┤ √X ├──────■──┤ X ├┤ Rz(-3.0434) ├───┤ Rz(-π) ├───┤ √X ├─┤ Rz(-π) ├─┤ X ├┤ Rz(-π/2) ├──────────┤ X ├┤ Rz(7π/16) ├┤ X ├─────┤ X ├──────┤ Rz(-15π/16) ├────────────────────────────────────────────────────────────────────────────────────────────────────────────────────────────────────────────────────────────────────────────────────\n",
              "           ├────────┤  ├────┤  ├────────┤                                                                                                ┌───┐┌──────────┐          ┌───┐┌──────────┐┌───┐┌───┐┌───────────┐   ┌────────┐   ┌────┐┌─────────┐ └─┬─┘└──┬────┬──┘┌────────┐└─┬─┘└───┬────┬──┘└─┬─┘     ├───┤      └┬────────────┤ ├────────┤      ├────┤    └┬────────┤┌───┐┌──┴────┴──┐└────────┘┌───┐ ┌──┴────┴──┐ ┌───┐├───┤└┬───────────┬┘   ├────────┤   ├────┤┌┴────────┤ └─┬─┘└──┬────┬──┘┌────────┐└─┬─┘└───┬────┬──┘ └─┬─┘     ├───┤      └┬────────────┤ ├────────┤      ├────┤    └┬────────┤   ┌───┐    ┌──┴────┴──┐└────────┘    ┌───┐      ┌──┴────┴──┐ ┌───┐    ├───┤     └┬───────────┬┘   ├────────┤      ├────┤  ┌┴────────┤    └─┬─┘    └──┬────┬──┘┌────────┐    └─┬─┘     └───┬────┬──┘ └─┬─┘     ├───┤      └┬────────────┤ ├────────┤      ├────┤    └┬────────┤   ┌───┐    ┌──┴────┴──┐└────────┘    ┌───┐      ┌──┴────┴──┐ ┌───┐     ├───┤     └┬───────────┬┘   ├────────┤      ├────┤  ┌┴────────┤    └─┬─┘    └──┬────┬──┘┌────────┐    └─┬─┘     └───┬────┬──┘ └─┬─┘     ├───┤      └┬────────────┤ ├────────┤      ├────┤    └┬────────┤   ┌───┐    ┌──┴────┴──┐└────────┘    ┌───┐      ┌──┴────┴──┐ ┌───┐     ├───┤     └┬───────────┬┘   ├────────┤      ├────┤  ┌┴────────┤    └─┬─┘    └──┬────┬──┘┌────────┐    └─┬─┘     └───┬────┬──┘ └─┬─┘     ├───┤      └┬────────────┤ ├────────┤      ├────┤    └┬────────┤   ┌───┐    ┌──┴────┴──┐└────────┘    ┌───┐      ┌──┴────┴──┐ ┌───┐    ├───┤     └┬───────────┬┘   ├────────┤   ├────┤┌┴────────┤ └─┬─┘└──┬────┬──┘┌────────┐└─┬─┘└───┬────┬──┘ └─┬─┘     ├───┤      └┬────────────┤ ├────────┤      ├────┤    └┬────────┤┌───┐┌──┴────┴──┐└────────┘┌───┐ ┌──┴────┴──┐ ┌───┐├───┤└┬───────────┬┘   ├────────┤   ├────┤┌┴────────┤ └─┬─┘└──┬────┬──┘┌────────┐└─┬─┘└───┬────┬──┘└─┬─┘     ├───┤      └┬────────────┤ ┌────────┐ ┌────┐  ┌────────┐  ┌───┐┌──────────┐          ┌───┐┌──────────┐┌───┐┌───┐┌───────────┐                                                                                 \n",
              "q_7 -> 7 ──┤ Rz(-π) ├──┤ √X ├──┤ Rz(-π) ├────────────────────────────────────────────────────────────────────────────────────────────────┤ X ├┤ Rz(-π/2) ├──────────┤ X ├┤ Rz(3π/8) ├┤ X ├┤ X ├┤ Rz(-7π/8) ├───┤ Rz(-π) ├───┤ √X ├┤ Rz(π/2) ├───■─────┤ √X ├───┤ Rz(2π) ├──■──────┤ √X ├─────■───────┤ X ├───────┤ Rz(-7π/16) ├─┤ Rz(-π) ├──────┤ √X ├─────┤ Rz(-π) ├┤ X ├┤ Rz(-π/2) ├──────────┤ X ├─┤ Rz(3π/8) ├─┤ X ├┤ X ├─┤ Rz(-7π/8) ├────┤ Rz(-π) ├───┤ √X ├┤ Rz(π/2) ├───■─────┤ √X ├───┤ Rz(2π) ├──■──────┤ √X ├──────■───────┤ X ├───────┤ Rz(-7π/16) ├─┤ Rz(-π) ├──────┤ √X ├─────┤ Rz(-π) ├───┤ X ├────┤ Rz(-π/2) ├──────────────┤ X ├──────┤ Rz(3π/8) ├─┤ X ├────┤ X ├──────┤ Rz(-7π/8) ├────┤ Rz(-π) ├──────┤ √X ├──┤ Rz(π/2) ├──────■─────────┤ √X ├───┤ Rz(2π) ├──────■───────────┤ √X ├──────■───────┤ X ├───────┤ Rz(-7π/16) ├─┤ Rz(-π) ├──────┤ √X ├─────┤ Rz(-π) ├───┤ X ├────┤ Rz(-π/2) ├──────────────┤ X ├──────┤ Rz(3π/8) ├─┤ X ├─────┤ X ├──────┤ Rz(-7π/8) ├────┤ Rz(-π) ├──────┤ √X ├──┤ Rz(π/2) ├──────■─────────┤ √X ├───┤ Rz(2π) ├──────■───────────┤ √X ├──────■───────┤ X ├───────┤ Rz(-7π/16) ├─┤ Rz(-π) ├──────┤ √X ├─────┤ Rz(-π) ├───┤ X ├────┤ Rz(-π/2) ├──────────────┤ X ├──────┤ Rz(3π/8) ├─┤ X ├─────┤ X ├──────┤ Rz(-7π/8) ├────┤ Rz(-π) ├──────┤ √X ├──┤ Rz(π/2) ├──────■─────────┤ √X ├───┤ Rz(2π) ├──────■───────────┤ √X ├──────■───────┤ X ├───────┤ Rz(-7π/16) ├─┤ Rz(-π) ├──────┤ √X ├─────┤ Rz(-π) ├───┤ X ├────┤ Rz(-π/2) ├──────────────┤ X ├──────┤ Rz(3π/8) ├─┤ X ├────┤ X ├──────┤ Rz(-7π/8) ├────┤ Rz(-π) ├───┤ √X ├┤ Rz(π/2) ├───■─────┤ √X ├───┤ Rz(2π) ├──■──────┤ √X ├──────■───────┤ X ├───────┤ Rz(-7π/16) ├─┤ Rz(-π) ├──────┤ √X ├─────┤ Rz(-π) ├┤ X ├┤ Rz(-π/2) ├──────────┤ X ├─┤ Rz(3π/8) ├─┤ X ├┤ X ├─┤ Rz(-7π/8) ├────┤ Rz(-π) ├───┤ √X ├┤ Rz(π/2) ├───■─────┤ √X ├───┤ Rz(2π) ├──■──────┤ √X ├─────■───────┤ X ├───────┤ Rz(-7π/16) ├─┤ Rz(-π) ├─┤ √X ├──┤ Rz(-π) ├──┤ X ├┤ Rz(-π/2) ├──────────┤ X ├┤ Rz(3π/8) ├┤ X ├┤ X ├┤ Rz(-7π/8) ├─────────────────────────────────────────────────────────────────────────────────\n",
              "         ┌─┴────────┴─┐└────┘  └────────┘          ┌────┐  ┌───────┐┌────┐     ┌─────────────┐  ┌────┐  ┌──────────┐┌─────────────┐┌────┐└─┬─┘└──────────┘          └─┬─┘└──────────┘└─┬─┘└───┘└───────────┘   └────────┘   └────┘└─────────┘ ┌───┐┌──┴────┴─┐ └────────┘┌───┐ ┌──┴────┴─┐ ┌───┐┌────┴───┴─────┐ └───┬────┬───┘┌┴────────┴┐┌────┴────┴───┐ └─┬────┬─┘└─┬─┘└──────────┘          └─┬─┘ └──────────┘ └─┬─┘└───┘ └───────────┘    └────────┘   └────┘└─────────┘ ┌───┐┌──┴────┴─┐ └────────┘┌───┐ ┌──┴────┴─┐  ┌───┐┌────┴───┴─────┐ └───┬────┬───┘┌┴────────┴┐┌────┴────┴───┐ └─┬────┬─┘   └─┬─┘    └──────────┘              └─┬─┘      └──────────┘ └─┬─┘    └───┘      └───────────┘    └────────┘      └────┘  └─────────┘    ┌───┐    ┌──┴────┴─┐ └────────┘    ┌───┐      ┌──┴────┴─┐  ┌───┐┌────┴───┴─────┐ └───┬────┬───┘┌┴────────┴┐┌────┴────┴───┐ └─┬────┬─┘   └─┬─┘    └──────────┘              └─┬─┘      └──────────┘ └─┬─┘     └───┘      └───────────┘    └────────┘      └────┘  └─────────┘    ┌───┐    ┌──┴────┴─┐ └────────┘    ┌───┐      ┌──┴────┴─┐  ┌───┐┌────┴───┴─────┐ └───┬────┬───┘┌┴────────┴┐┌────┴────┴───┐ └─┬────┬─┘   └─┬─┘    └──────────┘              └─┬─┘      └──────────┘ └─┬─┘     └───┘      └───────────┘    └────────┘      └────┘  └─────────┘    ┌───┐    ┌──┴────┴─┐ └────────┘    ┌───┐      ┌──┴────┴─┐  ┌───┐┌────┴───┴─────┐ └───┬────┬───┘┌┴────────┴┐┌────┴────┴───┐ └─┬────┬─┘   └─┬─┘    └──────────┘              └─┬─┘      └──────────┘ └─┬─┘    └───┘      └───────────┘    └────────┘   └────┘└─────────┘ ┌───┐┌──┴────┴─┐ └────────┘┌───┐ ┌──┴────┴─┐  ┌───┐┌────┴───┴─────┐ └───┬────┬───┘┌┴────────┴┐┌────┴────┴───┐ └─┬────┬─┘└─┬─┘└──────────┘          └─┬─┘ └──────────┘ └─┬─┘└───┘ └───────────┘    └────────┘   └────┘└─────────┘ ┌───┐┌──┴────┴─┐ └────────┘┌───┐ ┌──┴────┴─┐ ┌───┐┌────┴───┴─────┐ └───┬────┬───┘┌┴────────┴┐├───┬┘┌─┴────────┴─┐└─┬─┘└──────────┘          └─┬─┘└──────────┘└─┬─┘└───┘└───────────┘                    ┌────┐  ┌───────┐┌────┐     ┌─────────────┐                  \n",
              "q_8 -> 8 ┤ Rz(2.6805) ├──────────────────────■─────┤ √X ├──┤ Rz(0) ├┤ √X ├──■──┤ Rz(-2.8173) ├──┤ √X ├──┤ Rz(-π/2) ├┤ Rz(0.56416) ├┤ √X ├──┼──────────────────────────┼────────────────┼──────────────────────────────────────────────────────┤ X ├┤ Rz(π/2) ├───────────┤ X ├─┤ Rz(π/4) ├─┤ X ├┤ Rz(-0.20297) ├─────┤ √X ├────┤ Rz(-π/2) ├┤ Rz(0.56416) ├───┤ √X ├────┼──────────────────────────┼──────────────────┼────────────────────────────────────────────────────────┤ X ├┤ Rz(π/2) ├───────────┤ X ├─┤ Rz(π/4) ├──┤ X ├┤ Rz(-0.20297) ├─────┤ √X ├────┤ Rz(-π/2) ├┤ Rz(0.56416) ├───┤ √X ├───────┼──────────────────────────────────┼───────────────────────┼─────────────────────────────────────────────────────────────────────────┤ X ├────┤ Rz(π/2) ├───────────────┤ X ├──────┤ Rz(π/4) ├──┤ X ├┤ Rz(-0.20297) ├─────┤ √X ├────┤ Rz(-π/2) ├┤ Rz(0.56416) ├───┤ √X ├───────┼──────────────────────────────────┼───────────────────────┼──────────────────────────────────────────────────────────────────────────┤ X ├────┤ Rz(π/2) ├───────────────┤ X ├──────┤ Rz(π/4) ├──┤ X ├┤ Rz(-0.20297) ├─────┤ √X ├────┤ Rz(-π/2) ├┤ Rz(0.56416) ├───┤ √X ├───────┼──────────────────────────────────┼───────────────────────┼──────────────────────────────────────────────────────────────────────────┤ X ├────┤ Rz(π/2) ├───────────────┤ X ├──────┤ Rz(π/4) ├──┤ X ├┤ Rz(-0.20297) ├─────┤ √X ├────┤ Rz(-π/2) ├┤ Rz(0.56416) ├───┤ √X ├───────┼──────────────────────────────────┼───────────────────────┼─────────────────────────────────────────────────────────────────┤ X ├┤ Rz(π/2) ├───────────┤ X ├─┤ Rz(π/4) ├──┤ X ├┤ Rz(-0.20297) ├─────┤ √X ├────┤ Rz(-π/2) ├┤ Rz(0.56416) ├───┤ √X ├────┼──────────────────────────┼──────────────────┼────────────────────────────────────────────────────────┤ X ├┤ Rz(π/2) ├───────────┤ X ├─┤ Rz(π/4) ├─┤ X ├┤ Rz(-0.20297) ├─────┤ √X ├────┤ Rz(-π/2) ├┤ X ├─┤ Rz(2.6805) ├──┼──────────────────────────┼────────────────┼──────────────────────────────────■─────┤ √X ├──┤ Rz(0) ├┤ √X ├──■──┤ Rz(-2.8173) ├──────────────────\n",
              "         └┬──────────┬┘┌────┐┌────────────┐┌─┴─┐┌──┴────┴─┐└───────┘└────┘┌─┴─┐└┬────────────┤┌─┴────┴─┐└──┬────┬──┘└─┬─────────┬─┘└────┘  │     ┌────┐   ┌────────┐  │     ┌────┐     │  ┌───┐┌───────────┐┌──────────────┐┌────┐┌──────────┐└─┬─┘└──┬────┬─┘ ┌────────┐└─┬─┘ └──┬────┬─┘ └─┬─┘└────┬───┬─────┘ ┌───┴────┴──┐ └┬────────┬┘└────┬────┬───┘┌──┴────┴─┐  │     ┌────┐   ┌────────┐  │      ┌────┐      │  ┌───┐ ┌───────────┐ ┌──────────────┐┌────┐┌──────────┐└─┬─┘└──┬────┬─┘ ┌────────┐└─┬─┘ └──┬────┬─┘  └─┬─┘└────┬───┬─────┘ ┌───┴────┴──┐ └┬────────┬┘└────┬────┬───┘┌──┴────┴─┐     │         ┌────┐   ┌────────┐      │           ┌────┐      │      ┌───┐      ┌───────────┐ ┌──────────────┐   ┌────┐  ┌──────────┐   └─┬─┘    └──┬────┬─┘ ┌────────┐    └─┬─┘      └──┬────┬─┘  └─┬─┘└────┬───┬─────┘ ┌───┴────┴──┐ └┬────────┬┘└────┬────┬───┘┌──┴────┴─┐     │         ┌────┐   ┌────────┐      │           ┌────┐      │       ┌───┐      ┌───────────┐ ┌──────────────┐   ┌────┐  ┌──────────┐   └─┬─┘    └──┬────┬─┘ ┌────────┐    └─┬─┘      └──┬────┬─┘  └─┬─┘└────┬───┬─────┘ ┌───┴────┴──┐ └┬────────┬┘└────┬────┬───┘┌──┴────┴─┐     │         ┌────┐   ┌────────┐      │           ┌────┐      │       ┌───┐      ┌───────────┐ ┌──────────────┐   ┌────┐  ┌──────────┐   └─┬─┘    └──┬────┬─┘ ┌────────┐    └─┬─┘      └──┬────┬─┘  └─┬─┘└────┬───┬─────┘ ┌───┴────┴──┐ └┬────────┬┘└────┬────┬───┘┌──┴────┴─┐     │         ┌────┐   ┌────────┐      │           ┌────┐      │      ┌───┐      ┌───────────┐ ┌──────────────┐┌────┐┌──────────┐└─┬─┘└──┬────┬─┘ ┌────────┐└─┬─┘ └──┬────┬─┘  └─┬─┘└────┬───┬─────┘ ┌───┴────┴──┐ └┬────────┬┘└────┬────┬───┘┌──┴────┴─┐  │     ┌────┐   ┌────────┐  │      ┌────┐      │  ┌───┐ ┌───────────┐ ┌──────────────┐┌────┐┌──────────┐└─┬─┘└──┬────┬─┘ ┌────────┐└─┬─┘ └──┬────┬─┘ └─┬─┘└────┬───┬─────┘ ┌───┴────┴──┐ └┬────────┬┘├───┴┐└┬─────────┬─┘  │     ┌────┐   ┌────────┐  │     ┌────┐     │  ┌───┐┌───────────┐┌──────────┐┌─┴─┐┌──┴────┴─┐└───────┘└────┘┌─┴─┐└─┬──────────┬┘┌────┐┌──────────┐\n",
              "q_9 -> 9 ─┤ Rz(-π/2) ├─┤ √X ├┤ Rz(2.9101) ├┤ X ├┤ Rz(π/4) ├───────────────┤ X ├─┤ Rz(2.1247) ├┤ Rz(-π) ├───┤ √X ├─────┤ Rz(π/2) ├──────────■─────┤ √X ├───┤ Rz(2π) ├──■─────┤ √X ├─────■──┤ X ├┤ Rz(-3π/8) ├┤ Rz(-0.98836) ├┤ √X ├┤ Rz(-π/2) ├──■─────┤ √X ├───┤ Rz(2π) ├──■──────┤ √X ├─────■───────┤ X ├───────┤ Rz(1.792) ├──┤ Rz(-π) ├──────┤ √X ├────┤ Rz(π/2) ├──■─────┤ √X ├───┤ Rz(2π) ├──■──────┤ √X ├──────■──┤ X ├─┤ Rz(-3π/8) ├─┤ Rz(-0.98836) ├┤ √X ├┤ Rz(-π/2) ├──■─────┤ √X ├───┤ Rz(2π) ├──■──────┤ √X ├──────■───────┤ X ├───────┤ Rz(1.792) ├──┤ Rz(-π) ├──────┤ √X ├────┤ Rz(π/2) ├─────■─────────┤ √X ├───┤ Rz(2π) ├──────■───────────┤ √X ├──────■──────┤ X ├──────┤ Rz(-3π/8) ├─┤ Rz(-0.98836) ├───┤ √X ├──┤ Rz(-π/2) ├─────■─────────┤ √X ├───┤ Rz(2π) ├──────■───────────┤ √X ├──────■───────┤ X ├───────┤ Rz(1.792) ├──┤ Rz(-π) ├──────┤ √X ├────┤ Rz(π/2) ├─────■─────────┤ √X ├───┤ Rz(2π) ├──────■───────────┤ √X ├──────■───────┤ X ├──────┤ Rz(-3π/8) ├─┤ Rz(-0.98836) ├───┤ √X ├──┤ Rz(-π/2) ├─────■─────────┤ √X ├───┤ Rz(2π) ├──────■───────────┤ √X ├──────■───────┤ X ├───────┤ Rz(1.792) ├──┤ Rz(-π) ├──────┤ √X ├────┤ Rz(π/2) ├─────■─────────┤ √X ├───┤ Rz(2π) ├──────■───────────┤ √X ├──────■───────┤ X ├──────┤ Rz(-3π/8) ├─┤ Rz(-0.98836) ├───┤ √X ├──┤ Rz(-π/2) ├─────■─────────┤ √X ├───┤ Rz(2π) ├──────■───────────┤ √X ├──────■───────┤ X ├───────┤ Rz(1.792) ├──┤ Rz(-π) ├──────┤ √X ├────┤ Rz(π/2) ├─────■─────────┤ √X ├───┤ Rz(2π) ├──────■───────────┤ √X ├──────■──────┤ X ├──────┤ Rz(-3π/8) ├─┤ Rz(-0.98836) ├┤ √X ├┤ Rz(-π/2) ├──■─────┤ √X ├───┤ Rz(2π) ├──■──────┤ √X ├──────■───────┤ X ├───────┤ Rz(1.792) ├──┤ Rz(-π) ├──────┤ √X ├────┤ Rz(π/2) ├──■─────┤ √X ├───┤ Rz(2π) ├──■──────┤ √X ├──────■──┤ X ├─┤ Rz(-3π/8) ├─┤ Rz(-0.98836) ├┤ √X ├┤ Rz(-π/2) ├──■─────┤ √X ├───┤ Rz(2π) ├──■──────┤ √X ├─────■───────┤ X ├───────┤ Rz(1.792) ├──┤ Rz(-π) ├─┤ √X ├─┤ Rz(π/2) ├────■─────┤ √X ├───┤ Rz(2π) ├──■─────┤ √X ├─────■──┤ X ├┤ Rz(-3π/8) ├┤ Rz(-π/2) ├┤ X ├┤ Rz(π/4) ├───────────────┤ X ├──┤ Rz(-π/4) ├─┤ √X ├┤ Rz(-π/2) ├\n",
              "          └──────────┘ └────┘└────────────┘└───┘└─────────┘               └───┘ └────────────┘└────────┘   └────┘     └─────────┘                └────┘   └────────┘        └────┘        └───┘└───────────┘└──────────────┘└────┘└──────────┘        └────┘   └────────┘         └────┘             └───┘       └───────────┘  └────────┘      └────┘    └─────────┘        └────┘   └────────┘         └────┘         └───┘ └───────────┘ └──────────────┘└────┘└──────────┘        └────┘   └────────┘         └────┘              └───┘       └───────────┘  └────────┘      └────┘    └─────────┘               └────┘   └────────┘                  └────┘             └───┘      └───────────┘ └──────────────┘   └────┘  └──────────┘               └────┘   └────────┘                  └────┘              └───┘       └───────────┘  └────────┘      └────┘    └─────────┘               └────┘   └────────┘                  └────┘              └───┘      └───────────┘ └──────────────┘   └────┘  └──────────┘               └────┘   └────────┘                  └────┘              └───┘       └───────────┘  └────────┘      └────┘    └─────────┘               └────┘   └────────┘                  └────┘              └───┘      └───────────┘ └──────────────┘   └────┘  └──────────┘               └────┘   └────────┘                  └────┘              └───┘       └───────────┘  └────────┘      └────┘    └─────────┘               └────┘   └────────┘                  └────┘             └───┘      └───────────┘ └──────────────┘└────┘└──────────┘        └────┘   └────────┘         └────┘              └───┘       └───────────┘  └────────┘      └────┘    └─────────┘        └────┘   └────────┘         └────┘         └───┘ └───────────┘ └──────────────┘└────┘└──────────┘        └────┘   └────────┘         └────┘             └───┘       └───────────┘  └────────┘ └────┘ └─────────┘          └────┘   └────────┘        └────┘        └───┘└───────────┘└──────────┘└───┘└─────────┘               └───┘  └──────────┘ └────┘└──────────┘</pre>"
            ]
          },
          "metadata": {},
          "execution_count": 24
        }
      ]
    },
    {
      "cell_type": "code",
      "source": [
        "opt_transpiler_sim = noisy_sim(qc_opt, backend)\n",
        "\n",
        "print(\"Own transpiler fidelity\", round(hellinger_fidelity(own_transpiler_sim, reference_sim), 4))\n",
        "print(\"Qiskit transpiler fidelity\", round(hellinger_fidelity(qiskit_transpiler_sim, reference_sim), 4))\n",
        "print(\"Own optimized transpiler fidelity\", round(hellinger_fidelity(opt_transpiler_sim, reference_sim), 4))"
      ],
      "metadata": {
        "colab": {
          "base_uri": "https://localhost:8080/"
        },
        "id": "E0-mpLDBJEAQ",
        "outputId": "306e714b-750d-4a50-a76a-bb865b5c3b2e"
      },
      "execution_count": null,
      "outputs": [
        {
          "output_type": "stream",
          "name": "stdout",
          "text": [
            "Own transpiler fidelity 0.2486\n",
            "Qiskit transpiler fidelity 0.6244\n",
            "Own optimized transpiler fidelity 0.9143\n"
          ]
        }
      ]
    },
    {
      "cell_type": "code",
      "source": [
        "# Your work here! (optional!)\n",
        "FakeTorino().coupling_map"
      ],
      "metadata": {
        "colab": {
          "base_uri": "https://localhost:8080/"
        },
        "id": "nZbv-5JcJMq9",
        "outputId": "cb2f11e7-a1fc-487c-c3ca-54678b8cbf68"
      },
      "execution_count": null,
      "outputs": [
        {
          "output_type": "execute_result",
          "data": {
            "text/plain": [
              "<qiskit.transpiler.coupling.CouplingMap at 0x78bc8dc9b0b0>"
            ]
          },
          "metadata": {},
          "execution_count": 26
        }
      ]
    },
    {
      "cell_type": "code",
      "source": [
        "# grade your work!\n",
        "num_qubits = 100\n",
        "qc = QFT(num_qubits, do_swaps=False)\n",
        "# Define a backend whose basis gate set and coupling map corresponds to a 133-qubit Heron quantum computer\n",
        "target_backend = FakeTorino()\n",
        "\n",
        "pm_student = StagedPassManager()\n",
        "pm_student.init = generate_unroll_3q(None)\n",
        "\n",
        "pm_student.layout = PassManager()\n",
        "pm_student.layout += TrivialLayout(target_backend.coupling_map)\n",
        "pm_student.routing = PassManager(StarPreRouting())\n",
        "# See the first cells in this notebook or\n",
        "#   https://github.com/Qiskit/qiskit/tree/main/qiskit/transpiler/passes/synthesis for potential translation passes\n",
        "pm_student.translation = PassManager(\n",
        "    [\n",
        "        Collect2qBlocks(),\n",
        "        ConsolidateBlocks(basis_gates=target_backend.operation_names),\n",
        "        UnitarySynthesis(basis_gates=target_backend.operation_names)\n",
        "    ]\n",
        ")\n",
        "\n",
        "qc_student = pm_student.run(qc)\n",
        "qc_qiskit = generate_preset_pass_manager(2, backend=target_backend).run(qc)\n",
        "reduction_ratio = round(100-100*(get_qc_characteristics(qc_student)['num_multi_qubit_ops']/get_qc_characteristics(qc_qiskit)['num_multi_qubit_ops']), 3)"
      ],
      "metadata": {
        "id": "VTkEFeTcJRt9"
      },
      "execution_count": null,
      "outputs": []
    },
    {
      "cell_type": "code",
      "source": [
        "print(\"Reduction in two-qubit gates compared to qiskit {}%!\".format(reduction_ratio))\n",
        "print(\"N-qubit gates generated by Qiskit's default pass manager:\", get_qc_characteristics(qc_qiskit)['num_multi_qubit_ops'])\n",
        "print(\"N-qubit gates generated by your pass manager\", get_qc_characteristics(qc_student)['num_multi_qubit_ops'])"
      ],
      "metadata": {
        "colab": {
          "base_uri": "https://localhost:8080/"
        },
        "id": "yQtY1pBQJWAf",
        "outputId": "d9007c4d-ad65-4ab6-8f02-9b149c4f8095"
      },
      "execution_count": null,
      "outputs": [
        {
          "output_type": "stream",
          "name": "stdout",
          "text": [
            "Reduction in two-qubit gates compared to qiskit 35.088%!\n",
            "N-qubit gates generated by Qiskit's default pass manager: 22874\n",
            "N-qubit gates generated by your pass manager 14848\n"
          ]
        }
      ]
    },
    {
      "cell_type": "code",
      "source": [
        "for i in target_backend.coupling_map:\n",
        "    print(i)"
      ],
      "metadata": {
        "colab": {
          "base_uri": "https://localhost:8080/"
        },
        "id": "pynwDdrBJW_Y",
        "outputId": "a8bf69ce-00ed-44ba-d18d-eb07ed3ab808"
      },
      "execution_count": null,
      "outputs": [
        {
          "output_type": "stream",
          "name": "stdout",
          "text": [
            "(0, 1)\n",
            "(0, 15)\n",
            "(1, 0)\n",
            "(1, 2)\n",
            "(2, 1)\n",
            "(2, 3)\n",
            "(3, 2)\n",
            "(3, 4)\n",
            "(4, 3)\n",
            "(4, 5)\n",
            "(4, 16)\n",
            "(5, 4)\n",
            "(5, 6)\n",
            "(6, 5)\n",
            "(6, 7)\n",
            "(7, 6)\n",
            "(7, 8)\n",
            "(8, 7)\n",
            "(8, 9)\n",
            "(8, 17)\n",
            "(9, 8)\n",
            "(9, 10)\n",
            "(10, 9)\n",
            "(10, 11)\n",
            "(11, 10)\n",
            "(11, 12)\n",
            "(12, 11)\n",
            "(12, 13)\n",
            "(12, 18)\n",
            "(13, 12)\n",
            "(13, 14)\n",
            "(14, 13)\n",
            "(15, 0)\n",
            "(15, 19)\n",
            "(16, 4)\n",
            "(16, 23)\n",
            "(17, 8)\n",
            "(17, 27)\n",
            "(18, 12)\n",
            "(18, 31)\n",
            "(19, 15)\n",
            "(19, 20)\n",
            "(20, 19)\n",
            "(20, 21)\n",
            "(21, 20)\n",
            "(21, 22)\n",
            "(21, 34)\n",
            "(22, 21)\n",
            "(22, 23)\n",
            "(23, 16)\n",
            "(23, 22)\n",
            "(23, 24)\n",
            "(24, 23)\n",
            "(24, 25)\n",
            "(25, 24)\n",
            "(25, 26)\n",
            "(25, 35)\n",
            "(26, 25)\n",
            "(26, 27)\n",
            "(27, 17)\n",
            "(27, 26)\n",
            "(27, 28)\n",
            "(28, 27)\n",
            "(28, 29)\n",
            "(29, 28)\n",
            "(29, 30)\n",
            "(29, 36)\n",
            "(30, 29)\n",
            "(30, 31)\n",
            "(31, 18)\n",
            "(31, 30)\n",
            "(31, 32)\n",
            "(32, 31)\n",
            "(32, 33)\n",
            "(33, 32)\n",
            "(33, 37)\n",
            "(34, 21)\n",
            "(34, 40)\n",
            "(35, 25)\n",
            "(35, 44)\n",
            "(36, 29)\n",
            "(36, 48)\n",
            "(37, 33)\n",
            "(37, 52)\n",
            "(38, 39)\n",
            "(38, 53)\n",
            "(39, 38)\n",
            "(39, 40)\n",
            "(40, 34)\n",
            "(40, 39)\n",
            "(40, 41)\n",
            "(41, 40)\n",
            "(41, 42)\n",
            "(42, 41)\n",
            "(42, 43)\n",
            "(42, 54)\n",
            "(43, 42)\n",
            "(43, 44)\n",
            "(44, 35)\n",
            "(44, 43)\n",
            "(44, 45)\n",
            "(45, 44)\n",
            "(45, 46)\n",
            "(46, 45)\n",
            "(46, 47)\n",
            "(46, 55)\n",
            "(47, 46)\n",
            "(47, 48)\n",
            "(48, 36)\n",
            "(48, 47)\n",
            "(48, 49)\n",
            "(49, 48)\n",
            "(49, 50)\n",
            "(50, 49)\n",
            "(50, 51)\n",
            "(50, 56)\n",
            "(51, 50)\n",
            "(51, 52)\n",
            "(52, 37)\n",
            "(52, 51)\n",
            "(53, 38)\n",
            "(53, 57)\n",
            "(54, 42)\n",
            "(54, 61)\n",
            "(55, 46)\n",
            "(55, 65)\n",
            "(56, 50)\n",
            "(56, 69)\n",
            "(57, 53)\n",
            "(57, 58)\n",
            "(58, 57)\n",
            "(58, 59)\n",
            "(59, 58)\n",
            "(59, 60)\n",
            "(59, 72)\n",
            "(60, 59)\n",
            "(60, 61)\n",
            "(61, 54)\n",
            "(61, 60)\n",
            "(61, 62)\n",
            "(62, 61)\n",
            "(62, 63)\n",
            "(63, 62)\n",
            "(63, 64)\n",
            "(63, 73)\n",
            "(64, 63)\n",
            "(64, 65)\n",
            "(65, 55)\n",
            "(65, 64)\n",
            "(65, 66)\n",
            "(66, 65)\n",
            "(66, 67)\n",
            "(67, 66)\n",
            "(67, 68)\n",
            "(67, 74)\n",
            "(68, 67)\n",
            "(68, 69)\n",
            "(69, 56)\n",
            "(69, 68)\n",
            "(69, 70)\n",
            "(70, 69)\n",
            "(70, 71)\n",
            "(71, 70)\n",
            "(71, 75)\n",
            "(72, 59)\n",
            "(72, 78)\n",
            "(73, 63)\n",
            "(73, 82)\n",
            "(74, 67)\n",
            "(74, 86)\n",
            "(75, 71)\n",
            "(75, 90)\n",
            "(76, 77)\n",
            "(76, 91)\n",
            "(77, 76)\n",
            "(77, 78)\n",
            "(78, 72)\n",
            "(78, 77)\n",
            "(78, 79)\n",
            "(79, 78)\n",
            "(79, 80)\n",
            "(80, 79)\n",
            "(80, 81)\n",
            "(80, 92)\n",
            "(81, 80)\n",
            "(81, 82)\n",
            "(82, 73)\n",
            "(82, 81)\n",
            "(82, 83)\n",
            "(83, 82)\n",
            "(83, 84)\n",
            "(84, 83)\n",
            "(84, 85)\n",
            "(84, 93)\n",
            "(85, 84)\n",
            "(85, 86)\n",
            "(86, 74)\n",
            "(86, 85)\n",
            "(86, 87)\n",
            "(87, 86)\n",
            "(87, 88)\n",
            "(88, 87)\n",
            "(88, 89)\n",
            "(88, 94)\n",
            "(89, 88)\n",
            "(89, 90)\n",
            "(90, 75)\n",
            "(90, 89)\n",
            "(91, 76)\n",
            "(91, 95)\n",
            "(92, 80)\n",
            "(92, 99)\n",
            "(93, 84)\n",
            "(93, 103)\n",
            "(94, 88)\n",
            "(94, 107)\n",
            "(95, 91)\n",
            "(95, 96)\n",
            "(96, 95)\n",
            "(96, 97)\n",
            "(97, 96)\n",
            "(97, 98)\n",
            "(97, 110)\n",
            "(98, 97)\n",
            "(98, 99)\n",
            "(99, 92)\n",
            "(99, 98)\n",
            "(99, 100)\n",
            "(100, 99)\n",
            "(100, 101)\n",
            "(101, 100)\n",
            "(101, 102)\n",
            "(101, 111)\n",
            "(102, 101)\n",
            "(102, 103)\n",
            "(103, 93)\n",
            "(103, 102)\n",
            "(103, 104)\n",
            "(104, 103)\n",
            "(104, 105)\n",
            "(105, 104)\n",
            "(105, 106)\n",
            "(105, 112)\n",
            "(106, 105)\n",
            "(106, 107)\n",
            "(107, 94)\n",
            "(107, 106)\n",
            "(107, 108)\n",
            "(108, 107)\n",
            "(108, 109)\n",
            "(109, 108)\n",
            "(109, 113)\n",
            "(110, 97)\n",
            "(110, 116)\n",
            "(111, 101)\n",
            "(111, 120)\n",
            "(112, 105)\n",
            "(112, 124)\n",
            "(113, 109)\n",
            "(113, 128)\n",
            "(114, 115)\n",
            "(114, 129)\n",
            "(115, 114)\n",
            "(115, 116)\n",
            "(116, 110)\n",
            "(116, 115)\n",
            "(116, 117)\n",
            "(117, 116)\n",
            "(117, 118)\n",
            "(118, 117)\n",
            "(118, 119)\n",
            "(118, 130)\n",
            "(119, 118)\n",
            "(119, 120)\n",
            "(120, 111)\n",
            "(120, 119)\n",
            "(120, 121)\n",
            "(121, 120)\n",
            "(121, 122)\n",
            "(122, 121)\n",
            "(122, 123)\n",
            "(122, 131)\n",
            "(123, 122)\n",
            "(123, 124)\n",
            "(124, 112)\n",
            "(124, 123)\n",
            "(124, 125)\n",
            "(125, 124)\n",
            "(125, 126)\n",
            "(126, 125)\n",
            "(126, 127)\n",
            "(126, 132)\n",
            "(127, 126)\n",
            "(127, 128)\n",
            "(128, 113)\n",
            "(128, 127)\n",
            "(129, 114)\n",
            "(130, 118)\n",
            "(131, 122)\n",
            "(132, 126)\n"
          ]
        }
      ]
    },
    {
      "cell_type": "code",
      "source": [
        "d = circuit_to_dag(qc)"
      ],
      "metadata": {
        "id": "gT6RQYe-JbWv"
      },
      "execution_count": null,
      "outputs": []
    },
    {
      "cell_type": "code",
      "source": [
        "fake_dict = {}"
      ],
      "metadata": {
        "id": "AWSoNrE8JdUb"
      },
      "execution_count": null,
      "outputs": []
    },
    {
      "cell_type": "code",
      "source": [
        "class GatesPerQubit(AnalysisPass):\n",
        "    # Your work here - make sure you implement every abstract method defined in `AnalysisPass` (see https://docs.quantum.ibm.com/api/qiskit/qiskit.transpiler.AnalysisPass)\n",
        "    def __init__(self):\n",
        "        AnalysisPass.__init__(self)\n",
        "        self.property_set['one_q_op'] = {}\n",
        "        self.property_set['two_q_op'] = {}\n",
        "\n",
        "    def run(self, dag: DAGCircuit):  # pylint: disable=arguments-differ\n",
        "        for node in dag.op_nodes():\n",
        "            for args in node.qargs:\n",
        "                if node.op.num_qubits == 2:\n",
        "                    if  args not in self.property_set['two_q_op']:\n",
        "                        self.property_set['two_q_op'][args] = 1\n",
        "                    else:\n",
        "                        self.property_set['two_q_op'][args] += 1\n",
        "                elif node.op.num_qubits == 1:\n",
        "                    if  args not in self.property_set['one_q_op']:\n",
        "                        self.property_set['one_q_op'][args] = 1\n",
        "                    else:\n",
        "                        self.property_set['one_q_op'][args] += 1\n",
        "                else:\n",
        "                    pass"
      ],
      "metadata": {
        "id": "t_3IUHxNJg0T"
      },
      "execution_count": null,
      "outputs": []
    },
    {
      "cell_type": "code",
      "source": [
        "# grade your work!\n",
        "grade_lab1_ex6(GatesPerQubit)"
      ],
      "metadata": {
        "colab": {
          "base_uri": "https://localhost:8080/"
        },
        "id": "PKMVrTtnJieY",
        "outputId": "40c0041c-6039-4452-d921-6ce26c2433d9"
      },
      "execution_count": null,
      "outputs": [
        {
          "output_type": "stream",
          "name": "stdout",
          "text": [
            "Submitting your answer. Please wait...\n",
            "Congratulations 🎉! Your answer is correct and has been submitted.\n"
          ]
        }
      ]
    },
    {
      "cell_type": "code",
      "source": [
        "qc = QFT(4, do_swaps=False)\n",
        "qc = generate_preset_pass_manager(2, backend=backend).run(qc)\n",
        "gpq = GatesPerQubit()\n",
        "gpq(qc)\n",
        "print(\"single-qubit gates on qubit\", gpq.property_set[\"one_q_op\"])\n",
        "print(\"two-qubit gates on qubit\", gpq.property_set[\"two_q_op\"])\n",
        "qc.draw(fold=-1, idle_wires=False)"
      ],
      "metadata": {
        "colab": {
          "base_uri": "https://localhost:8080/",
          "height": 226
        },
        "id": "7nr2x6ymJoK2",
        "outputId": "091d4e73-7b83-4c78-9a7d-de77fec9f3b1"
      },
      "execution_count": null,
      "outputs": [
        {
          "output_type": "stream",
          "name": "stdout",
          "text": [
            "single-qubit gates on qubit {Qubit(QuantumRegister(10, 'q'), 9): 3, Qubit(QuantumRegister(10, 'q'), 7): 4, Qubit(QuantumRegister(10, 'q'), 4): 6, Qubit(QuantumRegister(10, 'q'), 5): 8}\n",
            "two-qubit gates on qubit {Qubit(QuantumRegister(10, 'q'), 9): 6, Qubit(QuantumRegister(10, 'q'), 7): 6, Qubit(QuantumRegister(10, 'q'), 4): 6, Qubit(QuantumRegister(10, 'q'), 5): 6}\n"
          ]
        },
        {
          "output_type": "execute_result",
          "data": {
            "text/plain": [
              "global phase: 0\n",
              "                                                                          ┌───┐┌──────────┐            ┌───┐┌─────────┐┌───┐ ┌──────────┐     ┌───┐┌──────────┐┌────┐┌──────────┐                                                                   \n",
              "q_1 -> 4 ─────────────────────────────────────────────────────────────────┤ X ├┤ Rz(-π/8) ├────────────┤ X ├┤ Rz(π/8) ├┤ X ├─┤ Rz(-π/4) ├─────┤ X ├┤ Rz(3π/4) ├┤ √X ├┤ Rz(3π/4) ├──────────────────■────────────────■───────────────────────────────\n",
              "                                                                          └─┬─┘└──────────┘            └─┬─┘└──┬───┬──┘└─┬─┘┌┴──────────┤┌───┐└─┬─┘├──────────┤├───┬┘├──────────┤┌───┐┌─────────┐┌─┴─┐┌──────────┐┌─┴─┐┌──────────┐┌────┐┌─────────┐\n",
              "q_0 -> 5 ───────────────────────────────────────────────────────────────────┼────────────────────────────┼─────┤ X ├─────┼──┤ Rz(-π/16) ├┤ X ├──┼──┤ Rz(π/16) ├┤ X ├─┤ Rz(-π/8) ├┤ X ├┤ Rz(π/8) ├┤ X ├┤ Rz(-π/4) ├┤ X ├┤ Rz(3π/4) ├┤ √X ├┤ Rz(π/2) ├\n",
              "                                        ┌───┐┌──────────┐┌───┐┌──────────┐  │     ┌────┐   ┌──────────┐  │     └─┬─┘     │  └───────────┘└─┬─┘  │  └──────────┘└─┬─┘ └──────────┘└─┬─┘└─────────┘└───┘└──────────┘└───┘└──────────┘└────┘└─────────┘\n",
              "q_2 -> 7 ───────────────────────────────┤ X ├┤ Rz(-π/4) ├┤ X ├┤ Rz(3π/4) ├──┼─────┤ √X ├───┤ Rz(7π/8) ├──┼───────┼───────■─────────────────┼────■────────────────■─────────────────■────────────────────────────────────────────────────────────────\n",
              "         ┌─────────┐┌────┐┌────────────┐└─┬─┘└──────────┘└─┬─┘└──────────┘  │     └────┘   └──────────┘  │       │                         │                                                                                                        \n",
              "q_3 -> 9 ┤ Rz(π/2) ├┤ √X ├┤ Rz(15π/16) ├──■────────────────■────────────────■────────────────────────────■───────■─────────────────────────■────────────────────────────────────────────────────────────────────────────────────────────────────────\n",
              "         └─────────┘└────┘└────────────┘                                                                                                                                                                                                            "
            ],
            "text/html": [
              "<pre style=\"word-wrap: normal;white-space: pre;background: #fff0;line-height: 1.1;font-family: &quot;Courier New&quot;,Courier,monospace\">global phase: 0\n",
              "                                                                          ┌───┐┌──────────┐            ┌───┐┌─────────┐┌───┐ ┌──────────┐     ┌───┐┌──────────┐┌────┐┌──────────┐                                                                   \n",
              "q_1 -> 4 ─────────────────────────────────────────────────────────────────┤ X ├┤ Rz(-π/8) ├────────────┤ X ├┤ Rz(π/8) ├┤ X ├─┤ Rz(-π/4) ├─────┤ X ├┤ Rz(3π/4) ├┤ √X ├┤ Rz(3π/4) ├──────────────────■────────────────■───────────────────────────────\n",
              "                                                                          └─┬─┘└──────────┘            └─┬─┘└──┬───┬──┘└─┬─┘┌┴──────────┤┌───┐└─┬─┘├──────────┤├───┬┘├──────────┤┌───┐┌─────────┐┌─┴─┐┌──────────┐┌─┴─┐┌──────────┐┌────┐┌─────────┐\n",
              "q_0 -> 5 ───────────────────────────────────────────────────────────────────┼────────────────────────────┼─────┤ X ├─────┼──┤ Rz(-π/16) ├┤ X ├──┼──┤ Rz(π/16) ├┤ X ├─┤ Rz(-π/8) ├┤ X ├┤ Rz(π/8) ├┤ X ├┤ Rz(-π/4) ├┤ X ├┤ Rz(3π/4) ├┤ √X ├┤ Rz(π/2) ├\n",
              "                                        ┌───┐┌──────────┐┌───┐┌──────────┐  │     ┌────┐   ┌──────────┐  │     └─┬─┘     │  └───────────┘└─┬─┘  │  └──────────┘└─┬─┘ └──────────┘└─┬─┘└─────────┘└───┘└──────────┘└───┘└──────────┘└────┘└─────────┘\n",
              "q_2 -> 7 ───────────────────────────────┤ X ├┤ Rz(-π/4) ├┤ X ├┤ Rz(3π/4) ├──┼─────┤ √X ├───┤ Rz(7π/8) ├──┼───────┼───────■─────────────────┼────■────────────────■─────────────────■────────────────────────────────────────────────────────────────\n",
              "         ┌─────────┐┌────┐┌────────────┐└─┬─┘└──────────┘└─┬─┘└──────────┘  │     └────┘   └──────────┘  │       │                         │                                                                                                        \n",
              "q_3 -> 9 ┤ Rz(π/2) ├┤ √X ├┤ Rz(15π/16) ├──■────────────────■────────────────■────────────────────────────■───────■─────────────────────────■────────────────────────────────────────────────────────────────────────────────────────────────────────\n",
              "         └─────────┘└────┘└────────────┘                                                                                                                                                                                                            </pre>"
            ]
          },
          "metadata": {},
          "execution_count": 34
        }
      ]
    },
    {
      "cell_type": "code",
      "source": [
        "pg = Gate('Peres', 3, params=[], label='PG')"
      ],
      "metadata": {
        "id": "eC-0U7J5Jph-"
      },
      "execution_count": null,
      "outputs": []
    },
    {
      "cell_type": "code",
      "source": [
        "qc_pg = QuantumCircuit(3)\n",
        "qc_pg.append(pg, [0, 1, 2])\n",
        "qc_pg.draw()"
      ],
      "metadata": {
        "colab": {
          "base_uri": "https://localhost:8080/",
          "height": 125
        },
        "id": "pw9kxCO2JsWc",
        "outputId": "8e5db2ae-4f4b-490e-e5ab-479007e681b9"
      },
      "execution_count": null,
      "outputs": [
        {
          "output_type": "execute_result",
          "data": {
            "text/plain": [
              "     ┌─────┐\n",
              "q_0: ┤0    ├\n",
              "     │     │\n",
              "q_1: ┤1 PG ├\n",
              "     │     │\n",
              "q_2: ┤2    ├\n",
              "     └─────┘"
            ],
            "text/html": [
              "<pre style=\"word-wrap: normal;white-space: pre;background: #fff0;line-height: 1.1;font-family: &quot;Courier New&quot;,Courier,monospace\">     ┌─────┐\n",
              "q_0: ┤0    ├\n",
              "     │     │\n",
              "q_1: ┤1 PG ├\n",
              "     │     │\n",
              "q_2: ┤2    ├\n",
              "     └─────┘</pre>"
            ]
          },
          "metadata": {},
          "execution_count": 36
        }
      ]
    },
    {
      "cell_type": "code",
      "source": [
        "def get_qc_in(nq):\n",
        "    # QFT circuit, feel free to use a previously defined pass manager for the QFT circuit\n",
        "    qc_qft = QFT(nq, do_swaps=False)\n",
        "    # part of the circuit including the Peres gate\n",
        "    qc_inner = QuantumCircuit(nq)\n",
        "    for i in range(1, nq-1):\n",
        "        qc_inner.append(pg, [nq-i-2, nq-i-1, nq-1])\n",
        "\n",
        "    qc_in = QuantumCircuit(nq)\n",
        "    # add QFT circuit to qc_in\n",
        "    qc_in.compose(qc_qft, range(nq), inplace=True)\n",
        "\n",
        "    # perform swap gates\n",
        "    for i in range(nq // 2):\n",
        "        qc_in.cx(i, nq - i - 1)\n",
        "        qc_in.cx( nq - i - 1, i)\n",
        "        qc_in.cx(i, nq - i - 1)\n",
        "\n",
        "    qc_in.rz(pi, nq-1)\n",
        "    # add circuit with peres gates\n",
        "    qc_in.compose(qc_inner, range(nq), inplace=True)\n",
        "\n",
        "    # perform swap gates\n",
        "    for i in range(nq // 2):\n",
        "        qc_in.cx(i, nq - i - 1)\n",
        "        qc_in.cx( nq - i - 1, i)\n",
        "        qc_in.cx(i, nq - i - 1)\n",
        "    # add inverse QFT circuit\n",
        "    qc_in.compose(qc_qft.inverse(), range(nq), inplace=True)\n",
        "    return qc_in\n",
        "\n",
        "nq = 5\n",
        "qc_in = get_qc_in(nq)\n",
        "qc_in.draw(fold=-1)"
      ],
      "metadata": {
        "colab": {
          "base_uri": "https://localhost:8080/",
          "height": 186
        },
        "id": "Er2A0nBoJtQi",
        "outputId": "1a6114e8-9d4d-4d76-b78a-2b51d7394541"
      },
      "execution_count": null,
      "outputs": [
        {
          "output_type": "execute_result",
          "data": {
            "text/plain": [
              "     ┌──────┐          ┌───┐                                 ┌─────┐          ┌───┐               ┌───────┐\n",
              "q_0: ┤0     ├──■───────┤ X ├───────■─────────────────────────┤0    ├──■───────┤ X ├───────■───────┤0      ├\n",
              "     │      │  │       └─┬─┘┌───┐  │                  ┌─────┐│     │  │       └─┬─┘┌───┐  │       │       │\n",
              "q_1: ┤1     ├──┼────■────┼──┤ X ├──┼──────■───────────┤0    ├┤1    ├──┼────■────┼──┤ X ├──┼────■──┤1      ├\n",
              "     │      │  │    │    │  └─┬─┘  │      │    ┌─────┐│     ││     │  │    │    │  └─┬─┘  │    │  │       │\n",
              "q_2: ┤2 QFT ├──┼────┼────┼────┼────┼──────┼────┤0    ├┤1    ├┤  PG ├──┼────┼────┼────┼────┼────┼──┤2 IQFT ├\n",
              "     │      │  │  ┌─┴─┐  │    │    │    ┌─┴─┐  │     ││  PG ││     │  │  ┌─┴─┐  │    │    │  ┌─┴─┐│       │\n",
              "q_3: ┤3     ├──┼──┤ X ├──┼────■────┼────┤ X ├──┤1 PG ├┤     ├┤     ├──┼──┤ X ├──┼────■────┼──┤ X ├┤3      ├\n",
              "     │      │┌─┴─┐└───┘  │       ┌─┴─┐┌─┴───┴─┐│     ││     ││     │┌─┴─┐└───┘  │       ┌─┴─┐└───┘│       │\n",
              "q_4: ┤4     ├┤ X ├───────■───────┤ X ├┤ Rz(π) ├┤2    ├┤2    ├┤2    ├┤ X ├───────■───────┤ X ├─────┤4      ├\n",
              "     └──────┘└───┘               └───┘└───────┘└─────┘└─────┘└─────┘└───┘               └───┘     └───────┘"
            ],
            "text/html": [
              "<pre style=\"word-wrap: normal;white-space: pre;background: #fff0;line-height: 1.1;font-family: &quot;Courier New&quot;,Courier,monospace\">     ┌──────┐          ┌───┐                                 ┌─────┐          ┌───┐               ┌───────┐\n",
              "q_0: ┤0     ├──■───────┤ X ├───────■─────────────────────────┤0    ├──■───────┤ X ├───────■───────┤0      ├\n",
              "     │      │  │       └─┬─┘┌───┐  │                  ┌─────┐│     │  │       └─┬─┘┌───┐  │       │       │\n",
              "q_1: ┤1     ├──┼────■────┼──┤ X ├──┼──────■───────────┤0    ├┤1    ├──┼────■────┼──┤ X ├──┼────■──┤1      ├\n",
              "     │      │  │    │    │  └─┬─┘  │      │    ┌─────┐│     ││     │  │    │    │  └─┬─┘  │    │  │       │\n",
              "q_2: ┤2 QFT ├──┼────┼────┼────┼────┼──────┼────┤0    ├┤1    ├┤  PG ├──┼────┼────┼────┼────┼────┼──┤2 IQFT ├\n",
              "     │      │  │  ┌─┴─┐  │    │    │    ┌─┴─┐  │     ││  PG ││     │  │  ┌─┴─┐  │    │    │  ┌─┴─┐│       │\n",
              "q_3: ┤3     ├──┼──┤ X ├──┼────■────┼────┤ X ├──┤1 PG ├┤     ├┤     ├──┼──┤ X ├──┼────■────┼──┤ X ├┤3      ├\n",
              "     │      │┌─┴─┐└───┘  │       ┌─┴─┐┌─┴───┴─┐│     ││     ││     │┌─┴─┐└───┘  │       ┌─┴─┐└───┘│       │\n",
              "q_4: ┤4     ├┤ X ├───────■───────┤ X ├┤ Rz(π) ├┤2    ├┤2    ├┤2    ├┤ X ├───────■───────┤ X ├─────┤4      ├\n",
              "     └──────┘└───┘               └───┘└───────┘└─────┘└─────┘└─────┘└───┘               └───┘     └───────┘</pre>"
            ]
          },
          "metadata": {},
          "execution_count": 37
        }
      ]
    },
    {
      "cell_type": "code",
      "source": [
        "class PeresGateTranslation(TransformationPass):\n",
        "    def get_peres_decomposition(self):\n",
        "        qcsx = QuantumCircuit(2)\n",
        "        qcsx.rz(pi / 4, 0)\n",
        "        qcsx.rz(pi / 2, 1)\n",
        "        qcsx.sx(1)\n",
        "        qcsx.rz(pi / 2, 1)\n",
        "        qcsx.cx(0, 1)\n",
        "        qcsx.rz(-pi / 4, 1)\n",
        "        qcsx.cx(0, 1)\n",
        "        qcsx.rz(3 * pi / 4, 1)\n",
        "        qcsx.sx(1)\n",
        "        qcsx.rz(pi / 2, 1)\n",
        "\n",
        "        qcsx_inv = QuantumCircuit(2)\n",
        "        qcsx_inv.rz(pi / 4, 1)\n",
        "        qcsx_inv.cx(0, 1)\n",
        "        qcsx_inv.rz(-pi / 4, 1)\n",
        "        qcsx_inv.cx(0, 1)\n",
        "        qcsx_inv.rz(pi / 2, 0)\n",
        "        qcsx_inv.rz(pi / 2, 1)\n",
        "        qcsx_inv.cx(0, 1)\n",
        "        qcsx_inv.rz(pi / 2, 1)\n",
        "        qcsx_inv.sx(1)\n",
        "        qcsx_inv.rz(-3 * pi / 4, 1)\n",
        "        qcsx_inv.sx(1)\n",
        "        qcsx_inv.cx(0, 1)\n",
        "        qcsx_inv.sx(1)\n",
        "        qcsx_inv.rz(-3 * pi / 4, 1)\n",
        "        qcsx_inv.sx(1)\n",
        "        qcsx_inv.rz(-3 * pi / 4, 1)\n",
        "        qcsx_inv.cx(0, 1)\n",
        "        qcsx_inv.rz(-pi / 4, 1)\n",
        "        qcsx_inv.cx(0, 1)\n",
        "        qcsx_inv.rz(pi / 4, 0)\n",
        "\n",
        "        qc_dec = QuantumCircuit(3)\n",
        "        qc_dec.cx(0, 1)\n",
        "        qc_dec.cx(1, 0)\n",
        "        qc_dec.cx(0, 1)\n",
        "        qc_dec.compose(qcsx, [1, 2], inplace=True)\n",
        "        qc_dec.cx(0, 1)\n",
        "        qc_dec.cx(1, 0)\n",
        "        qc_dec.cx(0, 1)\n",
        "        qc_dec.compose(qcsx, [1, 2], inplace=True)\n",
        "        qc_dec.cx(0, 1)\n",
        "        qc_dec.compose(qcsx_inv, [1, 2], inplace=True)\n",
        "        qc_dec.cx(0, 1)\n",
        "        qc_dec.cx(0, 1)\n",
        "        return qc_dec\n",
        "\n",
        "    # Your work here - make sure you implement every abstract method defined by https://docs.quantum.ibm.com/api/qiskit/qiskit.transpiler.TransformationPass!\n",
        "    def run(self, dag: DAGCircuit):  # pylint: disable=arguments-differ\n",
        "        for i in dag.op_nodes():\n",
        "            if i.op.name == 'Peres':\n",
        "                circuit = self.get_peres_decomposition()\n",
        "                sub_dag = circuit_to_dag(circuit=circuit)\n",
        "                dag.substitute_node_with_dag(node=i, input_dag=sub_dag, wires=circuit.qubits)\n",
        "        return dag\n"
      ],
      "metadata": {
        "id": "5nNliU3-JtDH"
      },
      "execution_count": null,
      "outputs": []
    },
    {
      "cell_type": "code",
      "source": [
        "# grade your work!\n",
        "grade_lab1_ex7(PeresGateTranslation, pg)"
      ],
      "metadata": {
        "colab": {
          "base_uri": "https://localhost:8080/"
        },
        "id": "koRBLepeJs93",
        "outputId": "9955c89b-aa47-46a2-ccc3-c96be6ff8732"
      },
      "execution_count": null,
      "outputs": [
        {
          "output_type": "stream",
          "name": "stdout",
          "text": [
            "Submitting your answer. Please wait...\n",
            "Congratulations 🎉! Your answer is correct and has been submitted.\n"
          ]
        }
      ]
    }
  ]
}
